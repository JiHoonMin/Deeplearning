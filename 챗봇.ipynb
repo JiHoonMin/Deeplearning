{
  "nbformat": 4,
  "nbformat_minor": 0,
  "metadata": {
    "colab": {
      "name": "chat bot.ipynb",
      "provenance": [],
      "collapsed_sections": [],
      "authorship_tag": "ABX9TyMKYeGe3dxsPhLlJCOXUCBX",
      "include_colab_link": true
    },
    "kernelspec": {
      "name": "python3",
      "display_name": "Python 3"
    },
    "accelerator": "GPU"
  },
  "cells": [
    {
      "cell_type": "markdown",
      "metadata": {
        "id": "view-in-github",
        "colab_type": "text"
      },
      "source": [
        "<a href=\"https://colab.research.google.com/github/JiHoonMin/deeplearning/blob/main/chat_bot.ipynb\" target=\"_parent\"><img src=\"https://colab.research.google.com/assets/colab-badge.svg\" alt=\"Open In Colab\"/></a>"
      ]
    },
    {
      "cell_type": "code",
      "metadata": {
        "colab": {
          "base_uri": "https://localhost:8080/"
        },
        "id": "CtHVWULOKo96",
        "outputId": "3d7acbda-e3fc-47d8-8028-42a0008e1164"
      },
      "source": [
        "!pip install flask-ngrok"
      ],
      "execution_count": null,
      "outputs": [
        {
          "output_type": "stream",
          "text": [
            "Collecting flask-ngrok\n",
            "  Downloading https://files.pythonhosted.org/packages/af/6c/f54cb686ad1129e27d125d182f90f52b32f284e6c8df58c1bae54fa1adbc/flask_ngrok-0.0.25-py3-none-any.whl\n",
            "Requirement already satisfied: Flask>=0.8 in /usr/local/lib/python3.6/dist-packages (from flask-ngrok) (1.1.2)\n",
            "Requirement already satisfied: requests in /usr/local/lib/python3.6/dist-packages (from flask-ngrok) (2.23.0)\n",
            "Requirement already satisfied: Werkzeug>=0.15 in /usr/local/lib/python3.6/dist-packages (from Flask>=0.8->flask-ngrok) (1.0.1)\n",
            "Requirement already satisfied: Jinja2>=2.10.1 in /usr/local/lib/python3.6/dist-packages (from Flask>=0.8->flask-ngrok) (2.11.2)\n",
            "Requirement already satisfied: itsdangerous>=0.24 in /usr/local/lib/python3.6/dist-packages (from Flask>=0.8->flask-ngrok) (1.1.0)\n",
            "Requirement already satisfied: click>=5.1 in /usr/local/lib/python3.6/dist-packages (from Flask>=0.8->flask-ngrok) (7.1.2)\n",
            "Requirement already satisfied: certifi>=2017.4.17 in /usr/local/lib/python3.6/dist-packages (from requests->flask-ngrok) (2020.11.8)\n",
            "Requirement already satisfied: chardet<4,>=3.0.2 in /usr/local/lib/python3.6/dist-packages (from requests->flask-ngrok) (3.0.4)\n",
            "Requirement already satisfied: idna<3,>=2.5 in /usr/local/lib/python3.6/dist-packages (from requests->flask-ngrok) (2.10)\n",
            "Requirement already satisfied: urllib3!=1.25.0,!=1.25.1,<1.26,>=1.21.1 in /usr/local/lib/python3.6/dist-packages (from requests->flask-ngrok) (1.24.3)\n",
            "Requirement already satisfied: MarkupSafe>=0.23 in /usr/local/lib/python3.6/dist-packages (from Jinja2>=2.10.1->Flask>=0.8->flask-ngrok) (1.1.1)\n",
            "Installing collected packages: flask-ngrok\n",
            "Successfully installed flask-ngrok-0.0.25\n"
          ],
          "name": "stdout"
        }
      ]
    },
    {
      "cell_type": "code",
      "metadata": {
        "id": "coAmbOyMLFtD"
      },
      "source": [
        "from flask_ngrok import run_with_ngrok"
      ],
      "execution_count": null,
      "outputs": []
    },
    {
      "cell_type": "code",
      "metadata": {
        "id": "TzxNVnzDLJ3Q"
      },
      "source": [
        "from flask import Flask\n",
        "\n",
        "app = Flask(__name__)\n",
        "\n",
        "@app.route('/')\n",
        "def hello_world():\n",
        "    return 'Hello World'"
      ],
      "execution_count": null,
      "outputs": []
    },
    {
      "cell_type": "code",
      "metadata": {
        "colab": {
          "base_uri": "https://localhost:8080/"
        },
        "id": "qcBp5y9mLPj8",
        "outputId": "93907b27-789d-43d9-e78e-ebb3dc0a2095"
      },
      "source": [
        "run_with_ngrok(app) # Flask 앱이 실행될 때 Ngrok을 활성화 합니다.\n",
        "app.run()"
      ],
      "execution_count": null,
      "outputs": [
        {
          "output_type": "stream",
          "text": [
            " * Serving Flask app \"__main__\" (lazy loading)\n",
            " * Environment: production\n",
            "\u001b[31m   WARNING: This is a development server. Do not use it in a production deployment.\u001b[0m\n",
            "\u001b[2m   Use a production WSGI server instead.\u001b[0m\n",
            " * Debug mode: off\n"
          ],
          "name": "stdout"
        },
        {
          "output_type": "stream",
          "text": [
            " * Running on http://127.0.0.1:5000/ (Press CTRL+C to quit)\n"
          ],
          "name": "stderr"
        },
        {
          "output_type": "stream",
          "text": [
            " * Running on http://b52681a0b6d5.ngrok.io\n",
            " * Traffic stats available on http://127.0.0.1:4040\n"
          ],
          "name": "stdout"
        },
        {
          "output_type": "stream",
          "text": [
            "127.0.0.1 - - [27/Nov/2020 10:08:58] \"\u001b[37mGET / HTTP/1.1\u001b[0m\" 200 -\n",
            "127.0.0.1 - - [27/Nov/2020 10:08:58] \"\u001b[33mGET /favicon.ico HTTP/1.1\u001b[0m\" 404 -\n"
          ],
          "name": "stderr"
        }
      ]
    },
    {
      "cell_type": "code",
      "metadata": {
        "id": "sGcdbV5yLT8Q"
      },
      "source": [
        "from flask import Flask\n",
        "\n",
        "app = Flask(__name__)\n",
        "\n",
        "@app.route('/')\n",
        "def hello_world():\n",
        "    return 'Hello World'\n",
        "\n",
        "# 문자열 파라미터 받기\n",
        "@app.route('/friend/<friend_name>')\n",
        "def friend(friend_name):\n",
        "    return 'Friend name is ' + friend_name + '!'\n",
        "\n",
        "# 정수형 파라미터 받기\n",
        "@app.route('/student/<int:student_id>')\n",
        "def student(student_id):\n",
        "    for i in range(i,student_id):\n",
        "      student_id = i\n",
        "    return 'Student ID is ' + str(student_id) + '!'"
      ],
      "execution_count": null,
      "outputs": []
    },
    {
      "cell_type": "code",
      "metadata": {
        "colab": {
          "base_uri": "https://localhost:8080/"
        },
        "id": "Ju8wpI1kQwmR",
        "outputId": "928dfcff-f3f6-47ca-feb9-a004e0742d4d"
      },
      "source": [
        "run_with_ngrok(app) # Flask 앱이 실행될 때 Ngrok을 활성화 합니다.\n",
        "app.run()"
      ],
      "execution_count": null,
      "outputs": [
        {
          "output_type": "stream",
          "text": [
            " * Serving Flask app \"__main__\" (lazy loading)\n",
            " * Environment: production\n",
            "\u001b[31m   WARNING: This is a development server. Do not use it in a production deployment.\u001b[0m\n",
            "\u001b[2m   Use a production WSGI server instead.\u001b[0m\n",
            " * Debug mode: off\n"
          ],
          "name": "stdout"
        },
        {
          "output_type": "stream",
          "text": [
            " * Running on http://127.0.0.1:5000/ (Press CTRL+C to quit)\n"
          ],
          "name": "stderr"
        },
        {
          "output_type": "stream",
          "text": [
            " * Running on http://fb517498bf5e.ngrok.io\n",
            " * Traffic stats available on http://127.0.0.1:4040\n"
          ],
          "name": "stdout"
        },
        {
          "output_type": "stream",
          "text": [
            "127.0.0.1 - - [27/Nov/2020 10:59:34] \"\u001b[37mGET / HTTP/1.1\u001b[0m\" 200 -\n",
            "127.0.0.1 - - [27/Nov/2020 10:59:34] \"\u001b[33mGET /favicon.ico HTTP/1.1\u001b[0m\" 404 -\n",
            "[2020-11-27 10:59:40,869] ERROR in app: Exception on /student/5 [GET]\n",
            "Traceback (most recent call last):\n",
            "  File \"/usr/local/lib/python3.6/dist-packages/flask/app.py\", line 2447, in wsgi_app\n",
            "    response = self.full_dispatch_request()\n",
            "  File \"/usr/local/lib/python3.6/dist-packages/flask/app.py\", line 1952, in full_dispatch_request\n",
            "    rv = self.handle_user_exception(e)\n",
            "  File \"/usr/local/lib/python3.6/dist-packages/flask/app.py\", line 1821, in handle_user_exception\n",
            "    reraise(exc_type, exc_value, tb)\n",
            "  File \"/usr/local/lib/python3.6/dist-packages/flask/_compat.py\", line 39, in reraise\n",
            "    raise value\n",
            "  File \"/usr/local/lib/python3.6/dist-packages/flask/app.py\", line 1950, in full_dispatch_request\n",
            "    rv = self.dispatch_request()\n",
            "  File \"/usr/local/lib/python3.6/dist-packages/flask/app.py\", line 1936, in dispatch_request\n",
            "    return self.view_functions[rule.endpoint](**req.view_args)\n",
            "  File \"<ipython-input-28-f3ccb50fcba9>\", line 17, in student\n",
            "    for i in range(i,student_id):\n",
            "UnboundLocalError: local variable 'i' referenced before assignment\n",
            "127.0.0.1 - - [27/Nov/2020 10:59:40] \"\u001b[35m\u001b[1mGET /student/5 HTTP/1.1\u001b[0m\" 500 -\n"
          ],
          "name": "stderr"
        }
      ]
    },
    {
      "cell_type": "code",
      "metadata": {
        "id": "YhXF5XoFQ2lP"
      },
      "source": [
        "from flask import Flask\n",
        "from flask import jsonify\n",
        "\n",
        "app = Flask(__name__)\n",
        "\n",
        "# 정수형 파라미터 받기\n",
        "@app.route('/sum/<int:sum_num>')\n",
        "def student(sum_num):\n",
        "   sum = 0\n",
        "   for i in range(1,sum_num+1):\n",
        "     sum = sum + i\n",
        "   return 'sum_num is' + str(sum)"
      ],
      "execution_count": null,
      "outputs": []
    },
    {
      "cell_type": "code",
      "metadata": {
        "id": "-7Mhwk_5RxBa"
      },
      "source": [
        "from flask_ngrok import run_with_ngrok"
      ],
      "execution_count": null,
      "outputs": []
    },
    {
      "cell_type": "code",
      "metadata": {
        "colab": {
          "base_uri": "https://localhost:8080/"
        },
        "id": "J22ghh7YQ28N",
        "outputId": "aeb91e96-4246-4e35-8b5a-ac0a49683b68"
      },
      "source": [
        "run_with_ngrok(app) # Flask 앱이 실행될 때 Ngrok을 활성화 합니다.\n",
        "app.run()"
      ],
      "execution_count": null,
      "outputs": [
        {
          "output_type": "stream",
          "text": [
            " * Serving Flask app \"__main__\" (lazy loading)\n",
            " * Environment: production\n",
            "\u001b[31m   WARNING: This is a development server. Do not use it in a production deployment.\u001b[0m\n",
            "\u001b[2m   Use a production WSGI server instead.\u001b[0m\n",
            " * Debug mode: off\n"
          ],
          "name": "stdout"
        },
        {
          "output_type": "stream",
          "text": [
            " * Running on http://127.0.0.1:5000/ (Press CTRL+C to quit)\n"
          ],
          "name": "stderr"
        },
        {
          "output_type": "stream",
          "text": [
            " * Running on http://b60c72dae7a7.ngrok.io\n",
            " * Traffic stats available on http://127.0.0.1:4040\n"
          ],
          "name": "stdout"
        },
        {
          "output_type": "stream",
          "text": [
            "127.0.0.1 - - [27/Nov/2020 11:05:04] \"\u001b[33mGET / HTTP/1.1\u001b[0m\" 404 -\n",
            "127.0.0.1 - - [27/Nov/2020 11:05:04] \"\u001b[33mGET /favicon.ico HTTP/1.1\u001b[0m\" 404 -\n",
            "127.0.0.1 - - [27/Nov/2020 11:05:09] \"\u001b[37mGET /sum/5 HTTP/1.1\u001b[0m\" 200 -\n"
          ],
          "name": "stderr"
        }
      ]
    },
    {
      "cell_type": "markdown",
      "metadata": {
        "id": "8bx5w7MOwTwB"
      },
      "source": [
        "#텔레그램 챗봇\n"
      ]
    },
    {
      "cell_type": "code",
      "metadata": {
        "id": "rViXiS7dRKaf"
      },
      "source": [
        "# 필요한 라이브러리들을 불러옵니다.\n",
        "import requests\n",
        "import json"
      ],
      "execution_count": null,
      "outputs": []
    },
    {
      "cell_type": "code",
      "metadata": {
        "id": "OkZeKhCfwTHV"
      },
      "source": [
        "# 실제 서비스에서는 토큰(Token) 값을 하드코딩하면 안 됩니다. (모든 토큰은 환경 변수로 등록 요망)\n",
        "token = \"1437358786:AAHfatnGF0Xt0VrJYqWUgZlomyH2Ag3MjEQ\""
      ],
      "execution_count": null,
      "outputs": []
    },
    {
      "cell_type": "code",
      "metadata": {
        "colab": {
          "base_uri": "https://localhost:8080/"
        },
        "id": "NmFUoN4zwcFg",
        "outputId": "faeb8542-a60a-4f83-b058-7127f8118ef1"
      },
      "source": [
        "# 기본 챗봇 정보를 받아옵니다.\n",
        "url = 'https://api.telegram.org/bot{}/getMe'.format(token)\n",
        "response = json.loads(requests.get(url).text)\n",
        "\n",
        "# 응답 결과를 출력해 봅시다.\n",
        "print(response)"
      ],
      "execution_count": null,
      "outputs": [
        {
          "output_type": "stream",
          "text": [
            "{'ok': True, 'result': {'id': 1437358786, 'is_bot': True, 'first_name': 'JH_testversion_Bot', 'username': 'JH_testversion_bot', 'can_join_groups': True, 'can_read_all_group_messages': False, 'supports_inline_queries': False}}\n"
          ],
          "name": "stdout"
        }
      ]
    },
    {
      "cell_type": "code",
      "metadata": {
        "colab": {
          "base_uri": "https://localhost:8080/"
        },
        "id": "jCqMFWsPwdsT",
        "outputId": "45a96d52-bf0c-4218-e50f-41996959edb0"
      },
      "source": [
        "# 챗봇의 이름을 출력합니다.\n",
        "print(\"챗봇 이름:\", response[\"result\"][\"username\"])"
      ],
      "execution_count": null,
      "outputs": [
        {
          "output_type": "stream",
          "text": [
            "챗봇 이름: JH_testversion_bot\n"
          ],
          "name": "stdout"
        }
      ]
    },
    {
      "cell_type": "code",
      "metadata": {
        "colab": {
          "base_uri": "https://localhost:8080/"
        },
        "id": "_DhWtfJuwlMb",
        "outputId": "d3b605f0-2e9e-4255-e6b6-ce440a585d35"
      },
      "source": [
        "# 챗봇에서 최근 업데이트 된 내용을 받아옵니다.\n",
        "url = 'https://api.telegram.org/bot{}/getUpdates'.format(token)\n",
        "response = json.loads(requests.get(url).text)\n",
        "\n",
        "# 응답 결과를 출력해 봅시다.\n",
        "print(response)"
      ],
      "execution_count": null,
      "outputs": [
        {
          "output_type": "stream",
          "text": [
            "{'ok': True, 'result': [{'update_id': 660728535, 'message': {'message_id': 3, 'from': {'id': 1489871997, 'is_bot': False, 'first_name': '지훈', 'last_name': '민', 'language_code': 'ko'}, 'chat': {'id': 1489871997, 'first_name': '지훈', 'last_name': '민', 'type': 'private'}, 'date': 1606481546, 'text': '안녕'}}, {'update_id': 660728536, 'message': {'message_id': 4, 'from': {'id': 1489871997, 'is_bot': False, 'first_name': '지훈', 'last_name': '민', 'language_code': 'ko'}, 'chat': {'id': 1489871997, 'first_name': '지훈', 'last_name': '민', 'type': 'private'}, 'date': 1606481613, 'text': '/start', 'entities': [{'offset': 0, 'length': 6, 'type': 'bot_command'}]}}, {'update_id': 660728537, 'message': {'message_id': 5, 'from': {'id': 1489871997, 'is_bot': False, 'first_name': '지훈', 'last_name': '민', 'language_code': 'ko'}, 'chat': {'id': 1489871997, 'first_name': '지훈', 'last_name': '민', 'type': 'private'}, 'date': 1606481616, 'text': '안녕'}}, {'update_id': 660728538, 'message': {'message_id': 6, 'from': {'id': 1489871997, 'is_bot': False, 'first_name': '지훈', 'last_name': '민', 'language_code': 'ko'}, 'chat': {'id': 1489871997, 'first_name': '지훈', 'last_name': '민', 'type': 'private'}, 'date': 1606481692, 'text': '안녕'}}, {'update_id': 660728539, 'message': {'message_id': 7, 'from': {'id': 1489871997, 'is_bot': False, 'first_name': '지훈', 'last_name': '민', 'language_code': 'ko'}, 'chat': {'id': 1489871997, 'first_name': '지훈', 'last_name': '민', 'type': 'private'}, 'date': 1606481694, 'text': '안녕'}}, {'update_id': 660728540, 'message': {'message_id': 8, 'from': {'id': 1489871997, 'is_bot': False, 'first_name': '지훈', 'last_name': '민', 'language_code': 'ko'}, 'chat': {'id': 1489871997, 'first_name': '지훈', 'last_name': '민', 'type': 'private'}, 'date': 1606481695, 'text': '안녕'}}, {'update_id': 660728541, 'message': {'message_id': 9, 'from': {'id': 1489871997, 'is_bot': False, 'first_name': '지훈', 'last_name': '민', 'language_code': 'ko'}, 'chat': {'id': 1489871997, 'first_name': '지훈', 'last_name': '민', 'type': 'private'}, 'date': 1606481720, 'text': '/start', 'entities': [{'offset': 0, 'length': 6, 'type': 'bot_command'}]}}, {'update_id': 660728542, 'message': {'message_id': 10, 'from': {'id': 1489871997, 'is_bot': False, 'first_name': '지훈', 'last_name': '민', 'language_code': 'ko'}, 'chat': {'id': 1489871997, 'first_name': '지훈', 'last_name': '민', 'type': 'private'}, 'date': 1606481725, 'text': '안녕'}}]}\n"
          ],
          "name": "stdout"
        }
      ]
    },
    {
      "cell_type": "code",
      "metadata": {
        "colab": {
          "base_uri": "https://localhost:8080/"
        },
        "id": "8XL3Wc3rwuso",
        "outputId": "559359bb-bae8-4b8c-b7cd-532cdbf9d3b6"
      },
      "source": [
        "print(response)"
      ],
      "execution_count": null,
      "outputs": [
        {
          "output_type": "stream",
          "text": [
            "{'ok': True, 'result': [{'update_id': 660728535, 'message': {'message_id': 3, 'from': {'id': 1489871997, 'is_bot': False, 'first_name': '지훈', 'last_name': '민', 'language_code': 'ko'}, 'chat': {'id': 1489871997, 'first_name': '지훈', 'last_name': '민', 'type': 'private'}, 'date': 1606481546, 'text': '안녕'}}, {'update_id': 660728536, 'message': {'message_id': 4, 'from': {'id': 1489871997, 'is_bot': False, 'first_name': '지훈', 'last_name': '민', 'language_code': 'ko'}, 'chat': {'id': 1489871997, 'first_name': '지훈', 'last_name': '민', 'type': 'private'}, 'date': 1606481613, 'text': '/start', 'entities': [{'offset': 0, 'length': 6, 'type': 'bot_command'}]}}, {'update_id': 660728537, 'message': {'message_id': 5, 'from': {'id': 1489871997, 'is_bot': False, 'first_name': '지훈', 'last_name': '민', 'language_code': 'ko'}, 'chat': {'id': 1489871997, 'first_name': '지훈', 'last_name': '민', 'type': 'private'}, 'date': 1606481616, 'text': '안녕'}}, {'update_id': 660728538, 'message': {'message_id': 6, 'from': {'id': 1489871997, 'is_bot': False, 'first_name': '지훈', 'last_name': '민', 'language_code': 'ko'}, 'chat': {'id': 1489871997, 'first_name': '지훈', 'last_name': '민', 'type': 'private'}, 'date': 1606481692, 'text': '안녕'}}, {'update_id': 660728539, 'message': {'message_id': 7, 'from': {'id': 1489871997, 'is_bot': False, 'first_name': '지훈', 'last_name': '민', 'language_code': 'ko'}, 'chat': {'id': 1489871997, 'first_name': '지훈', 'last_name': '민', 'type': 'private'}, 'date': 1606481694, 'text': '안녕'}}, {'update_id': 660728540, 'message': {'message_id': 8, 'from': {'id': 1489871997, 'is_bot': False, 'first_name': '지훈', 'last_name': '민', 'language_code': 'ko'}, 'chat': {'id': 1489871997, 'first_name': '지훈', 'last_name': '민', 'type': 'private'}, 'date': 1606481695, 'text': '안녕'}}, {'update_id': 660728541, 'message': {'message_id': 9, 'from': {'id': 1489871997, 'is_bot': False, 'first_name': '지훈', 'last_name': '민', 'language_code': 'ko'}, 'chat': {'id': 1489871997, 'first_name': '지훈', 'last_name': '민', 'type': 'private'}, 'date': 1606481720, 'text': '/start', 'entities': [{'offset': 0, 'length': 6, 'type': 'bot_command'}]}}, {'update_id': 660728542, 'message': {'message_id': 10, 'from': {'id': 1489871997, 'is_bot': False, 'first_name': '지훈', 'last_name': '민', 'language_code': 'ko'}, 'chat': {'id': 1489871997, 'first_name': '지훈', 'last_name': '민', 'type': 'private'}, 'date': 1606481725, 'text': '안녕'}}]}\n"
          ],
          "name": "stdout"
        }
      ]
    },
    {
      "cell_type": "code",
      "metadata": {
        "colab": {
          "base_uri": "https://localhost:8080/"
        },
        "id": "hQkpq0zKwy1M",
        "outputId": "20663587-9cd9-48ef-efa8-3270b1f40dac"
      },
      "source": [
        "# 가장 최근에 받은 메시지의 채팅방 번호\n",
        "chat_id = response[\"result\"][-1][\"message\"][\"from\"][\"id\"]\n",
        "print(\"채팅창 번호:\", chat_id)\n",
        "\n",
        "# 가장 최근에 받은 메시지의 내용\n",
        "msg = response[\"result\"][-1][\"message\"][\"text\"]\n",
        "print(\"채팅창 번호:\", msg)"
      ],
      "execution_count": null,
      "outputs": [
        {
          "output_type": "stream",
          "text": [
            "채팅창 번호: 1489871997\n",
            "채팅창 번호: 안녕\n"
          ],
          "name": "stdout"
        }
      ]
    },
    {
      "cell_type": "code",
      "metadata": {
        "id": "UEx8U8rIxh8_"
      },
      "source": [
        ""
      ],
      "execution_count": null,
      "outputs": []
    },
    {
      "cell_type": "code",
      "metadata": {
        "id": "TY9iD-sfxeDT"
      },
      "source": [
        ""
      ],
      "execution_count": null,
      "outputs": []
    },
    {
      "cell_type": "code",
      "metadata": {
        "id": "jv0O3i99xYBQ"
      },
      "source": [
        ""
      ],
      "execution_count": null,
      "outputs": []
    },
    {
      "cell_type": "code",
      "metadata": {
        "id": "_b-1WJWgxIRj"
      },
      "source": [
        ""
      ],
      "execution_count": null,
      "outputs": []
    },
    {
      "cell_type": "code",
      "metadata": {
        "id": "G-L9mfAGxESM"
      },
      "source": [
        ""
      ],
      "execution_count": null,
      "outputs": []
    },
    {
      "cell_type": "code",
      "metadata": {
        "id": "1oq8du8-w8fe"
      },
      "source": [
        "import numpy as np\n",
        "import matplotlib.pyplot as plt\n"
      ],
      "execution_count": null,
      "outputs": []
    },
    {
      "cell_type": "code",
      "metadata": {
        "colab": {
          "base_uri": "https://localhost:8080/"
        },
        "id": "edMJzIgPzspA",
        "outputId": "e7ce9be2-2fc7-4e0a-dd4f-b0ab4a96bb34"
      },
      "source": [
        "data_size = 100\n",
        "\n",
        "data_x =np.linspace(0,10, data_size)\n",
        "\n",
        "print(data_x)"
      ],
      "execution_count": null,
      "outputs": [
        {
          "output_type": "stream",
          "text": [
            "[ 0.          0.1010101   0.2020202   0.3030303   0.4040404   0.50505051\n",
            "  0.60606061  0.70707071  0.80808081  0.90909091  1.01010101  1.11111111\n",
            "  1.21212121  1.31313131  1.41414141  1.51515152  1.61616162  1.71717172\n",
            "  1.81818182  1.91919192  2.02020202  2.12121212  2.22222222  2.32323232\n",
            "  2.42424242  2.52525253  2.62626263  2.72727273  2.82828283  2.92929293\n",
            "  3.03030303  3.13131313  3.23232323  3.33333333  3.43434343  3.53535354\n",
            "  3.63636364  3.73737374  3.83838384  3.93939394  4.04040404  4.14141414\n",
            "  4.24242424  4.34343434  4.44444444  4.54545455  4.64646465  4.74747475\n",
            "  4.84848485  4.94949495  5.05050505  5.15151515  5.25252525  5.35353535\n",
            "  5.45454545  5.55555556  5.65656566  5.75757576  5.85858586  5.95959596\n",
            "  6.06060606  6.16161616  6.26262626  6.36363636  6.46464646  6.56565657\n",
            "  6.66666667  6.76767677  6.86868687  6.96969697  7.07070707  7.17171717\n",
            "  7.27272727  7.37373737  7.47474747  7.57575758  7.67676768  7.77777778\n",
            "  7.87878788  7.97979798  8.08080808  8.18181818  8.28282828  8.38383838\n",
            "  8.48484848  8.58585859  8.68686869  8.78787879  8.88888889  8.98989899\n",
            "  9.09090909  9.19191919  9.29292929  9.39393939  9.49494949  9.5959596\n",
            "  9.6969697   9.7979798   9.8989899  10.        ]\n"
          ],
          "name": "stdout"
        }
      ]
    },
    {
      "cell_type": "code",
      "metadata": {
        "colab": {
          "base_uri": "https://localhost:8080/"
        },
        "id": "uESPmwEsz5WJ",
        "outputId": "23b48b74-b9e7-43ed-ea11-5054deb0f68d"
      },
      "source": [
        "data_y = np.sin(data_x)\n",
        "print(data_y)"
      ],
      "execution_count": null,
      "outputs": [
        {
          "output_type": "stream",
          "text": [
            "[ 0.          0.10083842  0.20064886  0.2984138   0.39313661  0.48385164\n",
            "  0.56963411  0.64960951  0.72296256  0.78894546  0.84688556  0.8961922\n",
            "  0.93636273  0.96698762  0.98775469  0.99845223  0.99897117  0.98930624\n",
            "  0.96955595  0.93992165  0.90070545  0.85230712  0.79522006  0.73002623\n",
            "  0.65739025  0.57805259  0.49282204  0.40256749  0.30820902  0.21070855\n",
            "  0.11106004  0.01027934 -0.09060615 -0.19056796 -0.28858706 -0.38366419\n",
            " -0.47483011 -0.56115544 -0.64176014 -0.7158225  -0.7825875  -0.84137452\n",
            " -0.89158426 -0.93270486 -0.96431712 -0.98609877 -0.99782778 -0.99938456\n",
            " -0.99075324 -0.97202182 -0.94338126 -0.90512352 -0.85763861 -0.80141062\n",
            " -0.73701276 -0.66510151 -0.58640998 -0.50174037 -0.41195583 -0.31797166\n",
            " -0.22074597 -0.12126992 -0.0205576   0.0803643   0.18046693  0.27872982\n",
            "  0.37415123  0.46575841  0.55261747  0.63384295  0.7086068   0.77614685\n",
            "  0.83577457  0.8868821   0.92894843  0.96154471  0.98433866  0.99709789\n",
            "  0.99969234  0.99209556  0.97438499  0.94674118  0.90944594  0.86287948\n",
            "  0.8075165   0.74392141  0.6727425   0.59470541  0.51060568  0.42130064\n",
            "  0.32770071  0.23076008  0.13146699  0.03083368 -0.07011396 -0.17034683\n",
            " -0.26884313 -0.36459873 -0.45663749 -0.54402111]\n"
          ],
          "name": "stdout"
        }
      ]
    },
    {
      "cell_type": "code",
      "metadata": {
        "colab": {
          "base_uri": "https://localhost:8080/",
          "height": 265
        },
        "id": "C9t-K0ex0D4M",
        "outputId": "b2b718af-5f4b-4d76-e18f-574cd0a9a382"
      },
      "source": [
        "plt.plot(data_x, data_y)\n",
        "plt.show()"
      ],
      "execution_count": null,
      "outputs": [
        {
          "output_type": "display_data",
          "data": {
            "image/png": "[encoded data removed]",
            "text/plain": [
              "<Figure size 432x288 with 1 Axes>"
            ]
          },
          "metadata": {
            "tags": [],
            "needs_background": "light"
          }
        }
      ]
    },
    {
      "cell_type": "code",
      "metadata": {
        "id": "tW7UyJHq0XfW"
      },
      "source": [
        ""
      ],
      "execution_count": null,
      "outputs": []
    },
    {
      "cell_type": "code",
      "metadata": {
        "id": "1Ga3iXGH0SPQ"
      },
      "source": [
        ""
      ],
      "execution_count": null,
      "outputs": []
    },
    {
      "cell_type": "code",
      "metadata": {
        "id": "8zMMUfCO0CNg"
      },
      "source": [
        ""
      ],
      "execution_count": null,
      "outputs": []
    },
    {
      "cell_type": "code",
      "metadata": {
        "id": "AWzHCvZLw4J4",
        "colab": {
          "base_uri": "https://localhost:8080/",
          "height": 409
        },
        "outputId": "7ad09ac2-c7b3-4b39-8bed-dbb8cd15f830"
      },
      "source": [
        "import matplotlib.pyplot as plt # 직선 그래프, 꺾은 선 그래프\n",
        "import numpy as np # NumPy 행렬이나, 배열 같은 데이터\n",
        "\n",
        "data_size = 101\n",
        "data_x = np.linspace(0, 10, data_size) # 0부터 10까지를 가득 채우는 101개의 포인트\n",
        "data_y = np.sin(data_x) # 그 x에 따른 sine(x)\n",
        "\n",
        "plt.plot(data_x, data_y)\n",
        "plt.show()\n",
        "\n",
        "sequence_len = 5\n",
        "train_len = data_size - sequence_len\n",
        "train_X = []\n",
        "train_Y = []\n",
        "\n",
        "for i in range(train_len):\n",
        "    train_X.append(data_y[i:i + sequence_len])\n",
        "    train_Y.append(data_y[i + sequence_len])\n",
        "\n",
        "# 첫 번째 데이터만 확인\n",
        "print(\"입력:\", train_X[0])\n",
        "print(\"출력:\", train_Y[0])\n",
        "\n",
        "# 두 번째 데이터만 확인\n",
        "print(\"입력:\", train_X[1])\n",
        "print(\"출력:\", train_Y[1])\n",
        "\n",
        "import torch\n",
        "\n",
        "device = torch.device(\"cuda\")\n",
        "\n",
        "# PyTorch를 쓸 때는 [seq_len, 데이터의 개수, 데이터의 차원]\n",
        "train_X = np.asarray(train_X)\n",
        "train_Y = np.asarray(train_Y)\n",
        "\n",
        "print(\"np 객체:\", train_X.shape)\n",
        "print(\"np 객체:\", train_Y.shape)\n",
        "\n",
        "train_X = torch.from_numpy(train_X)\n",
        "train_Y = torch.from_numpy(train_Y)\n",
        "\n",
        "train_X = torch.transpose(train_X, 0, 1).unsqueeze(2).float().to(device)\n",
        "train_Y = train_Y.unsqueeze(1).float().to(device)\n",
        "\n",
        "print(\"tensor 객체:\", train_X.shape)\n",
        "print(\"tensor 객체:\", train_Y.shape)"
      ],
      "execution_count": null,
      "outputs": [
        {
          "output_type": "display_data",
          "data": {
            "image/png": "[encoded data removed]",
            "text/plain": [
              "<Figure size 432x288 with 1 Axes>"
            ]
          },
          "metadata": {
            "tags": [],
            "needs_background": "light"
          }
        },
        {
          "output_type": "stream",
          "text": [
            "입력: [0.         0.09983342 0.19866933 0.29552021 0.38941834]\n",
            "출력: 0.479425538604203\n",
            "입력: [0.09983342 0.19866933 0.29552021 0.38941834 0.47942554]\n",
            "출력: 0.5646424733950355\n",
            "np 객체: (96, 5)\n",
            "np 객체: (96,)\n",
            "tensor 객체: torch.Size([5, 96, 1])\n",
            "tensor 객체: torch.Size([96, 1])\n"
          ],
          "name": "stdout"
        }
      ]
    },
    {
      "cell_type": "code",
      "metadata": {
        "id": "qH4LnkoL4xW8"
      },
      "source": [
        ""
      ],
      "execution_count": null,
      "outputs": []
    }
  ]
}
