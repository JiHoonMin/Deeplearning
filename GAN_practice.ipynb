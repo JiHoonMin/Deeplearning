{
  "nbformat": 4,
  "nbformat_minor": 0,
  "metadata": {
    "colab": {
      "name": "GAN_practice.ipynb",
      "provenance": [],
      "collapsed_sections": [],
      "authorship_tag": "ABX9TyPZr3VKZi3pPR1K7ylyphRF",
      "include_colab_link": true
    },
    "kernelspec": {
      "name": "python3",
      "display_name": "Python 3"
    },
    "accelerator": "GPU",
    "widgets": {
      "application/vnd.jupyter.widget-state+json": {
        "b6e6c9f7e31244a39243ce6c65df0a6d": {
          "model_module": "@jupyter-widgets/controls",
          "model_name": "HBoxModel",
          "state": {
            "_view_name": "HBoxView",
            "_dom_classes": [],
            "_model_name": "HBoxModel",
            "_view_module": "@jupyter-widgets/controls",
            "_model_module_version": "1.5.0",
            "_view_count": null,
            "_view_module_version": "1.5.0",
            "box_style": "",
            "layout": "IPY_MODEL_15e2d9d0501f44e1ad4108d4a35c93b5",
            "_model_module": "@jupyter-widgets/controls",
            "children": [
              "IPY_MODEL_adab887dc82a4387add1ca1ed2ca8016",
              "IPY_MODEL_080d5eac4c184c199564856aa58bd259"
            ]
          }
        },
        "15e2d9d0501f44e1ad4108d4a35c93b5": {
          "model_module": "@jupyter-widgets/base",
          "model_name": "LayoutModel",
          "state": {
            "_view_name": "LayoutView",
            "grid_template_rows": null,
            "right": null,
            "justify_content": null,
            "_view_module": "@jupyter-widgets/base",
            "overflow": null,
            "_model_module_version": "1.2.0",
            "_view_count": null,
            "flex_flow": null,
            "width": null,
            "min_width": null,
            "border": null,
            "align_items": null,
            "bottom": null,
            "_model_module": "@jupyter-widgets/base",
            "top": null,
            "grid_column": null,
            "overflow_y": null,
            "overflow_x": null,
            "grid_auto_flow": null,
            "grid_area": null,
            "grid_template_columns": null,
            "flex": null,
            "_model_name": "LayoutModel",
            "justify_items": null,
            "grid_row": null,
            "max_height": null,
            "align_content": null,
            "visibility": null,
            "align_self": null,
            "height": null,
            "min_height": null,
            "padding": null,
            "grid_auto_rows": null,
            "grid_gap": null,
            "max_width": null,
            "order": null,
            "_view_module_version": "1.2.0",
            "grid_template_areas": null,
            "object_position": null,
            "object_fit": null,
            "grid_auto_columns": null,
            "margin": null,
            "display": null,
            "left": null
          }
        },
        "adab887dc82a4387add1ca1ed2ca8016": {
          "model_module": "@jupyter-widgets/controls",
          "model_name": "FloatProgressModel",
          "state": {
            "_view_name": "ProgressView",
            "style": "IPY_MODEL_f9b643ef748d42c9b97bb83952a50bf5",
            "_dom_classes": [],
            "description": "",
            "_model_name": "FloatProgressModel",
            "bar_style": "info",
            "max": 1,
            "_view_module": "@jupyter-widgets/controls",
            "_model_module_version": "1.5.0",
            "value": 1,
            "_view_count": null,
            "_view_module_version": "1.5.0",
            "orientation": "horizontal",
            "min": 0,
            "description_tooltip": null,
            "_model_module": "@jupyter-widgets/controls",
            "layout": "IPY_MODEL_f8f5420b966e4716b7e2adef0770ba4a"
          }
        },
        "080d5eac4c184c199564856aa58bd259": {
          "model_module": "@jupyter-widgets/controls",
          "model_name": "HTMLModel",
          "state": {
            "_view_name": "HTMLView",
            "style": "IPY_MODEL_28427d2507544677a451e4dc797a8846",
            "_dom_classes": [],
            "description": "",
            "_model_name": "HTMLModel",
            "placeholder": "​",
            "_view_module": "@jupyter-widgets/controls",
            "_model_module_version": "1.5.0",
            "value": " 9920512/? [00:20&lt;00:00, 2807860.97it/s]",
            "_view_count": null,
            "_view_module_version": "1.5.0",
            "description_tooltip": null,
            "_model_module": "@jupyter-widgets/controls",
            "layout": "IPY_MODEL_f0b7170ea5824c6185c86b7dbb9b0404"
          }
        },
        "f9b643ef748d42c9b97bb83952a50bf5": {
          "model_module": "@jupyter-widgets/controls",
          "model_name": "ProgressStyleModel",
          "state": {
            "_view_name": "StyleView",
            "_model_name": "ProgressStyleModel",
            "description_width": "initial",
            "_view_module": "@jupyter-widgets/base",
            "_model_module_version": "1.5.0",
            "_view_count": null,
            "_view_module_version": "1.2.0",
            "bar_color": null,
            "_model_module": "@jupyter-widgets/controls"
          }
        },
        "f8f5420b966e4716b7e2adef0770ba4a": {
          "model_module": "@jupyter-widgets/base",
          "model_name": "LayoutModel",
          "state": {
            "_view_name": "LayoutView",
            "grid_template_rows": null,
            "right": null,
            "justify_content": null,
            "_view_module": "@jupyter-widgets/base",
            "overflow": null,
            "_model_module_version": "1.2.0",
            "_view_count": null,
            "flex_flow": null,
            "width": null,
            "min_width": null,
            "border": null,
            "align_items": null,
            "bottom": null,
            "_model_module": "@jupyter-widgets/base",
            "top": null,
            "grid_column": null,
            "overflow_y": null,
            "overflow_x": null,
            "grid_auto_flow": null,
            "grid_area": null,
            "grid_template_columns": null,
            "flex": null,
            "_model_name": "LayoutModel",
            "justify_items": null,
            "grid_row": null,
            "max_height": null,
            "align_content": null,
            "visibility": null,
            "align_self": null,
            "height": null,
            "min_height": null,
            "padding": null,
            "grid_auto_rows": null,
            "grid_gap": null,
            "max_width": null,
            "order": null,
            "_view_module_version": "1.2.0",
            "grid_template_areas": null,
            "object_position": null,
            "object_fit": null,
            "grid_auto_columns": null,
            "margin": null,
            "display": null,
            "left": null
          }
        },
        "28427d2507544677a451e4dc797a8846": {
          "model_module": "@jupyter-widgets/controls",
          "model_name": "DescriptionStyleModel",
          "state": {
            "_view_name": "StyleView",
            "_model_name": "DescriptionStyleModel",
            "description_width": "",
            "_view_module": "@jupyter-widgets/base",
            "_model_module_version": "1.5.0",
            "_view_count": null,
            "_view_module_version": "1.2.0",
            "_model_module": "@jupyter-widgets/controls"
          }
        },
        "f0b7170ea5824c6185c86b7dbb9b0404": {
          "model_module": "@jupyter-widgets/base",
          "model_name": "LayoutModel",
          "state": {
            "_view_name": "LayoutView",
            "grid_template_rows": null,
            "right": null,
            "justify_content": null,
            "_view_module": "@jupyter-widgets/base",
            "overflow": null,
            "_model_module_version": "1.2.0",
            "_view_count": null,
            "flex_flow": null,
            "width": null,
            "min_width": null,
            "border": null,
            "align_items": null,
            "bottom": null,
            "_model_module": "@jupyter-widgets/base",
            "top": null,
            "grid_column": null,
            "overflow_y": null,
            "overflow_x": null,
            "grid_auto_flow": null,
            "grid_area": null,
            "grid_template_columns": null,
            "flex": null,
            "_model_name": "LayoutModel",
            "justify_items": null,
            "grid_row": null,
            "max_height": null,
            "align_content": null,
            "visibility": null,
            "align_self": null,
            "height": null,
            "min_height": null,
            "padding": null,
            "grid_auto_rows": null,
            "grid_gap": null,
            "max_width": null,
            "order": null,
            "_view_module_version": "1.2.0",
            "grid_template_areas": null,
            "object_position": null,
            "object_fit": null,
            "grid_auto_columns": null,
            "margin": null,
            "display": null,
            "left": null
          }
        },
        "81336ef29c804951adccebf01af9c717": {
          "model_module": "@jupyter-widgets/controls",
          "model_name": "HBoxModel",
          "state": {
            "_view_name": "HBoxView",
            "_dom_classes": [],
            "_model_name": "HBoxModel",
            "_view_module": "@jupyter-widgets/controls",
            "_model_module_version": "1.5.0",
            "_view_count": null,
            "_view_module_version": "1.5.0",
            "box_style": "",
            "layout": "IPY_MODEL_555303f467e04f99a7a23a208ee8fd44",
            "_model_module": "@jupyter-widgets/controls",
            "children": [
              "IPY_MODEL_89d265a722f64085ad76011495a77abd",
              "IPY_MODEL_133cb7d069724cb6a08a4c9560213728"
            ]
          }
        },
        "555303f467e04f99a7a23a208ee8fd44": {
          "model_module": "@jupyter-widgets/base",
          "model_name": "LayoutModel",
          "state": {
            "_view_name": "LayoutView",
            "grid_template_rows": null,
            "right": null,
            "justify_content": null,
            "_view_module": "@jupyter-widgets/base",
            "overflow": null,
            "_model_module_version": "1.2.0",
            "_view_count": null,
            "flex_flow": null,
            "width": null,
            "min_width": null,
            "border": null,
            "align_items": null,
            "bottom": null,
            "_model_module": "@jupyter-widgets/base",
            "top": null,
            "grid_column": null,
            "overflow_y": null,
            "overflow_x": null,
            "grid_auto_flow": null,
            "grid_area": null,
            "grid_template_columns": null,
            "flex": null,
            "_model_name": "LayoutModel",
            "justify_items": null,
            "grid_row": null,
            "max_height": null,
            "align_content": null,
            "visibility": null,
            "align_self": null,
            "height": null,
            "min_height": null,
            "padding": null,
            "grid_auto_rows": null,
            "grid_gap": null,
            "max_width": null,
            "order": null,
            "_view_module_version": "1.2.0",
            "grid_template_areas": null,
            "object_position": null,
            "object_fit": null,
            "grid_auto_columns": null,
            "margin": null,
            "display": null,
            "left": null
          }
        },
        "89d265a722f64085ad76011495a77abd": {
          "model_module": "@jupyter-widgets/controls",
          "model_name": "FloatProgressModel",
          "state": {
            "_view_name": "ProgressView",
            "style": "IPY_MODEL_f2d56223c13f4508b81ac4d4840d77a2",
            "_dom_classes": [],
            "description": "",
            "_model_name": "FloatProgressModel",
            "bar_style": "success",
            "max": 1,
            "_view_module": "@jupyter-widgets/controls",
            "_model_module_version": "1.5.0",
            "value": 1,
            "_view_count": null,
            "_view_module_version": "1.5.0",
            "orientation": "horizontal",
            "min": 0,
            "description_tooltip": null,
            "_model_module": "@jupyter-widgets/controls",
            "layout": "IPY_MODEL_cc9a3293e306444c8bbd6da7d4723b0e"
          }
        },
        "133cb7d069724cb6a08a4c9560213728": {
          "model_module": "@jupyter-widgets/controls",
          "model_name": "HTMLModel",
          "state": {
            "_view_name": "HTMLView",
            "style": "IPY_MODEL_b336f6db05314e74b46234012515a7b4",
            "_dom_classes": [],
            "description": "",
            "_model_name": "HTMLModel",
            "placeholder": "​",
            "_view_module": "@jupyter-widgets/controls",
            "_model_module_version": "1.5.0",
            "value": " 32768/? [00:00&lt;00:00, 45071.45it/s]",
            "_view_count": null,
            "_view_module_version": "1.5.0",
            "description_tooltip": null,
            "_model_module": "@jupyter-widgets/controls",
            "layout": "IPY_MODEL_4ca8b40bd5074bf48f105f40a181c274"
          }
        },
        "f2d56223c13f4508b81ac4d4840d77a2": {
          "model_module": "@jupyter-widgets/controls",
          "model_name": "ProgressStyleModel",
          "state": {
            "_view_name": "StyleView",
            "_model_name": "ProgressStyleModel",
            "description_width": "initial",
            "_view_module": "@jupyter-widgets/base",
            "_model_module_version": "1.5.0",
            "_view_count": null,
            "_view_module_version": "1.2.0",
            "bar_color": null,
            "_model_module": "@jupyter-widgets/controls"
          }
        },
        "cc9a3293e306444c8bbd6da7d4723b0e": {
          "model_module": "@jupyter-widgets/base",
          "model_name": "LayoutModel",
          "state": {
            "_view_name": "LayoutView",
            "grid_template_rows": null,
            "right": null,
            "justify_content": null,
            "_view_module": "@jupyter-widgets/base",
            "overflow": null,
            "_model_module_version": "1.2.0",
            "_view_count": null,
            "flex_flow": null,
            "width": null,
            "min_width": null,
            "border": null,
            "align_items": null,
            "bottom": null,
            "_model_module": "@jupyter-widgets/base",
            "top": null,
            "grid_column": null,
            "overflow_y": null,
            "overflow_x": null,
            "grid_auto_flow": null,
            "grid_area": null,
            "grid_template_columns": null,
            "flex": null,
            "_model_name": "LayoutModel",
            "justify_items": null,
            "grid_row": null,
            "max_height": null,
            "align_content": null,
            "visibility": null,
            "align_self": null,
            "height": null,
            "min_height": null,
            "padding": null,
            "grid_auto_rows": null,
            "grid_gap": null,
            "max_width": null,
            "order": null,
            "_view_module_version": "1.2.0",
            "grid_template_areas": null,
            "object_position": null,
            "object_fit": null,
            "grid_auto_columns": null,
            "margin": null,
            "display": null,
            "left": null
          }
        },
        "b336f6db05314e74b46234012515a7b4": {
          "model_module": "@jupyter-widgets/controls",
          "model_name": "DescriptionStyleModel",
          "state": {
            "_view_name": "StyleView",
            "_model_name": "DescriptionStyleModel",
            "description_width": "",
            "_view_module": "@jupyter-widgets/base",
            "_model_module_version": "1.5.0",
            "_view_count": null,
            "_view_module_version": "1.2.0",
            "_model_module": "@jupyter-widgets/controls"
          }
        },
        "4ca8b40bd5074bf48f105f40a181c274": {
          "model_module": "@jupyter-widgets/base",
          "model_name": "LayoutModel",
          "state": {
            "_view_name": "LayoutView",
            "grid_template_rows": null,
            "right": null,
            "justify_content": null,
            "_view_module": "@jupyter-widgets/base",
            "overflow": null,
            "_model_module_version": "1.2.0",
            "_view_count": null,
            "flex_flow": null,
            "width": null,
            "min_width": null,
            "border": null,
            "align_items": null,
            "bottom": null,
            "_model_module": "@jupyter-widgets/base",
            "top": null,
            "grid_column": null,
            "overflow_y": null,
            "overflow_x": null,
            "grid_auto_flow": null,
            "grid_area": null,
            "grid_template_columns": null,
            "flex": null,
            "_model_name": "LayoutModel",
            "justify_items": null,
            "grid_row": null,
            "max_height": null,
            "align_content": null,
            "visibility": null,
            "align_self": null,
            "height": null,
            "min_height": null,
            "padding": null,
            "grid_auto_rows": null,
            "grid_gap": null,
            "max_width": null,
            "order": null,
            "_view_module_version": "1.2.0",
            "grid_template_areas": null,
            "object_position": null,
            "object_fit": null,
            "grid_auto_columns": null,
            "margin": null,
            "display": null,
            "left": null
          }
        },
        "5e6a7a87a60c4f39ab6850bf8b67097f": {
          "model_module": "@jupyter-widgets/controls",
          "model_name": "HBoxModel",
          "state": {
            "_view_name": "HBoxView",
            "_dom_classes": [],
            "_model_name": "HBoxModel",
            "_view_module": "@jupyter-widgets/controls",
            "_model_module_version": "1.5.0",
            "_view_count": null,
            "_view_module_version": "1.5.0",
            "box_style": "",
            "layout": "IPY_MODEL_13e02ab2e4ee42c3bba627bfea499bc7",
            "_model_module": "@jupyter-widgets/controls",
            "children": [
              "IPY_MODEL_06e02e3f0fb14d4d966b21d27b00ed75",
              "IPY_MODEL_64cd569eeba741419875ced4b4859aa0"
            ]
          }
        },
        "13e02ab2e4ee42c3bba627bfea499bc7": {
          "model_module": "@jupyter-widgets/base",
          "model_name": "LayoutModel",
          "state": {
            "_view_name": "LayoutView",
            "grid_template_rows": null,
            "right": null,
            "justify_content": null,
            "_view_module": "@jupyter-widgets/base",
            "overflow": null,
            "_model_module_version": "1.2.0",
            "_view_count": null,
            "flex_flow": null,
            "width": null,
            "min_width": null,
            "border": null,
            "align_items": null,
            "bottom": null,
            "_model_module": "@jupyter-widgets/base",
            "top": null,
            "grid_column": null,
            "overflow_y": null,
            "overflow_x": null,
            "grid_auto_flow": null,
            "grid_area": null,
            "grid_template_columns": null,
            "flex": null,
            "_model_name": "LayoutModel",
            "justify_items": null,
            "grid_row": null,
            "max_height": null,
            "align_content": null,
            "visibility": null,
            "align_self": null,
            "height": null,
            "min_height": null,
            "padding": null,
            "grid_auto_rows": null,
            "grid_gap": null,
            "max_width": null,
            "order": null,
            "_view_module_version": "1.2.0",
            "grid_template_areas": null,
            "object_position": null,
            "object_fit": null,
            "grid_auto_columns": null,
            "margin": null,
            "display": null,
            "left": null
          }
        },
        "06e02e3f0fb14d4d966b21d27b00ed75": {
          "model_module": "@jupyter-widgets/controls",
          "model_name": "FloatProgressModel",
          "state": {
            "_view_name": "ProgressView",
            "style": "IPY_MODEL_6cd3e00359524d57af8d31db991f7ef5",
            "_dom_classes": [],
            "description": "",
            "_model_name": "FloatProgressModel",
            "bar_style": "success",
            "max": 1,
            "_view_module": "@jupyter-widgets/controls",
            "_model_module_version": "1.5.0",
            "value": 1,
            "_view_count": null,
            "_view_module_version": "1.5.0",
            "orientation": "horizontal",
            "min": 0,
            "description_tooltip": null,
            "_model_module": "@jupyter-widgets/controls",
            "layout": "IPY_MODEL_aeb59a55533c4f5ba95f96f288e3c77d"
          }
        },
        "64cd569eeba741419875ced4b4859aa0": {
          "model_module": "@jupyter-widgets/controls",
          "model_name": "HTMLModel",
          "state": {
            "_view_name": "HTMLView",
            "style": "IPY_MODEL_4afe9e251e424fcfa973a4261168e167",
            "_dom_classes": [],
            "description": "",
            "_model_name": "HTMLModel",
            "placeholder": "​",
            "_view_module": "@jupyter-widgets/controls",
            "_model_module_version": "1.5.0",
            "value": " 1654784/? [00:00&lt;00:00, 2763890.16it/s]",
            "_view_count": null,
            "_view_module_version": "1.5.0",
            "description_tooltip": null,
            "_model_module": "@jupyter-widgets/controls",
            "layout": "IPY_MODEL_8cf710f716b94ed09d4b6128fb311608"
          }
        },
        "6cd3e00359524d57af8d31db991f7ef5": {
          "model_module": "@jupyter-widgets/controls",
          "model_name": "ProgressStyleModel",
          "state": {
            "_view_name": "StyleView",
            "_model_name": "ProgressStyleModel",
            "description_width": "initial",
            "_view_module": "@jupyter-widgets/base",
            "_model_module_version": "1.5.0",
            "_view_count": null,
            "_view_module_version": "1.2.0",
            "bar_color": null,
            "_model_module": "@jupyter-widgets/controls"
          }
        },
        "aeb59a55533c4f5ba95f96f288e3c77d": {
          "model_module": "@jupyter-widgets/base",
          "model_name": "LayoutModel",
          "state": {
            "_view_name": "LayoutView",
            "grid_template_rows": null,
            "right": null,
            "justify_content": null,
            "_view_module": "@jupyter-widgets/base",
            "overflow": null,
            "_model_module_version": "1.2.0",
            "_view_count": null,
            "flex_flow": null,
            "width": null,
            "min_width": null,
            "border": null,
            "align_items": null,
            "bottom": null,
            "_model_module": "@jupyter-widgets/base",
            "top": null,
            "grid_column": null,
            "overflow_y": null,
            "overflow_x": null,
            "grid_auto_flow": null,
            "grid_area": null,
            "grid_template_columns": null,
            "flex": null,
            "_model_name": "LayoutModel",
            "justify_items": null,
            "grid_row": null,
            "max_height": null,
            "align_content": null,
            "visibility": null,
            "align_self": null,
            "height": null,
            "min_height": null,
            "padding": null,
            "grid_auto_rows": null,
            "grid_gap": null,
            "max_width": null,
            "order": null,
            "_view_module_version": "1.2.0",
            "grid_template_areas": null,
            "object_position": null,
            "object_fit": null,
            "grid_auto_columns": null,
            "margin": null,
            "display": null,
            "left": null
          }
        },
        "4afe9e251e424fcfa973a4261168e167": {
          "model_module": "@jupyter-widgets/controls",
          "model_name": "DescriptionStyleModel",
          "state": {
            "_view_name": "StyleView",
            "_model_name": "DescriptionStyleModel",
            "description_width": "",
            "_view_module": "@jupyter-widgets/base",
            "_model_module_version": "1.5.0",
            "_view_count": null,
            "_view_module_version": "1.2.0",
            "_model_module": "@jupyter-widgets/controls"
          }
        },
        "8cf710f716b94ed09d4b6128fb311608": {
          "model_module": "@jupyter-widgets/base",
          "model_name": "LayoutModel",
          "state": {
            "_view_name": "LayoutView",
            "grid_template_rows": null,
            "right": null,
            "justify_content": null,
            "_view_module": "@jupyter-widgets/base",
            "overflow": null,
            "_model_module_version": "1.2.0",
            "_view_count": null,
            "flex_flow": null,
            "width": null,
            "min_width": null,
            "border": null,
            "align_items": null,
            "bottom": null,
            "_model_module": "@jupyter-widgets/base",
            "top": null,
            "grid_column": null,
            "overflow_y": null,
            "overflow_x": null,
            "grid_auto_flow": null,
            "grid_area": null,
            "grid_template_columns": null,
            "flex": null,
            "_model_name": "LayoutModel",
            "justify_items": null,
            "grid_row": null,
            "max_height": null,
            "align_content": null,
            "visibility": null,
            "align_self": null,
            "height": null,
            "min_height": null,
            "padding": null,
            "grid_auto_rows": null,
            "grid_gap": null,
            "max_width": null,
            "order": null,
            "_view_module_version": "1.2.0",
            "grid_template_areas": null,
            "object_position": null,
            "object_fit": null,
            "grid_auto_columns": null,
            "margin": null,
            "display": null,
            "left": null
          }
        },
        "adbc10008abb4c2287f864ea37e0c986": {
          "model_module": "@jupyter-widgets/controls",
          "model_name": "HBoxModel",
          "state": {
            "_view_name": "HBoxView",
            "_dom_classes": [],
            "_model_name": "HBoxModel",
            "_view_module": "@jupyter-widgets/controls",
            "_model_module_version": "1.5.0",
            "_view_count": null,
            "_view_module_version": "1.5.0",
            "box_style": "",
            "layout": "IPY_MODEL_67cc736250444fd79aab3193a47eb12c",
            "_model_module": "@jupyter-widgets/controls",
            "children": [
              "IPY_MODEL_32eb5e10777f490a9de14eb2146338f5",
              "IPY_MODEL_3a8ae843535b41ea93b2d8ce538f725d"
            ]
          }
        },
        "67cc736250444fd79aab3193a47eb12c": {
          "model_module": "@jupyter-widgets/base",
          "model_name": "LayoutModel",
          "state": {
            "_view_name": "LayoutView",
            "grid_template_rows": null,
            "right": null,
            "justify_content": null,
            "_view_module": "@jupyter-widgets/base",
            "overflow": null,
            "_model_module_version": "1.2.0",
            "_view_count": null,
            "flex_flow": null,
            "width": null,
            "min_width": null,
            "border": null,
            "align_items": null,
            "bottom": null,
            "_model_module": "@jupyter-widgets/base",
            "top": null,
            "grid_column": null,
            "overflow_y": null,
            "overflow_x": null,
            "grid_auto_flow": null,
            "grid_area": null,
            "grid_template_columns": null,
            "flex": null,
            "_model_name": "LayoutModel",
            "justify_items": null,
            "grid_row": null,
            "max_height": null,
            "align_content": null,
            "visibility": null,
            "align_self": null,
            "height": null,
            "min_height": null,
            "padding": null,
            "grid_auto_rows": null,
            "grid_gap": null,
            "max_width": null,
            "order": null,
            "_view_module_version": "1.2.0",
            "grid_template_areas": null,
            "object_position": null,
            "object_fit": null,
            "grid_auto_columns": null,
            "margin": null,
            "display": null,
            "left": null
          }
        },
        "32eb5e10777f490a9de14eb2146338f5": {
          "model_module": "@jupyter-widgets/controls",
          "model_name": "FloatProgressModel",
          "state": {
            "_view_name": "ProgressView",
            "style": "IPY_MODEL_300d6b289a154777b518c9af3633b44d",
            "_dom_classes": [],
            "description": "",
            "_model_name": "FloatProgressModel",
            "bar_style": "success",
            "max": 1,
            "_view_module": "@jupyter-widgets/controls",
            "_model_module_version": "1.5.0",
            "value": 1,
            "_view_count": null,
            "_view_module_version": "1.5.0",
            "orientation": "horizontal",
            "min": 0,
            "description_tooltip": null,
            "_model_module": "@jupyter-widgets/controls",
            "layout": "IPY_MODEL_80a61d1f34e943cda3b1fe271b6ea5a9"
          }
        },
        "3a8ae843535b41ea93b2d8ce538f725d": {
          "model_module": "@jupyter-widgets/controls",
          "model_name": "HTMLModel",
          "state": {
            "_view_name": "HTMLView",
            "style": "IPY_MODEL_a80a53fc153f452abb0d03c00e2edfae",
            "_dom_classes": [],
            "description": "",
            "_model_name": "HTMLModel",
            "placeholder": "​",
            "_view_module": "@jupyter-widgets/controls",
            "_model_module_version": "1.5.0",
            "value": " 8192/? [00:00&lt;00:00, 30867.32it/s]",
            "_view_count": null,
            "_view_module_version": "1.5.0",
            "description_tooltip": null,
            "_model_module": "@jupyter-widgets/controls",
            "layout": "IPY_MODEL_fb383cf1284140ef84def444e00cd133"
          }
        },
        "300d6b289a154777b518c9af3633b44d": {
          "model_module": "@jupyter-widgets/controls",
          "model_name": "ProgressStyleModel",
          "state": {
            "_view_name": "StyleView",
            "_model_name": "ProgressStyleModel",
            "description_width": "initial",
            "_view_module": "@jupyter-widgets/base",
            "_model_module_version": "1.5.0",
            "_view_count": null,
            "_view_module_version": "1.2.0",
            "bar_color": null,
            "_model_module": "@jupyter-widgets/controls"
          }
        },
        "80a61d1f34e943cda3b1fe271b6ea5a9": {
          "model_module": "@jupyter-widgets/base",
          "model_name": "LayoutModel",
          "state": {
            "_view_name": "LayoutView",
            "grid_template_rows": null,
            "right": null,
            "justify_content": null,
            "_view_module": "@jupyter-widgets/base",
            "overflow": null,
            "_model_module_version": "1.2.0",
            "_view_count": null,
            "flex_flow": null,
            "width": null,
            "min_width": null,
            "border": null,
            "align_items": null,
            "bottom": null,
            "_model_module": "@jupyter-widgets/base",
            "top": null,
            "grid_column": null,
            "overflow_y": null,
            "overflow_x": null,
            "grid_auto_flow": null,
            "grid_area": null,
            "grid_template_columns": null,
            "flex": null,
            "_model_name": "LayoutModel",
            "justify_items": null,
            "grid_row": null,
            "max_height": null,
            "align_content": null,
            "visibility": null,
            "align_self": null,
            "height": null,
            "min_height": null,
            "padding": null,
            "grid_auto_rows": null,
            "grid_gap": null,
            "max_width": null,
            "order": null,
            "_view_module_version": "1.2.0",
            "grid_template_areas": null,
            "object_position": null,
            "object_fit": null,
            "grid_auto_columns": null,
            "margin": null,
            "display": null,
            "left": null
          }
        },
        "a80a53fc153f452abb0d03c00e2edfae": {
          "model_module": "@jupyter-widgets/controls",
          "model_name": "DescriptionStyleModel",
          "state": {
            "_view_name": "StyleView",
            "_model_name": "DescriptionStyleModel",
            "description_width": "",
            "_view_module": "@jupyter-widgets/base",
            "_model_module_version": "1.5.0",
            "_view_count": null,
            "_view_module_version": "1.2.0",
            "_model_module": "@jupyter-widgets/controls"
          }
        },
        "fb383cf1284140ef84def444e00cd133": {
          "model_module": "@jupyter-widgets/base",
          "model_name": "LayoutModel",
          "state": {
            "_view_name": "LayoutView",
            "grid_template_rows": null,
            "right": null,
            "justify_content": null,
            "_view_module": "@jupyter-widgets/base",
            "overflow": null,
            "_model_module_version": "1.2.0",
            "_view_count": null,
            "flex_flow": null,
            "width": null,
            "min_width": null,
            "border": null,
            "align_items": null,
            "bottom": null,
            "_model_module": "@jupyter-widgets/base",
            "top": null,
            "grid_column": null,
            "overflow_y": null,
            "overflow_x": null,
            "grid_auto_flow": null,
            "grid_area": null,
            "grid_template_columns": null,
            "flex": null,
            "_model_name": "LayoutModel",
            "justify_items": null,
            "grid_row": null,
            "max_height": null,
            "align_content": null,
            "visibility": null,
            "align_self": null,
            "height": null,
            "min_height": null,
            "padding": null,
            "grid_auto_rows": null,
            "grid_gap": null,
            "max_width": null,
            "order": null,
            "_view_module_version": "1.2.0",
            "grid_template_areas": null,
            "object_position": null,
            "object_fit": null,
            "grid_auto_columns": null,
            "margin": null,
            "display": null,
            "left": null
          }
        }
      }
    }
  },
  "cells": [
    {
      "cell_type": "markdown",
      "metadata": {
        "id": "view-in-github",
        "colab_type": "text"
      },
      "source": [
        "<a href=\"https://colab.research.google.com/github/JiHoonMin/deeplearning/blob/main/GAN_practice.ipynb\" target=\"_parent\"><img src=\"https://colab.research.google.com/assets/colab-badge.svg\" alt=\"Open In Colab\"/></a>"
      ]
    },
    {
      "cell_type": "code",
      "metadata": {
        "colab": {
          "base_uri": "https://localhost:8080/",
          "height": 265
        },
        "id": "PK4ERP1Q0GTZ",
        "outputId": "d0bc06d0-d2fc-4a0c-8ed1-b68db1a99e89"
      },
      "source": [
        "import numpy as np\n",
        "import matplotlib.pyplot as plt\n",
        "\n",
        "N = 2000 # 각 분포에서 2,000개의 데이터 샘플링\n",
        "mu_1, sigma_1 = 5, 1\n",
        "mu_2, sigma_2 = 10, 1\n",
        "mu_3, sigma_3 = 20, 2\n",
        "X1 = np.random.normal(mu_1, sigma_1, N)\n",
        "X2 = np.random.normal(mu_2, sigma_2, N)\n",
        "X3 = np.random.normal(mu_3, sigma_3, N)\n",
        "\n",
        "# 학습 데이터 생성\n",
        "X = np.concatenate([X1, X2, X3])\n",
        "X = np.asarray(X)\n",
        "\n",
        "# 학습 데이터 분포 시각화\n",
        "plt.hist(X, bins=500)\n",
        "plt.show()"
      ],
      "execution_count": null,
      "outputs": [
        {
          "output_type": "display_data",
          "data": {
            "image/png": "[encoded data removed]",
            "text/plain": [
              "<Figure size 432x288 with 1 Axes>"
            ]
          },
          "metadata": {
            "tags": [],
            "needs_background": "light"
          }
        }
      ]
    },
    {
      "cell_type": "code",
      "metadata": {
        "id": "Zt2OfnV63XtT"
      },
      "source": [
        "from torch.utils.data import Dataset\n",
        "from torch.utils.data import DataLoader\n",
        "\n",
        "\n",
        "class ImageDataset(Dataset):\n",
        "    def __init__(self, dataset):\n",
        "        self.dataset = dataset\n",
        "\n",
        "    def __getitem__(self, index):\n",
        "        x = self.dataset[index % len(self.dataset)]\n",
        "        return x\n",
        "\n",
        "    def __len__(self):\n",
        "        return len(self.dataset)"
      ],
      "execution_count": null,
      "outputs": []
    },
    {
      "cell_type": "code",
      "metadata": {
        "id": "1-vxdGu-4F3W",
        "colab": {
          "base_uri": "https://localhost:8080/"
        },
        "outputId": "77e2b465-aa30-4dc6-a32b-f71fb6787684"
      },
      "source": [
        "train_dataset = ImageDataset(dataset=X)\n",
        "train_dataloader = DataLoader(train_dataset, batch_size=128, shuffle=True, num_workers=4)"
      ],
      "execution_count": null,
      "outputs": [
        {
          "output_type": "stream",
          "text": [
            "/usr/local/lib/python3.7/dist-packages/torch/utils/data/dataloader.py:477: UserWarning: This DataLoader will create 4 worker processes in total. Our suggested max number of worker in current system is 2, which is smaller than what this DataLoader is going to create. Please be aware that excessive worker creation might get DataLoader running slow or even freeze, lower the worker number to avoid potential slowness/freeze if necessary.\n",
            "  cpuset_checked))\n"
          ],
          "name": "stderr"
        }
      ]
    },
    {
      "cell_type": "code",
      "metadata": {
        "id": "OH4Ls3sL4QfX"
      },
      "source": [
        "import torch.nn as nn\n",
        "\n",
        "\n",
        "# 생성자(Generator) 아키텍처\n",
        "class Generator(nn.Module):\n",
        "    def __init__(self):\n",
        "        super(Generator, self).__init__()\n",
        "\n",
        "        # 32차원 Latent Vector로 시작하여 고차원 레이어를 거친 뒤에 출력값 생성\n",
        "        self.model = nn.Sequential(\n",
        "            nn.Linear(32, 512),\n",
        "            nn.ReLU(),\n",
        "            nn.Linear(512, 256),\n",
        "            nn.Sigmoid(),\n",
        "            nn.Linear(256, 1)\n",
        "        )\n",
        "\n",
        "    def forward(self, z):\n",
        "        return self.model(z)\n",
        "\n",
        "\n",
        "# 판별자(Discriminator) 아키텍처\n",
        "class Discriminator(nn.Module):\n",
        "    def __init__(self):\n",
        "        super(Discriminator, self).__init__()\n",
        "\n",
        "        # 1차원 데이터를 입력받아 고차원 레이어를 거친 뒤에 판별 결과 생성\n",
        "        self.model = nn.Sequential(\n",
        "            nn.Linear(1, 512),\n",
        "            nn.ReLU(),\n",
        "            nn.Linear(512, 256),\n",
        "            nn.ReLU(),\n",
        "            nn.Linear(256, 1),\n",
        "            nn.Sigmoid()\n",
        "        )\n",
        "\n",
        "    def forward(self, x):\n",
        "        return self.model(x)"
      ],
      "execution_count": null,
      "outputs": []
    },
    {
      "cell_type": "code",
      "metadata": {
        "id": "EZ5NacIX5Fg5"
      },
      "source": [
        ""
      ],
      "execution_count": null,
      "outputs": []
    },
    {
      "cell_type": "code",
      "metadata": {
        "id": "4jL5wuiG3WI7"
      },
      "source": [
        "import torch\n",
        "\n",
        "# 생성자(generator)와 판별자(discriminator) 초기화\n",
        "generator = Generator().cuda()\n",
        "discriminator = Discriminator().cuda()\n",
        "\n",
        "# 손실 함수(loss function)\n",
        "adversarial_loss = nn.BCELoss().cuda()\n",
        "\n",
        "# 학습률(learning rate) 설정\n",
        "lr = 0.0005\n",
        "\n",
        "# 생성자와 판별자를 위한 최적화 함수 정의\n",
        "optimizer_G = torch.optim.Adam(generator.parameters(), lr=lr, betas=(0.5, 0.999))\n",
        "optimizer_D = torch.optim.Adam(discriminator.parameters(), lr=lr, betas=(0.5, 0.999))"
      ],
      "execution_count": null,
      "outputs": []
    },
    {
      "cell_type": "code",
      "metadata": {
        "colab": {
          "base_uri": "https://localhost:8080/",
          "height": 1000
        },
        "id": "NUXVbdhO_HuI",
        "outputId": "8a9b77b9-aa06-4805-fe0e-b7fb897046b5"
      },
      "source": [
        "import time\n",
        "\n",
        "n_epochs = 200 # 학습의 횟수(epoch) 설정\n",
        "sample_interval = 10 # 몇 번의 epoch마다 결과를 출력할 것인지 설정 \n",
        "start_time = time.time()\n",
        "\n",
        "for epoch in range(n_epochs):\n",
        "    d_outputs = [] # Discriminator의 판별 결과가 담길 리스트\n",
        "\n",
        "    for i, batch in enumerate(train_dataloader):\n",
        "        inputs = batch\n",
        "        inputs = inputs.unsqueeze(1).float().cuda() # 차원: [배치 크기, 1]\n",
        "\n",
        "        # 진짜(real) 데이터와 가짜(fake) 데이터에 대한 정답 레이블 생성\n",
        "        real = torch.cuda.FloatTensor(inputs.size(0), 1).fill_(1.0).cuda() # 진짜(real): 1\n",
        "        fake = torch.cuda.FloatTensor(inputs.size(0), 1).fill_(0.0).cuda() # 가짜(fake): 0\n",
        "\n",
        "        \"\"\" 생성자(generator)를 학습합니다. \"\"\"\n",
        "        optimizer_G.zero_grad()\n",
        "\n",
        "        # 랜덤 노이즈(noise) 샘플링\n",
        "        z = torch.normal(mean=0, std=1, size=(inputs.size(0), 32)).cuda()\n",
        "\n",
        "        # 이미지 생성\n",
        "        generated = generator(z)\n",
        "\n",
        "        # 생성자(generator)의 손실(loss) 값 계산\n",
        "        g_loss = adversarial_loss(discriminator(generated), real)\n",
        "\n",
        "        # 생성자(generator) 업데이트\n",
        "        g_loss.backward()\n",
        "        optimizer_G.step()\n",
        "\n",
        "        \"\"\" 판별자(discriminator)를 학습합니다. \"\"\"\n",
        "        optimizer_D.zero_grad()\n",
        "\n",
        "        # 판별자(discriminator)의 손실(loss) 값 계산\n",
        "        real_loss = adversarial_loss(discriminator(inputs), real)\n",
        "        d_output = discriminator(generated.detach())\n",
        "        fake_loss = adversarial_loss(d_output, fake)\n",
        "        d_loss = (real_loss + fake_loss) / 2\n",
        "\n",
        "        d_outputs.append(sum(d_output.detach().cpu()).item()) # 판별 결과는 별도로 저장\n",
        "\n",
        "        # 판별자(discriminator) 업데이트\n",
        "        d_loss.backward()\n",
        "        optimizer_D.step()\n",
        "\n",
        "    # 하나의 epoch이 끝날 때마다 로그(log) 출력\n",
        "    print(f\"[Epoch {epoch}/{n_epochs}] [Mean of D result: {sum(d_outputs) / len(X):.6f}] [D loss: {d_loss.item():.6f}] [G loss: {g_loss.item():.6f}] [Elapsed time: {time.time() - start_time:.2f}s]\")\n",
        "\n",
        "    if epoch % sample_interval == 0:\n",
        "        sampled = []\n",
        "        for i in range(100):\n",
        "            # 랜덤 노이즈(noise) 샘플링\n",
        "            z = torch.normal(mean=0, std=1, size=(128, 32)).cuda()\n",
        "            generated = generator(z)\n",
        "            # 하나의 배치에 포함된 모든 결과 데이터를 리스트에 삽입\n",
        "            for k in generated.detach().cpu():\n",
        "                sampled.append(k)\n",
        "\n",
        "        # 결과 데이터 출력\n",
        "        plt.hist(sampled, bins=500)\n",
        "        plt.show()"
      ],
      "execution_count": null,
      "outputs": [
        {
          "output_type": "stream",
          "text": [
            "/usr/local/lib/python3.7/dist-packages/torch/utils/data/dataloader.py:477: UserWarning: This DataLoader will create 4 worker processes in total. Our suggested max number of worker in current system is 2, which is smaller than what this DataLoader is going to create. Please be aware that excessive worker creation might get DataLoader running slow or even freeze, lower the worker number to avoid potential slowness/freeze if necessary.\n",
            "  cpuset_checked))\n"
          ],
          "name": "stderr"
        },
        {
          "output_type": "stream",
          "text": [
            "[Epoch 0/200] [Mean of D result: 0.325638] [D loss: 0.568585] [G loss: 1.040895] [Elapsed time: 0.64s]\n"
          ],
          "name": "stdout"
        },
        {
          "output_type": "display_data",
          "data": {
            "image/png": "[encoded data removed]",
            "text/plain": [
              "<Figure size 432x288 with 1 Axes>"
            ]
          },
          "metadata": {
            "tags": [],
            "needs_background": "light"
          }
        },
        {
          "output_type": "stream",
          "text": [
            "[Epoch 1/200] [Mean of D result: 0.396811] [D loss: 0.734256] [G loss: 0.447476] [Elapsed time: 1.95s]\n",
            "[Epoch 2/200] [Mean of D result: 0.419476] [D loss: 0.652086] [G loss: 0.828047] [Elapsed time: 2.36s]\n",
            "[Epoch 3/200] [Mean of D result: 0.414301] [D loss: 0.592313] [G loss: 1.277957] [Elapsed time: 2.77s]\n",
            "[Epoch 4/200] [Mean of D result: 0.396859] [D loss: 0.485051] [G loss: 0.873585] [Elapsed time: 3.18s]\n",
            "[Epoch 5/200] [Mean of D result: 0.360510] [D loss: 0.410285] [G loss: 1.151027] [Elapsed time: 3.58s]\n",
            "[Epoch 6/200] [Mean of D result: 0.433531] [D loss: 0.369176] [G loss: 0.902999] [Elapsed time: 3.99s]\n",
            "[Epoch 7/200] [Mean of D result: 0.354039] [D loss: 0.786006] [G loss: 0.639698] [Elapsed time: 4.40s]\n",
            "[Epoch 8/200] [Mean of D result: 0.412197] [D loss: 0.684635] [G loss: 1.246080] [Elapsed time: 4.82s]\n",
            "[Epoch 9/200] [Mean of D result: 0.376718] [D loss: 0.565506] [G loss: 1.625436] [Elapsed time: 5.23s]\n",
            "[Epoch 10/200] [Mean of D result: 0.339490] [D loss: 0.448600] [G loss: 1.427107] [Elapsed time: 5.63s]\n"
          ],
          "name": "stdout"
        },
        {
          "output_type": "display_data",
          "data": {
            "image/png": "[encoded data removed]",
            "text/plain": [
              "<Figure size 432x288 with 1 Axes>"
            ]
          },
          "metadata": {
            "tags": [],
            "needs_background": "light"
          }
        },
        {
          "output_type": "stream",
          "text": [
            "[Epoch 11/200] [Mean of D result: 0.340505] [D loss: 0.504161] [G loss: 0.592529] [Elapsed time: 6.96s]\n",
            "[Epoch 12/200] [Mean of D result: 0.490380] [D loss: 0.871315] [G loss: 0.302228] [Elapsed time: 7.38s]\n",
            "[Epoch 13/200] [Mean of D result: 0.432941] [D loss: 0.772302] [G loss: 0.940740] [Elapsed time: 7.80s]\n",
            "[Epoch 14/200] [Mean of D result: 0.390772] [D loss: 0.622615] [G loss: 0.904939] [Elapsed time: 8.21s]\n",
            "[Epoch 15/200] [Mean of D result: 0.350927] [D loss: 0.535823] [G loss: 0.758951] [Elapsed time: 8.61s]\n",
            "[Epoch 16/200] [Mean of D result: 0.338141] [D loss: 0.506124] [G loss: 0.739029] [Elapsed time: 9.04s]\n",
            "[Epoch 17/200] [Mean of D result: 0.420700] [D loss: 0.715282] [G loss: 0.653355] [Elapsed time: 9.45s]\n",
            "[Epoch 18/200] [Mean of D result: 0.558742] [D loss: 0.640719] [G loss: 0.928914] [Elapsed time: 9.87s]\n",
            "[Epoch 19/200] [Mean of D result: 0.394246] [D loss: 0.630929] [G loss: 0.946951] [Elapsed time: 10.27s]\n",
            "[Epoch 20/200] [Mean of D result: 0.436566] [D loss: 0.657902] [G loss: 0.698004] [Elapsed time: 10.67s]\n"
          ],
          "name": "stdout"
        },
        {
          "output_type": "display_data",
          "data": {
            "image/png": "[encoded data removed]",
            "text/plain": [
              "<Figure size 432x288 with 1 Axes>"
            ]
          },
          "metadata": {
            "tags": [],
            "needs_background": "light"
          }
        },
        {
          "output_type": "stream",
          "text": [
            "[Epoch 21/200] [Mean of D result: 0.512062] [D loss: 0.688590] [G loss: 0.647260] [Elapsed time: 11.93s]\n",
            "[Epoch 22/200] [Mean of D result: 0.499907] [D loss: 0.693337] [G loss: 0.789307] [Elapsed time: 12.34s]\n",
            "[Epoch 23/200] [Mean of D result: 0.497955] [D loss: 0.704982] [G loss: 0.695358] [Elapsed time: 12.75s]\n",
            "[Epoch 24/200] [Mean of D result: 0.498271] [D loss: 0.706134] [G loss: 0.660521] [Elapsed time: 13.17s]\n",
            "[Epoch 25/200] [Mean of D result: 0.503856] [D loss: 0.706691] [G loss: 0.583529] [Elapsed time: 13.59s]\n",
            "[Epoch 26/200] [Mean of D result: 0.500737] [D loss: 0.692369] [G loss: 0.647860] [Elapsed time: 14.01s]\n",
            "[Epoch 27/200] [Mean of D result: 0.494701] [D loss: 0.692151] [G loss: 0.676008] [Elapsed time: 14.43s]\n",
            "[Epoch 28/200] [Mean of D result: 0.494161] [D loss: 0.685742] [G loss: 0.648538] [Elapsed time: 14.84s]\n",
            "[Epoch 29/200] [Mean of D result: 0.489737] [D loss: 0.686977] [G loss: 0.662187] [Elapsed time: 15.26s]\n",
            "[Epoch 30/200] [Mean of D result: 0.492689] [D loss: 0.690771] [G loss: 0.608263] [Elapsed time: 15.67s]\n"
          ],
          "name": "stdout"
        },
        {
          "output_type": "display_data",
          "data": {
            "image/png": "[encoded data removed]",
            "text/plain": [
              "<Figure size 432x288 with 1 Axes>"
            ]
          },
          "metadata": {
            "tags": [],
            "needs_background": "light"
          }
        },
        {
          "output_type": "stream",
          "text": [
            "[Epoch 31/200] [Mean of D result: 0.491271] [D loss: 0.683314] [G loss: 0.665114] [Elapsed time: 17.01s]\n",
            "[Epoch 32/200] [Mean of D result: 0.494053] [D loss: 0.688673] [G loss: 0.680006] [Elapsed time: 17.42s]\n",
            "[Epoch 33/200] [Mean of D result: 0.500010] [D loss: 0.687447] [G loss: 0.704019] [Elapsed time: 17.83s]\n",
            "[Epoch 34/200] [Mean of D result: 0.497811] [D loss: 0.698944] [G loss: 0.844012] [Elapsed time: 18.27s]\n",
            "[Epoch 35/200] [Mean of D result: 0.498098] [D loss: 0.696391] [G loss: 0.611710] [Elapsed time: 18.69s]\n",
            "[Epoch 36/200] [Mean of D result: 0.496925] [D loss: 0.692306] [G loss: 0.761837] [Elapsed time: 19.10s]\n",
            "[Epoch 37/200] [Mean of D result: 0.497219] [D loss: 0.692227] [G loss: 0.755742] [Elapsed time: 19.51s]\n",
            "[Epoch 38/200] [Mean of D result: 0.499543] [D loss: 0.692006] [G loss: 0.778759] [Elapsed time: 19.92s]\n",
            "[Epoch 39/200] [Mean of D result: 0.499714] [D loss: 0.703560] [G loss: 0.573025] [Elapsed time: 20.34s]\n",
            "[Epoch 40/200] [Mean of D result: 0.495371] [D loss: 0.689403] [G loss: 0.640779] [Elapsed time: 20.76s]\n"
          ],
          "name": "stdout"
        },
        {
          "output_type": "display_data",
          "data": {
            "image/png": "[encoded data removed]",
            "text/plain": [
              "<Figure size 432x288 with 1 Axes>"
            ]
          },
          "metadata": {
            "tags": [],
            "needs_background": "light"
          }
        },
        {
          "output_type": "stream",
          "text": [
            "[Epoch 41/200] [Mean of D result: 0.500089] [D loss: 0.689273] [G loss: 0.808383] [Elapsed time: 22.00s]\n",
            "[Epoch 42/200] [Mean of D result: 0.498718] [D loss: 0.694294] [G loss: 0.627490] [Elapsed time: 22.41s]\n",
            "[Epoch 43/200] [Mean of D result: 0.497460] [D loss: 0.685965] [G loss: 0.676007] [Elapsed time: 22.82s]\n",
            "[Epoch 44/200] [Mean of D result: 0.496733] [D loss: 0.693424] [G loss: 0.646017] [Elapsed time: 23.24s]\n",
            "[Epoch 45/200] [Mean of D result: 0.496593] [D loss: 0.690247] [G loss: 0.748117] [Elapsed time: 23.78s]\n",
            "[Epoch 46/200] [Mean of D result: 0.497879] [D loss: 0.698902] [G loss: 0.597600] [Elapsed time: 24.18s]\n",
            "[Epoch 47/200] [Mean of D result: 0.496626] [D loss: 0.694503] [G loss: 0.660353] [Elapsed time: 24.60s]\n",
            "[Epoch 48/200] [Mean of D result: 0.495650] [D loss: 0.687233] [G loss: 0.693225] [Elapsed time: 25.02s]\n",
            "[Epoch 49/200] [Mean of D result: 0.497758] [D loss: 0.690800] [G loss: 0.729986] [Elapsed time: 25.44s]\n",
            "[Epoch 50/200] [Mean of D result: 0.499646] [D loss: 0.687985] [G loss: 0.664895] [Elapsed time: 25.86s]\n"
          ],
          "name": "stdout"
        },
        {
          "output_type": "display_data",
          "data": {
            "image/png": "[encoded data removed]",
            "text/plain": [
              "<Figure size 432x288 with 1 Axes>"
            ]
          },
          "metadata": {
            "tags": [],
            "needs_background": "light"
          }
        },
        {
          "output_type": "stream",
          "text": [
            "[Epoch 51/200] [Mean of D result: 0.498618] [D loss: 0.687845] [G loss: 0.664557] [Elapsed time: 27.11s]\n",
            "[Epoch 52/200] [Mean of D result: 0.497497] [D loss: 0.692050] [G loss: 0.739750] [Elapsed time: 27.54s]\n",
            "[Epoch 53/200] [Mean of D result: 0.498630] [D loss: 0.689956] [G loss: 0.698272] [Elapsed time: 27.96s]\n",
            "[Epoch 54/200] [Mean of D result: 0.495158] [D loss: 0.691673] [G loss: 0.642318] [Elapsed time: 28.40s]\n",
            "[Epoch 55/200] [Mean of D result: 0.499540] [D loss: 0.689821] [G loss: 0.810517] [Elapsed time: 28.83s]\n",
            "[Epoch 56/200] [Mean of D result: 0.495975] [D loss: 0.685063] [G loss: 0.807973] [Elapsed time: 29.25s]\n",
            "[Epoch 57/200] [Mean of D result: 0.499229] [D loss: 0.692754] [G loss: 0.711586] [Elapsed time: 29.67s]\n",
            "[Epoch 58/200] [Mean of D result: 0.497775] [D loss: 0.697810] [G loss: 0.778159] [Elapsed time: 30.09s]\n",
            "[Epoch 59/200] [Mean of D result: 0.497241] [D loss: 0.689633] [G loss: 0.680482] [Elapsed time: 30.51s]\n",
            "[Epoch 60/200] [Mean of D result: 0.499861] [D loss: 0.689942] [G loss: 0.731212] [Elapsed time: 30.94s]\n"
          ],
          "name": "stdout"
        },
        {
          "output_type": "display_data",
          "data": {
            "image/png": "[encoded data removed]",
            "text/plain": [
              "<Figure size 432x288 with 1 Axes>"
            ]
          },
          "metadata": {
            "tags": [],
            "needs_background": "light"
          }
        },
        {
          "output_type": "stream",
          "text": [
            "[Epoch 61/200] [Mean of D result: 0.500355] [D loss: 0.686533] [G loss: 0.678831] [Elapsed time: 32.25s]\n",
            "[Epoch 62/200] [Mean of D result: 0.496975] [D loss: 0.695979] [G loss: 0.728511] [Elapsed time: 32.67s]\n",
            "[Epoch 63/200] [Mean of D result: 0.498543] [D loss: 0.689743] [G loss: 0.699481] [Elapsed time: 33.09s]\n",
            "[Epoch 64/200] [Mean of D result: 0.497123] [D loss: 0.712527] [G loss: 0.843275] [Elapsed time: 33.52s]\n",
            "[Epoch 65/200] [Mean of D result: 0.500462] [D loss: 0.696240] [G loss: 0.642282] [Elapsed time: 33.95s]\n",
            "[Epoch 66/200] [Mean of D result: 0.498101] [D loss: 0.689593] [G loss: 0.714745] [Elapsed time: 34.38s]\n",
            "[Epoch 67/200] [Mean of D result: 0.496775] [D loss: 0.692656] [G loss: 0.696581] [Elapsed time: 34.82s]\n",
            "[Epoch 68/200] [Mean of D result: 0.498041] [D loss: 0.693615] [G loss: 0.638161] [Elapsed time: 35.25s]\n",
            "[Epoch 69/200] [Mean of D result: 0.498886] [D loss: 0.693612] [G loss: 0.658826] [Elapsed time: 35.68s]\n",
            "[Epoch 70/200] [Mean of D result: 0.498842] [D loss: 0.698299] [G loss: 0.628591] [Elapsed time: 36.09s]\n"
          ],
          "name": "stdout"
        },
        {
          "output_type": "display_data",
          "data": {
            "image/png": "[encoded data removed]",
            "text/plain": [
              "<Figure size 432x288 with 1 Axes>"
            ]
          },
          "metadata": {
            "tags": [],
            "needs_background": "light"
          }
        },
        {
          "output_type": "stream",
          "text": [
            "[Epoch 71/200] [Mean of D result: 0.499839] [D loss: 0.695545] [G loss: 0.637691] [Elapsed time: 37.37s]\n",
            "[Epoch 72/200] [Mean of D result: 0.497108] [D loss: 0.702029] [G loss: 0.741637] [Elapsed time: 37.79s]\n",
            "[Epoch 73/200] [Mean of D result: 0.499667] [D loss: 0.691022] [G loss: 0.742811] [Elapsed time: 38.22s]\n",
            "[Epoch 74/200] [Mean of D result: 0.498764] [D loss: 0.704928] [G loss: 0.822199] [Elapsed time: 38.65s]\n",
            "[Epoch 75/200] [Mean of D result: 0.499070] [D loss: 0.694637] [G loss: 0.774036] [Elapsed time: 39.07s]\n",
            "[Epoch 76/200] [Mean of D result: 0.497105] [D loss: 0.689981] [G loss: 0.686463] [Elapsed time: 39.49s]\n",
            "[Epoch 77/200] [Mean of D result: 0.501054] [D loss: 0.691930] [G loss: 0.702133] [Elapsed time: 39.90s]\n",
            "[Epoch 78/200] [Mean of D result: 0.499789] [D loss: 0.691251] [G loss: 0.698077] [Elapsed time: 40.33s]\n",
            "[Epoch 79/200] [Mean of D result: 0.498372] [D loss: 0.692328] [G loss: 0.693581] [Elapsed time: 40.75s]\n",
            "[Epoch 80/200] [Mean of D result: 0.497239] [D loss: 0.691598] [G loss: 0.725903] [Elapsed time: 41.18s]\n"
          ],
          "name": "stdout"
        },
        {
          "output_type": "display_data",
          "data": {
            "image/png": "[encoded data removed]",
            "text/plain": [
              "<Figure size 432x288 with 1 Axes>"
            ]
          },
          "metadata": {
            "tags": [],
            "needs_background": "light"
          }
        },
        {
          "output_type": "stream",
          "text": [
            "[Epoch 81/200] [Mean of D result: 0.496091] [D loss: 0.692311] [G loss: 0.695267] [Elapsed time: 42.52s]\n",
            "[Epoch 82/200] [Mean of D result: 0.500754] [D loss: 0.690932] [G loss: 0.736983] [Elapsed time: 42.94s]\n",
            "[Epoch 83/200] [Mean of D result: 0.497905] [D loss: 0.693260] [G loss: 0.651782] [Elapsed time: 43.36s]\n",
            "[Epoch 84/200] [Mean of D result: 0.500601] [D loss: 0.698751] [G loss: 0.599164] [Elapsed time: 43.79s]\n",
            "[Epoch 85/200] [Mean of D result: 0.498037] [D loss: 0.695522] [G loss: 0.616442] [Elapsed time: 44.20s]\n",
            "[Epoch 86/200] [Mean of D result: 0.498110] [D loss: 0.695572] [G loss: 0.737825] [Elapsed time: 44.64s]\n",
            "[Epoch 87/200] [Mean of D result: 0.499833] [D loss: 0.691441] [G loss: 0.688674] [Elapsed time: 45.05s]\n",
            "[Epoch 88/200] [Mean of D result: 0.499775] [D loss: 0.691681] [G loss: 0.718194] [Elapsed time: 45.47s]\n",
            "[Epoch 89/200] [Mean of D result: 0.501108] [D loss: 0.691509] [G loss: 0.703507] [Elapsed time: 45.88s]\n",
            "[Epoch 90/200] [Mean of D result: 0.498540] [D loss: 0.695317] [G loss: 0.631191] [Elapsed time: 46.31s]\n"
          ],
          "name": "stdout"
        },
        {
          "output_type": "display_data",
          "data": {
            "image/png": "[encoded data removed]",
            "text/plain": [
              "<Figure size 432x288 with 1 Axes>"
            ]
          },
          "metadata": {
            "tags": [],
            "needs_background": "light"
          }
        },
        {
          "output_type": "stream",
          "text": [
            "[Epoch 91/200] [Mean of D result: 0.498135] [D loss: 0.693430] [G loss: 0.665569] [Elapsed time: 47.62s]\n",
            "[Epoch 92/200] [Mean of D result: 0.499978] [D loss: 0.696807] [G loss: 0.737747] [Elapsed time: 48.04s]\n",
            "[Epoch 93/200] [Mean of D result: 0.501338] [D loss: 0.694523] [G loss: 0.754323] [Elapsed time: 48.46s]\n",
            "[Epoch 94/200] [Mean of D result: 0.499736] [D loss: 0.691974] [G loss: 0.712060] [Elapsed time: 48.89s]\n",
            "[Epoch 95/200] [Mean of D result: 0.498605] [D loss: 0.693358] [G loss: 0.730289] [Elapsed time: 49.30s]\n",
            "[Epoch 96/200] [Mean of D result: 0.498612] [D loss: 0.692600] [G loss: 0.658844] [Elapsed time: 49.73s]\n",
            "[Epoch 97/200] [Mean of D result: 0.500648] [D loss: 0.692701] [G loss: 0.664526] [Elapsed time: 50.15s]\n",
            "[Epoch 98/200] [Mean of D result: 0.500068] [D loss: 0.691194] [G loss: 0.679278] [Elapsed time: 50.57s]\n",
            "[Epoch 99/200] [Mean of D result: 0.499177] [D loss: 0.693442] [G loss: 0.738861] [Elapsed time: 50.99s]\n",
            "[Epoch 100/200] [Mean of D result: 0.500381] [D loss: 0.692101] [G loss: 0.717271] [Elapsed time: 51.42s]\n"
          ],
          "name": "stdout"
        },
        {
          "output_type": "display_data",
          "data": {
            "image/png": "[encoded data removed]",
            "text/plain": [
              "<Figure size 432x288 with 1 Axes>"
            ]
          },
          "metadata": {
            "tags": [],
            "needs_background": "light"
          }
        },
        {
          "output_type": "stream",
          "text": [
            "[Epoch 101/200] [Mean of D result: 0.498474] [D loss: 0.691919] [G loss: 0.734744] [Elapsed time: 52.66s]\n",
            "[Epoch 102/200] [Mean of D result: 0.500286] [D loss: 0.692907] [G loss: 0.649478] [Elapsed time: 53.08s]\n",
            "[Epoch 103/200] [Mean of D result: 0.499892] [D loss: 0.694351] [G loss: 0.652139] [Elapsed time: 53.50s]\n",
            "[Epoch 104/200] [Mean of D result: 0.499846] [D loss: 0.693022] [G loss: 0.739281] [Elapsed time: 53.91s]\n",
            "[Epoch 105/200] [Mean of D result: 0.499754] [D loss: 0.693535] [G loss: 0.702437] [Elapsed time: 54.33s]\n",
            "[Epoch 106/200] [Mean of D result: 0.499924] [D loss: 0.693023] [G loss: 0.697627] [Elapsed time: 54.76s]\n",
            "[Epoch 107/200] [Mean of D result: 0.498886] [D loss: 0.694717] [G loss: 0.754481] [Elapsed time: 55.17s]\n",
            "[Epoch 108/200] [Mean of D result: 0.500150] [D loss: 0.693007] [G loss: 0.667164] [Elapsed time: 55.59s]\n",
            "[Epoch 109/200] [Mean of D result: 0.501259] [D loss: 0.693021] [G loss: 0.729090] [Elapsed time: 56.01s]\n",
            "[Epoch 110/200] [Mean of D result: 0.500400] [D loss: 0.694332] [G loss: 0.731316] [Elapsed time: 56.43s]\n"
          ],
          "name": "stdout"
        },
        {
          "output_type": "display_data",
          "data": {
            "image/png": "[encoded data removed]",
            "text/plain": [
              "<Figure size 432x288 with 1 Axes>"
            ]
          },
          "metadata": {
            "tags": [],
            "needs_background": "light"
          }
        },
        {
          "output_type": "stream",
          "text": [
            "[Epoch 111/200] [Mean of D result: 0.498635] [D loss: 0.691904] [G loss: 0.703101] [Elapsed time: 57.75s]\n",
            "[Epoch 112/200] [Mean of D result: 0.501463] [D loss: 0.692857] [G loss: 0.721941] [Elapsed time: 58.17s]\n",
            "[Epoch 113/200] [Mean of D result: 0.499448] [D loss: 0.695823] [G loss: 0.653513] [Elapsed time: 58.60s]\n",
            "[Epoch 114/200] [Mean of D result: 0.500059] [D loss: 0.690731] [G loss: 0.685926] [Elapsed time: 59.01s]\n",
            "[Epoch 115/200] [Mean of D result: 0.500305] [D loss: 0.693344] [G loss: 0.642082] [Elapsed time: 59.45s]\n",
            "[Epoch 116/200] [Mean of D result: 0.498487] [D loss: 0.694735] [G loss: 0.748378] [Elapsed time: 59.88s]\n",
            "[Epoch 117/200] [Mean of D result: 0.501343] [D loss: 0.695043] [G loss: 0.663454] [Elapsed time: 60.30s]\n",
            "[Epoch 118/200] [Mean of D result: 0.499127] [D loss: 0.692719] [G loss: 0.701270] [Elapsed time: 60.72s]\n",
            "[Epoch 119/200] [Mean of D result: 0.499883] [D loss: 0.691957] [G loss: 0.683119] [Elapsed time: 61.13s]\n",
            "[Epoch 120/200] [Mean of D result: 0.500000] [D loss: 0.692057] [G loss: 0.678502] [Elapsed time: 61.56s]\n"
          ],
          "name": "stdout"
        },
        {
          "output_type": "display_data",
          "data": {
            "image/png": "[encoded data removed]",
            "text/plain": [
              "<Figure size 432x288 with 1 Axes>"
            ]
          },
          "metadata": {
            "tags": [],
            "needs_background": "light"
          }
        },
        {
          "output_type": "stream",
          "text": [
            "[Epoch 121/200] [Mean of D result: 0.500125] [D loss: 0.692918] [G loss: 0.697257] [Elapsed time: 62.89s]\n",
            "[Epoch 122/200] [Mean of D result: 0.499792] [D loss: 0.693171] [G loss: 0.678482] [Elapsed time: 63.30s]\n",
            "[Epoch 123/200] [Mean of D result: 0.500787] [D loss: 0.693860] [G loss: 0.687573] [Elapsed time: 63.73s]\n",
            "[Epoch 124/200] [Mean of D result: 0.500140] [D loss: 0.692795] [G loss: 0.687051] [Elapsed time: 64.14s]\n",
            "[Epoch 125/200] [Mean of D result: 0.498991] [D loss: 0.692714] [G loss: 0.700859] [Elapsed time: 64.55s]\n",
            "[Epoch 126/200] [Mean of D result: 0.500456] [D loss: 0.693011] [G loss: 0.690930] [Elapsed time: 64.98s]\n",
            "[Epoch 127/200] [Mean of D result: 0.502388] [D loss: 0.693228] [G loss: 0.708385] [Elapsed time: 65.39s]\n",
            "[Epoch 128/200] [Mean of D result: 0.500420] [D loss: 0.692915] [G loss: 0.687718] [Elapsed time: 65.81s]\n",
            "[Epoch 129/200] [Mean of D result: 0.498519] [D loss: 0.693691] [G loss: 0.690003] [Elapsed time: 66.22s]\n",
            "[Epoch 130/200] [Mean of D result: 0.501099] [D loss: 0.693321] [G loss: 0.699448] [Elapsed time: 66.64s]\n"
          ],
          "name": "stdout"
        },
        {
          "output_type": "display_data",
          "data": {
            "image/png": "[encoded data removed]",
            "text/plain": [
              "<Figure size 432x288 with 1 Axes>"
            ]
          },
          "metadata": {
            "tags": [],
            "needs_background": "light"
          }
        },
        {
          "output_type": "stream",
          "text": [
            "[Epoch 131/200] [Mean of D result: 0.500771] [D loss: 0.693178] [G loss: 0.701286] [Elapsed time: 67.88s]\n",
            "[Epoch 132/200] [Mean of D result: 0.502335] [D loss: 0.693353] [G loss: 0.680607] [Elapsed time: 68.30s]\n",
            "[Epoch 133/200] [Mean of D result: 0.496086] [D loss: 0.693240] [G loss: 0.691727] [Elapsed time: 68.72s]\n",
            "[Epoch 134/200] [Mean of D result: 0.503654] [D loss: 0.692169] [G loss: 0.691679] [Elapsed time: 69.15s]\n",
            "[Epoch 135/200] [Mean of D result: 0.499331] [D loss: 0.693589] [G loss: 0.686584] [Elapsed time: 69.58s]\n",
            "[Epoch 136/200] [Mean of D result: 0.499327] [D loss: 0.692913] [G loss: 0.695495] [Elapsed time: 70.00s]\n",
            "[Epoch 137/200] [Mean of D result: 0.500166] [D loss: 0.693197] [G loss: 0.685205] [Elapsed time: 70.41s]\n",
            "[Epoch 138/200] [Mean of D result: 0.501392] [D loss: 0.693471] [G loss: 0.694381] [Elapsed time: 70.83s]\n",
            "[Epoch 139/200] [Mean of D result: 0.499429] [D loss: 0.693179] [G loss: 0.688074] [Elapsed time: 71.25s]\n",
            "[Epoch 140/200] [Mean of D result: 0.499865] [D loss: 0.693314] [G loss: 0.686828] [Elapsed time: 71.68s]\n"
          ],
          "name": "stdout"
        },
        {
          "output_type": "display_data",
          "data": {
            "image/png": "[encoded data removed]",
            "text/plain": [
              "<Figure size 432x288 with 1 Axes>"
            ]
          },
          "metadata": {
            "tags": [],
            "needs_background": "light"
          }
        },
        {
          "output_type": "stream",
          "text": [
            "[Epoch 141/200] [Mean of D result: 0.500716] [D loss: 0.692974] [G loss: 0.696370] [Elapsed time: 73.03s]\n",
            "[Epoch 142/200] [Mean of D result: 0.500588] [D loss: 0.693589] [G loss: 0.679849] [Elapsed time: 73.44s]\n",
            "[Epoch 143/200] [Mean of D result: 0.499485] [D loss: 0.693090] [G loss: 0.689273] [Elapsed time: 73.86s]\n",
            "[Epoch 144/200] [Mean of D result: 0.499711] [D loss: 0.693129] [G loss: 0.691767] [Elapsed time: 74.27s]\n",
            "[Epoch 145/200] [Mean of D result: 0.500777] [D loss: 0.693443] [G loss: 0.689319] [Elapsed time: 74.70s]\n",
            "[Epoch 146/200] [Mean of D result: 0.500211] [D loss: 0.693083] [G loss: 0.692364] [Elapsed time: 75.13s]\n",
            "[Epoch 147/200] [Mean of D result: 0.498216] [D loss: 0.693119] [G loss: 0.683535] [Elapsed time: 75.55s]\n",
            "[Epoch 148/200] [Mean of D result: 0.501411] [D loss: 0.693531] [G loss: 0.712177] [Elapsed time: 75.97s]\n",
            "[Epoch 149/200] [Mean of D result: 0.499190] [D loss: 0.693272] [G loss: 0.684265] [Elapsed time: 76.39s]\n",
            "[Epoch 150/200] [Mean of D result: 0.499763] [D loss: 0.692221] [G loss: 0.715360] [Elapsed time: 76.81s]\n"
          ],
          "name": "stdout"
        },
        {
          "output_type": "display_data",
          "data": {
            "image/png": "[encoded data removed]",
            "text/plain": [
              "<Figure size 432x288 with 1 Axes>"
            ]
          },
          "metadata": {
            "tags": [],
            "needs_background": "light"
          }
        },
        {
          "output_type": "stream",
          "text": [
            "[Epoch 151/200] [Mean of D result: 0.501506] [D loss: 0.693265] [G loss: 0.686950] [Elapsed time: 78.05s]\n",
            "[Epoch 152/200] [Mean of D result: 0.500890] [D loss: 0.693174] [G loss: 0.697668] [Elapsed time: 78.47s]\n",
            "[Epoch 153/200] [Mean of D result: 0.498500] [D loss: 0.692854] [G loss: 0.701791] [Elapsed time: 78.99s]\n",
            "[Epoch 154/200] [Mean of D result: 0.500057] [D loss: 0.692698] [G loss: 0.687465] [Elapsed time: 79.41s]\n",
            "[Epoch 155/200] [Mean of D result: 0.499697] [D loss: 0.693173] [G loss: 0.690657] [Elapsed time: 79.85s]\n",
            "[Epoch 156/200] [Mean of D result: 0.500588] [D loss: 0.693104] [G loss: 0.687235] [Elapsed time: 80.26s]\n",
            "[Epoch 157/200] [Mean of D result: 0.500514] [D loss: 0.693325] [G loss: 0.673306] [Elapsed time: 80.67s]\n",
            "[Epoch 158/200] [Mean of D result: 0.500192] [D loss: 0.693096] [G loss: 0.688701] [Elapsed time: 81.10s]\n",
            "[Epoch 159/200] [Mean of D result: 0.499891] [D loss: 0.693315] [G loss: 0.713921] [Elapsed time: 81.51s]\n",
            "[Epoch 160/200] [Mean of D result: 0.500383] [D loss: 0.693139] [G loss: 0.691122] [Elapsed time: 81.95s]\n"
          ],
          "name": "stdout"
        },
        {
          "output_type": "display_data",
          "data": {
            "image/png": "[encoded data removed]",
            "text/plain": [
              "<Figure size 432x288 with 1 Axes>"
            ]
          },
          "metadata": {
            "tags": [],
            "needs_background": "light"
          }
        },
        {
          "output_type": "stream",
          "text": [
            "[Epoch 161/200] [Mean of D result: 0.500457] [D loss: 0.692925] [G loss: 0.702816] [Elapsed time: 83.20s]\n",
            "[Epoch 162/200] [Mean of D result: 0.500697] [D loss: 0.693124] [G loss: 0.688111] [Elapsed time: 83.62s]\n",
            "[Epoch 163/200] [Mean of D result: 0.499699] [D loss: 0.693269] [G loss: 0.692030] [Elapsed time: 84.05s]\n",
            "[Epoch 164/200] [Mean of D result: 0.500751] [D loss: 0.693164] [G loss: 0.695139] [Elapsed time: 84.47s]\n",
            "[Epoch 165/200] [Mean of D result: 0.499822] [D loss: 0.693135] [G loss: 0.695780] [Elapsed time: 84.90s]\n",
            "[Epoch 166/200] [Mean of D result: 0.500342] [D loss: 0.693065] [G loss: 0.696686] [Elapsed time: 85.32s]\n",
            "[Epoch 167/200] [Mean of D result: 0.500449] [D loss: 0.692944] [G loss: 0.687764] [Elapsed time: 85.75s]\n",
            "[Epoch 168/200] [Mean of D result: 0.499286] [D loss: 0.693108] [G loss: 0.694267] [Elapsed time: 86.18s]\n",
            "[Epoch 169/200] [Mean of D result: 0.500441] [D loss: 0.693117] [G loss: 0.691348] [Elapsed time: 86.61s]\n",
            "[Epoch 170/200] [Mean of D result: 0.499400] [D loss: 0.693217] [G loss: 0.696768] [Elapsed time: 87.04s]\n"
          ],
          "name": "stdout"
        },
        {
          "output_type": "display_data",
          "data": {
            "image/png": "[encoded data removed]",
            "text/plain": [
              "<Figure size 432x288 with 1 Axes>"
            ]
          },
          "metadata": {
            "tags": [],
            "needs_background": "light"
          }
        },
        {
          "output_type": "stream",
          "text": [
            "[Epoch 171/200] [Mean of D result: 0.500530] [D loss: 0.693147] [G loss: 0.693504] [Elapsed time: 88.37s]\n",
            "[Epoch 172/200] [Mean of D result: 0.500297] [D loss: 0.693053] [G loss: 0.691759] [Elapsed time: 88.79s]\n",
            "[Epoch 173/200] [Mean of D result: 0.500217] [D loss: 0.693335] [G loss: 0.686101] [Elapsed time: 89.21s]\n",
            "[Epoch 174/200] [Mean of D result: 0.500318] [D loss: 0.693236] [G loss: 0.695936] [Elapsed time: 89.62s]\n",
            "[Epoch 175/200] [Mean of D result: 0.499766] [D loss: 0.693133] [G loss: 0.695231] [Elapsed time: 90.05s]\n",
            "[Epoch 176/200] [Mean of D result: 0.500669] [D loss: 0.693423] [G loss: 0.689590] [Elapsed time: 90.48s]\n",
            "[Epoch 177/200] [Mean of D result: 0.499431] [D loss: 0.693095] [G loss: 0.687462] [Elapsed time: 90.89s]\n",
            "[Epoch 178/200] [Mean of D result: 0.500232] [D loss: 0.693157] [G loss: 0.692331] [Elapsed time: 91.31s]\n",
            "[Epoch 179/200] [Mean of D result: 0.500254] [D loss: 0.693152] [G loss: 0.691482] [Elapsed time: 91.73s]\n",
            "[Epoch 180/200] [Mean of D result: 0.500028] [D loss: 0.693067] [G loss: 0.691777] [Elapsed time: 92.15s]\n"
          ],
          "name": "stdout"
        },
        {
          "output_type": "display_data",
          "data": {
            "image/png": "[encoded data removed]",
            "text/plain": [
              "<Figure size 432x288 with 1 Axes>"
            ]
          },
          "metadata": {
            "tags": [],
            "needs_background": "light"
          }
        },
        {
          "output_type": "stream",
          "text": [
            "[Epoch 181/200] [Mean of D result: 0.499600] [D loss: 0.693219] [G loss: 0.692202] [Elapsed time: 93.38s]\n",
            "[Epoch 182/200] [Mean of D result: 0.500505] [D loss: 0.693161] [G loss: 0.692671] [Elapsed time: 93.80s]\n",
            "[Epoch 183/200] [Mean of D result: 0.499576] [D loss: 0.692728] [G loss: 0.698766] [Elapsed time: 94.23s]\n",
            "[Epoch 184/200] [Mean of D result: 0.501575] [D loss: 0.693143] [G loss: 0.695714] [Elapsed time: 94.64s]\n",
            "[Epoch 185/200] [Mean of D result: 0.499549] [D loss: 0.693090] [G loss: 0.711141] [Elapsed time: 95.06s]\n",
            "[Epoch 186/200] [Mean of D result: 0.499557] [D loss: 0.693027] [G loss: 0.684175] [Elapsed time: 95.47s]\n",
            "[Epoch 187/200] [Mean of D result: 0.499848] [D loss: 0.693241] [G loss: 0.691511] [Elapsed time: 95.89s]\n",
            "[Epoch 188/200] [Mean of D result: 0.500359] [D loss: 0.693242] [G loss: 0.691229] [Elapsed time: 96.32s]\n",
            "[Epoch 189/200] [Mean of D result: 0.500393] [D loss: 0.693115] [G loss: 0.694753] [Elapsed time: 96.74s]\n",
            "[Epoch 190/200] [Mean of D result: 0.499769] [D loss: 0.693294] [G loss: 0.689055] [Elapsed time: 97.17s]\n"
          ],
          "name": "stdout"
        },
        {
          "output_type": "display_data",
          "data": {
            "image/png": "[encoded data removed]",
            "text/plain": [
              "<Figure size 432x288 with 1 Axes>"
            ]
          },
          "metadata": {
            "tags": [],
            "needs_background": "light"
          }
        },
        {
          "output_type": "stream",
          "text": [
            "[Epoch 191/200] [Mean of D result: 0.500232] [D loss: 0.693128] [G loss: 0.693167] [Elapsed time: 98.50s]\n",
            "[Epoch 192/200] [Mean of D result: 0.500147] [D loss: 0.693176] [G loss: 0.693898] [Elapsed time: 98.92s]\n",
            "[Epoch 193/200] [Mean of D result: 0.499188] [D loss: 0.693040] [G loss: 0.683187] [Elapsed time: 99.34s]\n",
            "[Epoch 194/200] [Mean of D result: 0.500957] [D loss: 0.693127] [G loss: 0.694970] [Elapsed time: 99.76s]\n",
            "[Epoch 195/200] [Mean of D result: 0.499624] [D loss: 0.693148] [G loss: 0.693861] [Elapsed time: 100.18s]\n",
            "[Epoch 196/200] [Mean of D result: 0.499674] [D loss: 0.693117] [G loss: 0.695421] [Elapsed time: 100.61s]\n",
            "[Epoch 197/200] [Mean of D result: 0.499850] [D loss: 0.693079] [G loss: 0.692501] [Elapsed time: 101.04s]\n",
            "[Epoch 198/200] [Mean of D result: 0.499998] [D loss: 0.693119] [G loss: 0.689945] [Elapsed time: 101.47s]\n",
            "[Epoch 199/200] [Mean of D result: 0.500001] [D loss: 0.693131] [G loss: 0.693217] [Elapsed time: 101.90s]\n"
          ],
          "name": "stdout"
        }
      ]
    },
    {
      "cell_type": "markdown",
      "metadata": {
        "id": "GXXzywrPH6L4"
      },
      "source": [
        "#Gan for Mnist"
      ]
    },
    {
      "cell_type": "code",
      "metadata": {
        "id": "0Bqg__lhH5gY"
      },
      "source": [
        "import torch\n",
        "import torch.nn as nn\n",
        "\n",
        "from torchvision import datasets\n",
        "import torchvision.transforms as transforms\n",
        "from torchvision.utils import save_image"
      ],
      "execution_count": null,
      "outputs": []
    },
    {
      "cell_type": "code",
      "metadata": {
        "id": "ChYR0GaLH9BR"
      },
      "source": [
        "latent_dim = 100\n",
        "\n",
        "\n",
        "# 생성자(Generator) 클래스 정의\n",
        "class Generator(nn.Module):\n",
        "    def __init__(self):\n",
        "        super(Generator, self).__init__()\n",
        "\n",
        "        # 하나의 블록(block) 정의\n",
        "        def block(input_dim, output_dim, normalize=True):\n",
        "            layers = [nn.Linear(input_dim, output_dim)]\n",
        "            if normalize:\n",
        "                # 배치 정규화(batch normalization) 수행(차원 동일)\n",
        "                layers.append(nn.BatchNorm1d(output_dim, 0.8))\n",
        "            layers.append(nn.LeakyReLU(0.2, inplace=True))\n",
        "            return layers\n",
        "\n",
        "        # 생성자 모델은 연속적인 여러 개의 블록을 가짐\n",
        "        self.model = nn.Sequential(\n",
        "            *block(latent_dim, 128, normalize=False),\n",
        "            *block(128, 256),\n",
        "            *block(256, 512),\n",
        "            *block(512, 1024),\n",
        "            nn.Linear(1024, 1 * 28 * 28),\n",
        "            nn.Tanh()\n",
        "        )\n",
        "\n",
        "    def forward(self, z):\n",
        "        img = self.model(z)\n",
        "        img = img.view(img.size(0), 1, 28, 28)\n",
        "        return img"
      ],
      "execution_count": null,
      "outputs": []
    },
    {
      "cell_type": "code",
      "metadata": {
        "id": "E5WXqtxlIAD-"
      },
      "source": [
        "# 판별자(Discriminator) 클래스 정의\n",
        "class Discriminator(nn.Module):\n",
        "    def __init__(self):\n",
        "        super(Discriminator, self).__init__()\n",
        "\n",
        "        self.model = nn.Sequential(\n",
        "            nn.Linear(1 * 28 * 28, 512),\n",
        "            nn.LeakyReLU(0.2, inplace=True),\n",
        "            nn.Linear(512, 256),\n",
        "            nn.LeakyReLU(0.2, inplace=True),\n",
        "            nn.Linear(256, 1),\n",
        "            nn.Sigmoid(),\n",
        "        )\n",
        "\n",
        "    # 이미지에 대한 판별 결과를 반환\n",
        "    def forward(self, img):\n",
        "        flattened = img.view(img.size(0), -1)\n",
        "        output = self.model(flattened)\n",
        "\n",
        "        return output"
      ],
      "execution_count": null,
      "outputs": []
    },
    {
      "cell_type": "code",
      "metadata": {
        "colab": {
          "base_uri": "https://localhost:8080/",
          "height": 435,
          "referenced_widgets": [
            "b6e6c9f7e31244a39243ce6c65df0a6d",
            "15e2d9d0501f44e1ad4108d4a35c93b5",
            "adab887dc82a4387add1ca1ed2ca8016",
            "080d5eac4c184c199564856aa58bd259",
            "f9b643ef748d42c9b97bb83952a50bf5",
            "f8f5420b966e4716b7e2adef0770ba4a",
            "28427d2507544677a451e4dc797a8846",
            "f0b7170ea5824c6185c86b7dbb9b0404",
            "81336ef29c804951adccebf01af9c717",
            "555303f467e04f99a7a23a208ee8fd44",
            "89d265a722f64085ad76011495a77abd",
            "133cb7d069724cb6a08a4c9560213728",
            "f2d56223c13f4508b81ac4d4840d77a2",
            "cc9a3293e306444c8bbd6da7d4723b0e",
            "b336f6db05314e74b46234012515a7b4",
            "4ca8b40bd5074bf48f105f40a181c274",
            "5e6a7a87a60c4f39ab6850bf8b67097f",
            "13e02ab2e4ee42c3bba627bfea499bc7",
            "06e02e3f0fb14d4d966b21d27b00ed75",
            "64cd569eeba741419875ced4b4859aa0",
            "6cd3e00359524d57af8d31db991f7ef5",
            "aeb59a55533c4f5ba95f96f288e3c77d",
            "4afe9e251e424fcfa973a4261168e167",
            "8cf710f716b94ed09d4b6128fb311608",
            "adbc10008abb4c2287f864ea37e0c986",
            "67cc736250444fd79aab3193a47eb12c",
            "32eb5e10777f490a9de14eb2146338f5",
            "3a8ae843535b41ea93b2d8ce538f725d",
            "300d6b289a154777b518c9af3633b44d",
            "80a61d1f34e943cda3b1fe271b6ea5a9",
            "a80a53fc153f452abb0d03c00e2edfae",
            "fb383cf1284140ef84def444e00cd133"
          ]
        },
        "id": "03G4Ueh0IBea",
        "outputId": "21e6b2ef-6b60-44a2-d9b3-5f2cef128747"
      },
      "source": [
        "transforms_train = transforms.Compose([\n",
        "    transforms.Resize(28),\n",
        "    transforms.ToTensor(),\n",
        "    transforms.Normalize([0.5], [0.5])\n",
        "])\n",
        "\n",
        "train_dataset = datasets.MNIST(root=\"./dataset\", train=True, download=True, transform=transforms_train)\n",
        "dataloader = torch.utils.data.DataLoader(train_dataset, batch_size=128, shuffle=True, num_workers=4)"
      ],
      "execution_count": null,
      "outputs": [
        {
          "output_type": "stream",
          "text": [
            "Downloading http://yann.lecun.com/exdb/mnist/train-images-idx3-ubyte.gz to ./dataset/MNIST/raw/train-images-idx3-ubyte.gz\n"
          ],
          "name": "stdout"
        },
        {
          "output_type": "display_data",
          "data": {
            "application/vnd.jupyter.widget-view+json": {
              "model_id": "b6e6c9f7e31244a39243ce6c65df0a6d",
              "version_minor": 0,
              "version_major": 2
            },
            "text/plain": [
              "HBox(children=(FloatProgress(value=1.0, bar_style='info', max=1.0), HTML(value='')))"
            ]
          },
          "metadata": {
            "tags": []
          }
        },
        {
          "output_type": "stream",
          "text": [
            "Extracting ./dataset/MNIST/raw/train-images-idx3-ubyte.gz to ./dataset/MNIST/raw\n",
            "Downloading http://yann.lecun.com/exdb/mnist/train-labels-idx1-ubyte.gz to ./dataset/MNIST/raw/train-labels-idx1-ubyte.gz\n"
          ],
          "name": "stdout"
        },
        {
          "output_type": "display_data",
          "data": {
            "application/vnd.jupyter.widget-view+json": {
              "model_id": "81336ef29c804951adccebf01af9c717",
              "version_minor": 0,
              "version_major": 2
            },
            "text/plain": [
              "HBox(children=(FloatProgress(value=1.0, bar_style='info', max=1.0), HTML(value='')))"
            ]
          },
          "metadata": {
            "tags": []
          }
        },
        {
          "output_type": "stream",
          "text": [
            "Extracting ./dataset/MNIST/raw/train-labels-idx1-ubyte.gz to ./dataset/MNIST/raw\n",
            "Downloading http://yann.lecun.com/exdb/mnist/t10k-images-idx3-ubyte.gz to ./dataset/MNIST/raw/t10k-images-idx3-ubyte.gz\n"
          ],
          "name": "stdout"
        },
        {
          "output_type": "display_data",
          "data": {
            "application/vnd.jupyter.widget-view+json": {
              "model_id": "5e6a7a87a60c4f39ab6850bf8b67097f",
              "version_minor": 0,
              "version_major": 2
            },
            "text/plain": [
              "HBox(children=(FloatProgress(value=1.0, bar_style='info', max=1.0), HTML(value='')))"
            ]
          },
          "metadata": {
            "tags": []
          }
        },
        {
          "output_type": "stream",
          "text": [
            "Extracting ./dataset/MNIST/raw/t10k-images-idx3-ubyte.gz to ./dataset/MNIST/raw\n",
            "Downloading http://yann.lecun.com/exdb/mnist/t10k-labels-idx1-ubyte.gz to ./dataset/MNIST/raw/t10k-labels-idx1-ubyte.gz\n"
          ],
          "name": "stdout"
        },
        {
          "output_type": "display_data",
          "data": {
            "application/vnd.jupyter.widget-view+json": {
              "model_id": "adbc10008abb4c2287f864ea37e0c986",
              "version_minor": 0,
              "version_major": 2
            },
            "text/plain": [
              "HBox(children=(FloatProgress(value=1.0, bar_style='info', max=1.0), HTML(value='')))"
            ]
          },
          "metadata": {
            "tags": []
          }
        },
        {
          "output_type": "stream",
          "text": [
            "Extracting ./dataset/MNIST/raw/t10k-labels-idx1-ubyte.gz to ./dataset/MNIST/raw\n",
            "Processing...\n",
            "Done!\n",
            "\n",
            "\n",
            "\n"
          ],
          "name": "stdout"
        },
        {
          "output_type": "stream",
          "text": [
            "/usr/local/lib/python3.6/dist-packages/torchvision/datasets/mnist.py:480: UserWarning: The given NumPy array is not writeable, and PyTorch does not support non-writeable tensors. This means you can write to the underlying (supposedly non-writeable) NumPy array using the tensor. You may want to copy the array to protect its data or make it writeable before converting it to a tensor. This type of warning will be suppressed for the rest of this program. (Triggered internally at  /pytorch/torch/csrc/utils/tensor_numpy.cpp:141.)\n",
            "  return torch.from_numpy(parsed.astype(m[2], copy=False)).view(*s)\n"
          ],
          "name": "stderr"
        }
      ]
    },
    {
      "cell_type": "code",
      "metadata": {
        "id": "OU08eZAtIC_I"
      },
      "source": [
        "# 생성자(generator)와 판별자(discriminator) 초기화\n",
        "generator = Generator()\n",
        "discriminator = Discriminator()\n",
        "\n",
        "generator.cuda()\n",
        "discriminator.cuda()\n",
        "\n",
        "# 손실 함수(loss function)\n",
        "adversarial_loss = nn.BCELoss()\n",
        "adversarial_loss.cuda()\n",
        "\n",
        "# 학습률(learning rate) 설정\n",
        "lr = 0.0002\n",
        "\n",
        "# 생성자와 판별자를 위한 최적화 함수\n",
        "optimizer_G = torch.optim.Adam(generator.parameters(), lr=lr, betas=(0.5, 0.999))\n",
        "optimizer_D = torch.optim.Adam(discriminator.parameters(), lr=lr, betas=(0.5, 0.999))"
      ],
      "execution_count": null,
      "outputs": []
    },
    {
      "cell_type": "code",
      "metadata": {
        "colab": {
          "base_uri": "https://localhost:8080/",
          "height": 682
        },
        "id": "TWbMB4bwIGTj",
        "outputId": "8df144b1-5ac4-43de-e033-9a01abe63d8b"
      },
      "source": [
        "import time\n",
        "\n",
        "n_epochs = 200 # 학습의 횟수(epoch) 설정\n",
        "sample_interval = 2000 # 몇 번의 배치(batch)마다 결과를 출력할 것인지 설정\n",
        "start_time = time.time()\n",
        "\n",
        "for epoch in range(n_epochs):\n",
        "    for i, (imgs, _) in enumerate(dataloader):\n",
        "\n",
        "        # 진짜(real) 이미지와 가짜(fake) 이미지에 대한 정답 레이블 생성\n",
        "        real = torch.cuda.FloatTensor(imgs.size(0), 1).fill_(1.0) # 진짜(real): 1\n",
        "        fake = torch.cuda.FloatTensor(imgs.size(0), 1).fill_(0.0) # 가짜(fake): 0\n",
        "\n",
        "        real_imgs = imgs.cuda()\n",
        "\n",
        "        \"\"\" 생성자(generator)를 학습합니다. \"\"\"\n",
        "        optimizer_G.zero_grad()\n",
        "\n",
        "        # 랜덤 노이즈(noise) 샘플링\n",
        "        z = torch.normal(mean=0, std=1, size=(imgs.shape[0], latent_dim)).cuda()\n",
        "\n",
        "        # 이미지 생성\n",
        "        generated_imgs = generator(z)\n",
        "\n",
        "        # 생성자(generator)의 손실(loss) 값 계산\n",
        "        g_loss = adversarial_loss(discriminator(generated_imgs), real)\n",
        "\n",
        "        # 생성자(generator) 업데이트\n",
        "        g_loss.backward()\n",
        "        optimizer_G.step()\n",
        "\n",
        "        \"\"\" 판별자(discriminator)를 학습합니다. \"\"\"\n",
        "        optimizer_D.zero_grad()\n",
        "\n",
        "        # 판별자(discriminator)의 손실(loss) 값 계산\n",
        "        real_loss = adversarial_loss(discriminator(real_imgs), real)\n",
        "        fake_loss = adversarial_loss(discriminator(generated_imgs.detach()), fake)\n",
        "        d_loss = (real_loss + fake_loss) / 2\n",
        "\n",
        "        # 판별자(discriminator) 업데이트\n",
        "        d_loss.backward()\n",
        "        optimizer_D.step()\n",
        "\n",
        "        done = epoch * len(dataloader) + i\n",
        "        if done % sample_interval == 0:\n",
        "            # 생성된 이미지 중에서 25개만 선택하여 5 X 5 격자 이미지에 출력\n",
        "            save_image(generated_imgs.data[:25], f\"{done}.png\", nrow=5, normalize=True)\n",
        "\n",
        "    # 하나의 epoch이 끝날 때마다 로그(log) 출력\n",
        "    print(f\"[Epoch {epoch}/{n_epochs}] [D loss: {d_loss.item():.6f}] [G loss: {g_loss.item():.6f}] [Elapsed time: {time.time() - start_time:.2f}s]\")"
      ],
      "execution_count": null,
      "outputs": [
        {
          "output_type": "stream",
          "text": [
            "[Epoch 0/200] [D loss: 0.471670] [G loss: 1.166860] [Elapsed time: 12.78s]\n",
            "[Epoch 1/200] [D loss: 0.535426] [G loss: 0.569427] [Elapsed time: 25.32s]\n",
            "[Epoch 2/200] [D loss: 0.388310] [G loss: 2.074734] [Elapsed time: 38.32s]\n",
            "[Epoch 3/200] [D loss: 0.266366] [G loss: 1.776879] [Elapsed time: 51.23s]\n",
            "[Epoch 4/200] [D loss: 0.389307] [G loss: 2.149414] [Elapsed time: 64.16s]\n",
            "[Epoch 5/200] [D loss: 0.425459] [G loss: 0.815257] [Elapsed time: 77.33s]\n",
            "[Epoch 6/200] [D loss: 0.358152] [G loss: 1.159791] [Elapsed time: 90.29s]\n",
            "[Epoch 7/200] [D loss: 0.281800] [G loss: 2.161318] [Elapsed time: 103.34s]\n",
            "[Epoch 8/200] [D loss: 0.219923] [G loss: 1.346413] [Elapsed time: 116.51s]\n",
            "[Epoch 9/200] [D loss: 0.521301] [G loss: 3.376043] [Elapsed time: 129.59s]\n",
            "[Epoch 10/200] [D loss: 0.276850] [G loss: 1.200117] [Elapsed time: 142.61s]\n",
            "[Epoch 11/200] [D loss: 0.342518] [G loss: 2.819283] [Elapsed time: 155.76s]\n",
            "[Epoch 12/200] [D loss: 0.202867] [G loss: 1.578630] [Elapsed time: 168.98s]\n",
            "[Epoch 13/200] [D loss: 0.161344] [G loss: 1.792297] [Elapsed time: 182.08s]\n",
            "[Epoch 14/200] [D loss: 0.250423] [G loss: 1.993531] [Elapsed time: 195.50s]\n",
            "[Epoch 15/200] [D loss: 0.159189] [G loss: 3.117198] [Elapsed time: 208.78s]\n"
          ],
          "name": "stdout"
        },
        {
          "output_type": "error",
          "ename": "KeyboardInterrupt",
          "evalue": "ignored",
          "traceback": [
            "\u001b[0;31m---------------------------------------------------------------------------\u001b[0m",
            "\u001b[0;31mKeyboardInterrupt\u001b[0m                         Traceback (most recent call last)",
            "\u001b[0;32m<ipython-input-31-79bbf3e62942>\u001b[0m in \u001b[0;36m<module>\u001b[0;34m()\u001b[0m\n\u001b[1;32m     27\u001b[0m \u001b[0;34m\u001b[0m\u001b[0m\n\u001b[1;32m     28\u001b[0m         \u001b[0;31m# 생성자(generator) 업데이트\u001b[0m\u001b[0;34m\u001b[0m\u001b[0;34m\u001b[0m\u001b[0;34m\u001b[0m\u001b[0m\n\u001b[0;32m---> 29\u001b[0;31m         \u001b[0mg_loss\u001b[0m\u001b[0;34m.\u001b[0m\u001b[0mbackward\u001b[0m\u001b[0;34m(\u001b[0m\u001b[0;34m)\u001b[0m\u001b[0;34m\u001b[0m\u001b[0;34m\u001b[0m\u001b[0m\n\u001b[0m\u001b[1;32m     30\u001b[0m         \u001b[0moptimizer_G\u001b[0m\u001b[0;34m.\u001b[0m\u001b[0mstep\u001b[0m\u001b[0;34m(\u001b[0m\u001b[0;34m)\u001b[0m\u001b[0;34m\u001b[0m\u001b[0;34m\u001b[0m\u001b[0m\n\u001b[1;32m     31\u001b[0m \u001b[0;34m\u001b[0m\u001b[0m\n",
            "\u001b[0;32m/usr/local/lib/python3.6/dist-packages/torch/tensor.py\u001b[0m in \u001b[0;36mbackward\u001b[0;34m(self, gradient, retain_graph, create_graph)\u001b[0m\n\u001b[1;32m    219\u001b[0m                 \u001b[0mretain_graph\u001b[0m\u001b[0;34m=\u001b[0m\u001b[0mretain_graph\u001b[0m\u001b[0;34m,\u001b[0m\u001b[0;34m\u001b[0m\u001b[0;34m\u001b[0m\u001b[0m\n\u001b[1;32m    220\u001b[0m                 create_graph=create_graph)\n\u001b[0;32m--> 221\u001b[0;31m         \u001b[0mtorch\u001b[0m\u001b[0;34m.\u001b[0m\u001b[0mautograd\u001b[0m\u001b[0;34m.\u001b[0m\u001b[0mbackward\u001b[0m\u001b[0;34m(\u001b[0m\u001b[0mself\u001b[0m\u001b[0;34m,\u001b[0m \u001b[0mgradient\u001b[0m\u001b[0;34m,\u001b[0m \u001b[0mretain_graph\u001b[0m\u001b[0;34m,\u001b[0m \u001b[0mcreate_graph\u001b[0m\u001b[0;34m)\u001b[0m\u001b[0;34m\u001b[0m\u001b[0;34m\u001b[0m\u001b[0m\n\u001b[0m\u001b[1;32m    222\u001b[0m \u001b[0;34m\u001b[0m\u001b[0m\n\u001b[1;32m    223\u001b[0m     \u001b[0;32mdef\u001b[0m \u001b[0mregister_hook\u001b[0m\u001b[0;34m(\u001b[0m\u001b[0mself\u001b[0m\u001b[0;34m,\u001b[0m \u001b[0mhook\u001b[0m\u001b[0;34m)\u001b[0m\u001b[0;34m:\u001b[0m\u001b[0;34m\u001b[0m\u001b[0;34m\u001b[0m\u001b[0m\n",
            "\u001b[0;32m/usr/local/lib/python3.6/dist-packages/torch/autograd/__init__.py\u001b[0m in \u001b[0;36mbackward\u001b[0;34m(tensors, grad_tensors, retain_graph, create_graph, grad_variables)\u001b[0m\n\u001b[1;32m    130\u001b[0m     Variable._execution_engine.run_backward(\n\u001b[1;32m    131\u001b[0m         \u001b[0mtensors\u001b[0m\u001b[0;34m,\u001b[0m \u001b[0mgrad_tensors_\u001b[0m\u001b[0;34m,\u001b[0m \u001b[0mretain_graph\u001b[0m\u001b[0;34m,\u001b[0m \u001b[0mcreate_graph\u001b[0m\u001b[0;34m,\u001b[0m\u001b[0;34m\u001b[0m\u001b[0;34m\u001b[0m\u001b[0m\n\u001b[0;32m--> 132\u001b[0;31m         allow_unreachable=True)  # allow_unreachable flag\n\u001b[0m\u001b[1;32m    133\u001b[0m \u001b[0;34m\u001b[0m\u001b[0m\n\u001b[1;32m    134\u001b[0m \u001b[0;34m\u001b[0m\u001b[0m\n",
            "\u001b[0;31mKeyboardInterrupt\u001b[0m: "
          ]
        }
      ]
    },
    {
      "cell_type": "code",
      "metadata": {
        "id": "1dCG66lTIIQS"
      },
      "source": [
        ""
      ],
      "execution_count": null,
      "outputs": []
    }
  ]
}