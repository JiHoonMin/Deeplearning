{
  "nbformat": 4,
  "nbformat_minor": 0,
  "metadata": {
    "kernelspec": {
      "display_name": "Python 3",
      "language": "python",
      "name": "python3"
    },
    "language_info": {
      "codemirror_mode": {
        "name": "ipython",
        "version": 3
      },
      "file_extension": ".py",
      "mimetype": "text/x-python",
      "name": "python",
      "nbconvert_exporter": "python",
      "pygments_lexer": "ipython3",
      "version": "3.8.3"
    },
    "colab": {
      "name": "Week 10 - ipynb file for students.ipynb.txt",
      "provenance": [],
      "include_colab_link": true
    },
    "accelerator": "GPU"
  },
  "cells": [
    {
      "cell_type": "markdown",
      "metadata": {
        "id": "view-in-github",
        "colab_type": "text"
      },
      "source": [
        "<a href=\"https://colab.research.google.com/github/JiHoonMin/deeplearning/blob/main/Faster%20Optimizers_Learning%20Rate%20Scheduling.ipynb\" target=\"_parent\"><img src=\"https://colab.research.google.com/assets/colab-badge.svg\" alt=\"Open In Colab\"/></a>"
      ]
    },
    {
      "cell_type": "code",
      "metadata": {
        "id": "sdGoBD5w--rx"
      },
      "source": [
        "import tensorflow as tf\n",
        "from tensorflow import keras\n",
        "import numpy as np\n",
        "import os\n",
        "# to make this notebook's output stable across runs\n",
        "np.random.seed(42)\n",
        "%load_ext tensorboard\n",
        "# To plot pretty figures\n",
        "%matplotlib inline\n",
        "import matplotlib as mpl\n",
        "import matplotlib.pyplot as plt\n",
        "mpl.rc('axes', labelsize=14)\n",
        "mpl.rc('xtick', labelsize=12)\n",
        "mpl.rc('ytick', labelsize=12)"
      ],
      "execution_count": null,
      "outputs": []
    },
    {
      "cell_type": "code",
      "metadata": {
        "id": "n-LWrL-1--r4",
        "colab": {
          "base_uri": "https://localhost:8080/"
        },
        "outputId": "b0d31606-a858-42fe-e443-ebfc9ee88060"
      },
      "source": [
        "(X_train_full, y_train_full), (X_test, y_test) = keras.datasets.fashion_mnist.load_data()\n",
        "X_train_full = X_train_full / 255.0\n",
        "X_test = X_test / 255.0\n",
        "X_valid, X_train = X_train_full[:5000], X_train_full[5000:]\n",
        "y_valid, y_train = y_train_full[:5000], y_train_full[5000:]\n",
        "\n",
        "pixel_means = X_train.mean(axis=0, keepdims=True)\n",
        "pixel_stds = X_train.std(axis=0, keepdims=True)\n",
        "X_train_scaled = (X_train - pixel_means) / pixel_stds\n",
        "X_valid_scaled = (X_valid - pixel_means) / pixel_stds\n",
        "X_test_scaled = (X_test - pixel_means) / pixel_stds"
      ],
      "execution_count": null,
      "outputs": [
        {
          "output_type": "stream",
          "text": [
            "Downloading data from https://storage.googleapis.com/tensorflow/tf-keras-datasets/train-labels-idx1-ubyte.gz\n",
            "32768/29515 [=================================] - 0s 0us/step\n",
            "Downloading data from https://storage.googleapis.com/tensorflow/tf-keras-datasets/train-images-idx3-ubyte.gz\n",
            "26427392/26421880 [==============================] - 0s 0us/step\n",
            "Downloading data from https://storage.googleapis.com/tensorflow/tf-keras-datasets/t10k-labels-idx1-ubyte.gz\n",
            "8192/5148 [===============================================] - 0s 0us/step\n",
            "Downloading data from https://storage.googleapis.com/tensorflow/tf-keras-datasets/t10k-images-idx3-ubyte.gz\n",
            "4423680/4422102 [==============================] - 0s 0us/step\n"
          ],
          "name": "stdout"
        }
      ]
    },
    {
      "cell_type": "markdown",
      "metadata": {
        "id": "COZw-1bpAJME"
      },
      "source": [
        "# Lab 1: Faster Optimizers"
      ]
    },
    {
      "cell_type": "code",
      "metadata": {
        "id": "nBlh_Dv2ARVd"
      },
      "source": [
        "optimizer = keras.optimizers.SGD(lr=0.001,momentum=0.9)"
      ],
      "execution_count": null,
      "outputs": []
    },
    {
      "cell_type": "code",
      "metadata": {
        "id": "awXkxi1CAuZ0"
      },
      "source": [
        "optimizer = keras.optimizers.SGD(lr=0.001,momentum=0.9,nesterov=True)"
      ],
      "execution_count": null,
      "outputs": []
    },
    {
      "cell_type": "code",
      "metadata": {
        "id": "ClElLd70AdnS"
      },
      "source": [
        "optimizer = keras.optimizers.Adagrad(lr=0.001)"
      ],
      "execution_count": null,
      "outputs": []
    },
    {
      "cell_type": "code",
      "metadata": {
        "id": "1DeH_z3DBAB-"
      },
      "source": [
        "optimizer = keras.optimizers.RMSprop(lr=0.001, rho=0.9)"
      ],
      "execution_count": null,
      "outputs": []
    },
    {
      "cell_type": "code",
      "metadata": {
        "id": "uF0jGjsjBb91"
      },
      "source": [
        "optimizer = keras.optimizers.Adam(lr=0.001, beta_1=0.9, beta_2=0.999)"
      ],
      "execution_count": null,
      "outputs": []
    },
    {
      "cell_type": "code",
      "metadata": {
        "id": "YUJ0xC58BtDw"
      },
      "source": [
        "optimizer = keras.optimizers.Adamax(lr=0.001, beta_1=0.9, beta_2=0.999)"
      ],
      "execution_count": null,
      "outputs": []
    },
    {
      "cell_type": "code",
      "metadata": {
        "id": "slNr0YeEB1bc"
      },
      "source": [
        "optimizer = keras.optimizers.Nadam(lr=0.001, beta_1=0.9, beta_2=0.999)"
      ],
      "execution_count": null,
      "outputs": []
    },
    {
      "cell_type": "code",
      "metadata": {
        "id": "Gz3cVIaFB9mt"
      },
      "source": [
        "# Momentum optimization\n",
        "optimizer = keras.optimizers.SGD(lr=0.001, momentum=0.9)"
      ],
      "execution_count": null,
      "outputs": []
    },
    {
      "cell_type": "code",
      "metadata": {
        "id": "e17MS0mZCMrA"
      },
      "source": [
        "model = keras.models.Sequential([\n",
        "      keras.layers.Flatten(input_shape=[28, 28]),\n",
        "      keras.layers.Dense(300, activation=\"selu\", kernel_initializer=\"lecun_normal\"),\n",
        "      keras.layers.Dense(100, activation=\"selu\", kernel_initializer=\"lecun_normal\"),\n",
        "      keras.layers.Dense(10, activation=\"softmax\")\n",
        "])\n",
        "model.compile(loss=\"sparse_categorical_crossentropy\",optimizer=optimizer, metrics=[\"accuracy\"])"
      ],
      "execution_count": null,
      "outputs": []
    },
    {
      "cell_type": "code",
      "metadata": {
        "id": "GbH2B8qhDbsB",
        "colab": {
          "base_uri": "https://localhost:8080/"
        },
        "outputId": "e7334634-a837-44e3-ad06-2fea8f7f91e4"
      },
      "source": [
        "n_epochs=10\n",
        "history = model.fit(X_train_scaled,y_train,epochs=n_epochs,validation_data=(X_valid_scaled,y_valid))"
      ],
      "execution_count": null,
      "outputs": [
        {
          "output_type": "stream",
          "text": [
            "Epoch 1/10\n",
            "1719/1719 [==============================] - 4s 2ms/step - loss: 0.4908 - accuracy: 0.8274 - val_loss: 0.4088 - val_accuracy: 0.8590\n",
            "Epoch 2/10\n",
            "1719/1719 [==============================] - 4s 2ms/step - loss: 0.3795 - accuracy: 0.8660 - val_loss: 0.3749 - val_accuracy: 0.8688\n",
            "Epoch 3/10\n",
            "1719/1719 [==============================] - 3s 2ms/step - loss: 0.3440 - accuracy: 0.8777 - val_loss: 0.3701 - val_accuracy: 0.8662\n",
            "Epoch 4/10\n",
            "1719/1719 [==============================] - 3s 2ms/step - loss: 0.3209 - accuracy: 0.8852 - val_loss: 0.3534 - val_accuracy: 0.8784\n",
            "Epoch 5/10\n",
            "1719/1719 [==============================] - 4s 2ms/step - loss: 0.3024 - accuracy: 0.8919 - val_loss: 0.3412 - val_accuracy: 0.8788\n",
            "Epoch 6/10\n",
            "1719/1719 [==============================] - 3s 2ms/step - loss: 0.2869 - accuracy: 0.8972 - val_loss: 0.3343 - val_accuracy: 0.8808\n",
            "Epoch 7/10\n",
            "1719/1719 [==============================] - 3s 2ms/step - loss: 0.2736 - accuracy: 0.9018 - val_loss: 0.3333 - val_accuracy: 0.8814\n",
            "Epoch 8/10\n",
            "1719/1719 [==============================] - 3s 2ms/step - loss: 0.2611 - accuracy: 0.9054 - val_loss: 0.3285 - val_accuracy: 0.8828\n",
            "Epoch 9/10\n",
            "1719/1719 [==============================] - 4s 2ms/step - loss: 0.2494 - accuracy: 0.9095 - val_loss: 0.3233 - val_accuracy: 0.8872\n",
            "Epoch 10/10\n",
            "1719/1719 [==============================] - 4s 2ms/step - loss: 0.2399 - accuracy: 0.9139 - val_loss: 0.3250 - val_accuracy: 0.8868\n"
          ],
          "name": "stdout"
        }
      ]
    },
    {
      "cell_type": "code",
      "metadata": {
        "id": "_bZ8bSG4ELzc"
      },
      "source": [
        "#Adom Optimization\n",
        "optimizer = keras.optimizers.Adam(lr=0.001, beta_1=0.9,beta_2=0.999)"
      ],
      "execution_count": null,
      "outputs": []
    },
    {
      "cell_type": "code",
      "metadata": {
        "id": "mm8_oSwWEo92"
      },
      "source": [
        "model = keras.models.Sequential([\n",
        "      keras.layers.Flatten(input_shape=[28, 28]),\n",
        "      keras.layers.Dense(300, activation=\"selu\", kernel_initializer=\"lecun_normal\"),\n",
        "      keras.layers.Dense(100, activation=\"selu\", kernel_initializer=\"lecun_normal\"),\n",
        "      keras.layers.Dense(10, activation=\"softmax\")\n",
        "])\n",
        "model.compile(loss=\"sparse_categorical_crossentropy\",optimizer=optimizer, metrics=[\"accuracy\"])"
      ],
      "execution_count": null,
      "outputs": []
    },
    {
      "cell_type": "code",
      "metadata": {
        "id": "evHuIW2WE6E3",
        "colab": {
          "base_uri": "https://localhost:8080/"
        },
        "outputId": "9038c0c3-2a8b-49b2-d294-26fa664ffc3b"
      },
      "source": [
        "n_epochs=10\n",
        "history = model.fit(X_train_scaled,y_train,epochs=n_epochs,validation_data=(X_valid_scaled,y_valid))"
      ],
      "execution_count": null,
      "outputs": [
        {
          "output_type": "stream",
          "text": [
            "Epoch 1/10\n",
            "1719/1719 [==============================] - 4s 2ms/step - loss: 0.4963 - accuracy: 0.8302 - val_loss: 0.4528 - val_accuracy: 0.8464\n",
            "Epoch 2/10\n",
            "1719/1719 [==============================] - 4s 2ms/step - loss: 0.3549 - accuracy: 0.8711 - val_loss: 0.3403 - val_accuracy: 0.8794\n",
            "Epoch 3/10\n",
            "1719/1719 [==============================] - 4s 2ms/step - loss: 0.3108 - accuracy: 0.8855 - val_loss: 0.3531 - val_accuracy: 0.8732\n",
            "Epoch 4/10\n",
            "1719/1719 [==============================] - 4s 2ms/step - loss: 0.2854 - accuracy: 0.8944 - val_loss: 0.3246 - val_accuracy: 0.8872\n",
            "Epoch 5/10\n",
            "1719/1719 [==============================] - 4s 2ms/step - loss: 0.2656 - accuracy: 0.9001 - val_loss: 0.3850 - val_accuracy: 0.8720\n",
            "Epoch 6/10\n",
            "1719/1719 [==============================] - 4s 2ms/step - loss: 0.2425 - accuracy: 0.9098 - val_loss: 0.3568 - val_accuracy: 0.8732\n",
            "Epoch 7/10\n",
            "1719/1719 [==============================] - 4s 2ms/step - loss: 0.2276 - accuracy: 0.9151 - val_loss: 0.3455 - val_accuracy: 0.8854\n",
            "Epoch 8/10\n",
            "1719/1719 [==============================] - 4s 2ms/step - loss: 0.2113 - accuracy: 0.9196 - val_loss: 0.3612 - val_accuracy: 0.8948\n",
            "Epoch 9/10\n",
            "1719/1719 [==============================] - 4s 2ms/step - loss: 0.1969 - accuracy: 0.9271 - val_loss: 0.4164 - val_accuracy: 0.8822\n",
            "Epoch 10/10\n",
            "1719/1719 [==============================] - 4s 2ms/step - loss: 0.1911 - accuracy: 0.9286 - val_loss: 0.3752 - val_accuracy: 0.8906\n"
          ],
          "name": "stdout"
        }
      ]
    },
    {
      "cell_type": "markdown",
      "metadata": {
        "id": "BPOyiBWL--r8"
      },
      "source": [
        "# Lab 2: Learning Rate Scheduling\n",
        "\n",
        "> 들여쓴 블록\n",
        "\n",
        "> 들여쓴 블록\n",
        "\n",
        "\n",
        "\n"
      ]
    },
    {
      "cell_type": "markdown",
      "metadata": {
        "id": "u0wCpurD--r8"
      },
      "source": [
        "## Power Scheduling"
      ]
    },
    {
      "cell_type": "code",
      "metadata": {
        "id": "I-T__oB_--r9"
      },
      "source": [
        "optimizer = keras.optimizers.SGD(lr=0.01,decay = 1e-4)"
      ],
      "execution_count": null,
      "outputs": []
    },
    {
      "cell_type": "code",
      "metadata": {
        "id": "WsucjSDf--sB"
      },
      "source": [
        "model = keras.models.Sequential([\n",
        "      keras.layers.Flatten(input_shape=[28, 28]),\n",
        "      keras.layers.Dense(300, activation=\"selu\", kernel_initializer=\"lecun_normal\"),\n",
        "      keras.layers.Dense(100, activation=\"selu\", kernel_initializer=\"lecun_normal\"),\n",
        "      keras.layers.Dense(10, activation=\"softmax\")\n",
        "])\n",
        "model.compile(loss=\"sparse_categorical_crossentropy\",optimizer=optimizer, metrics=[\"accuracy\"])"
      ],
      "execution_count": null,
      "outputs": []
    },
    {
      "cell_type": "code",
      "metadata": {
        "id": "M7M4FED_F37t",
        "colab": {
          "base_uri": "https://localhost:8080/"
        },
        "outputId": "d681e457-bf34-4958-ac0e-53be245cf5f8"
      },
      "source": [
        "n_epochs=25\n",
        "history = model.fit(X_train_scaled,y_train,epochs=n_epochs,validation_data=(X_valid_scaled,y_valid))"
      ],
      "execution_count": null,
      "outputs": [
        {
          "output_type": "stream",
          "text": [
            "Epoch 1/25\n",
            "1719/1719 [==============================] - 4s 2ms/step - loss: 0.4867 - accuracy: 0.8277 - val_loss: 0.4107 - val_accuracy: 0.8588\n",
            "Epoch 2/25\n",
            "1719/1719 [==============================] - 3s 2ms/step - loss: 0.3800 - accuracy: 0.8654 - val_loss: 0.3893 - val_accuracy: 0.8650\n",
            "Epoch 3/25\n",
            "1719/1719 [==============================] - 3s 2ms/step - loss: 0.3458 - accuracy: 0.8768 - val_loss: 0.3608 - val_accuracy: 0.8732\n",
            "Epoch 4/25\n",
            "1719/1719 [==============================] - 3s 2ms/step - loss: 0.3243 - accuracy: 0.8842 - val_loss: 0.3603 - val_accuracy: 0.8730\n",
            "Epoch 5/25\n",
            "1719/1719 [==============================] - 3s 2ms/step - loss: 0.3089 - accuracy: 0.8903 - val_loss: 0.3518 - val_accuracy: 0.8794\n",
            "Epoch 6/25\n",
            "1719/1719 [==============================] - 3s 2ms/step - loss: 0.2955 - accuracy: 0.8949 - val_loss: 0.3467 - val_accuracy: 0.8778\n",
            "Epoch 7/25\n",
            "1719/1719 [==============================] - 4s 2ms/step - loss: 0.2861 - accuracy: 0.8985 - val_loss: 0.3402 - val_accuracy: 0.8796\n",
            "Epoch 8/25\n",
            "1719/1719 [==============================] - 4s 2ms/step - loss: 0.2767 - accuracy: 0.9020 - val_loss: 0.3405 - val_accuracy: 0.8796\n",
            "Epoch 9/25\n",
            "1719/1719 [==============================] - 4s 2ms/step - loss: 0.2691 - accuracy: 0.9035 - val_loss: 0.3426 - val_accuracy: 0.8818\n",
            "Epoch 10/25\n",
            "1719/1719 [==============================] - 4s 2ms/step - loss: 0.2621 - accuracy: 0.9068 - val_loss: 0.3350 - val_accuracy: 0.8830\n",
            "Epoch 11/25\n",
            "1719/1719 [==============================] - 4s 2ms/step - loss: 0.2565 - accuracy: 0.9086 - val_loss: 0.3364 - val_accuracy: 0.8828\n",
            "Epoch 12/25\n",
            "1719/1719 [==============================] - 4s 2ms/step - loss: 0.2507 - accuracy: 0.9103 - val_loss: 0.3286 - val_accuracy: 0.8872\n",
            "Epoch 13/25\n",
            "1719/1719 [==============================] - 4s 2ms/step - loss: 0.2459 - accuracy: 0.9122 - val_loss: 0.3307 - val_accuracy: 0.8850\n",
            "Epoch 14/25\n",
            "1719/1719 [==============================] - 4s 3ms/step - loss: 0.2407 - accuracy: 0.9146 - val_loss: 0.3343 - val_accuracy: 0.8846\n",
            "Epoch 15/25\n",
            "1719/1719 [==============================] - 4s 3ms/step - loss: 0.2365 - accuracy: 0.9163 - val_loss: 0.3270 - val_accuracy: 0.8884\n",
            "Epoch 16/25\n",
            "1719/1719 [==============================] - 4s 2ms/step - loss: 0.2326 - accuracy: 0.9167 - val_loss: 0.3260 - val_accuracy: 0.8880\n",
            "Epoch 17/25\n",
            "1719/1719 [==============================] - 4s 2ms/step - loss: 0.2288 - accuracy: 0.9184 - val_loss: 0.3303 - val_accuracy: 0.8850\n",
            "Epoch 18/25\n",
            "1719/1719 [==============================] - 4s 2ms/step - loss: 0.2253 - accuracy: 0.9202 - val_loss: 0.3276 - val_accuracy: 0.8876\n",
            "Epoch 19/25\n",
            "1719/1719 [==============================] - 4s 2ms/step - loss: 0.2218 - accuracy: 0.9216 - val_loss: 0.3252 - val_accuracy: 0.8866\n",
            "Epoch 20/25\n",
            "1719/1719 [==============================] - 4s 2ms/step - loss: 0.2186 - accuracy: 0.9232 - val_loss: 0.3227 - val_accuracy: 0.8900\n",
            "Epoch 21/25\n",
            "1719/1719 [==============================] - 4s 2ms/step - loss: 0.2157 - accuracy: 0.9244 - val_loss: 0.3238 - val_accuracy: 0.8896\n",
            "Epoch 22/25\n",
            "1719/1719 [==============================] - 4s 2ms/step - loss: 0.2124 - accuracy: 0.9252 - val_loss: 0.3264 - val_accuracy: 0.8868\n",
            "Epoch 23/25\n",
            "1719/1719 [==============================] - 4s 2ms/step - loss: 0.2107 - accuracy: 0.9261 - val_loss: 0.3256 - val_accuracy: 0.8890\n",
            "Epoch 24/25\n",
            "1719/1719 [==============================] - 4s 2ms/step - loss: 0.2075 - accuracy: 0.9278 - val_loss: 0.3312 - val_accuracy: 0.8866\n",
            "Epoch 25/25\n",
            "1719/1719 [==============================] - 4s 2ms/step - loss: 0.2052 - accuracy: 0.9287 - val_loss: 0.3267 - val_accuracy: 0.8908\n"
          ],
          "name": "stdout"
        }
      ]
    },
    {
      "cell_type": "code",
      "metadata": {
        "id": "fid35mGy--sH",
        "colab": {
          "base_uri": "https://localhost:8080/",
          "height": 303
        },
        "outputId": "0810377b-aab6-4cf2-c28c-e2851463d0c4"
      },
      "source": [
        "learning_rate = 0.01\n",
        "decay = 1e-4\n",
        "batch_size = 32\n",
        "n_steps_per_epoch = len(X_train) // batch_size\n",
        "epochs = np.arange(n_epochs)\n",
        "lrs = learning_rate / (1 + decay * epochs * n_steps_per_epoch)\n",
        "\n",
        "plt.plot(epochs, lrs,  \"o-\")\n",
        "plt.axis([0, n_epochs - 1, 0, 0.01])\n",
        "plt.xlabel(\"Epoch\")\n",
        "plt.ylabel(\"Learning Rate\")\n",
        "plt.title(\"Power Scheduling\", fontsize=14)\n",
        "plt.grid(True)\n",
        "plt.show()"
      ],
      "execution_count": null,
      "outputs": [
        {
          "output_type": "display_data",
          "data": {
            "image/png": "[encoded data removed]",
            "text/plain": [
              "<Figure size 432x288 with 1 Axes>"
            ]
          },
          "metadata": {
            "tags": [],
            "needs_background": "light"
          }
        }
      ]
    },
    {
      "cell_type": "markdown",
      "metadata": {
        "id": "pQavfnpQ--sL"
      },
      "source": [
        "## Exponential Scheduling"
      ]
    },
    {
      "cell_type": "code",
      "metadata": {
        "id": "C6aEoD76--sL"
      },
      "source": [
        "def exponetial_decay(lr0,s):\n",
        "  def exponential_decay_fn(epoch):\n",
        "    return lr0*0.1**(epoch/s)\n",
        "  return exponential_decay_fn\n",
        "\n",
        "exponential_decay_fn = exponetial_decay(lr0=0.01,s=20)"
      ],
      "execution_count": null,
      "outputs": []
    },
    {
      "cell_type": "code",
      "metadata": {
        "id": "_hm6m4Qi--sP"
      },
      "source": [
        "model = keras.models.Sequential([\n",
        "      keras.layers.Flatten(input_shape=[28, 28]),\n",
        "      keras.layers.Dense(300, activation=\"selu\", kernel_initializer=\"lecun_normal\"),\n",
        "      keras.layers.Dense(100, activation=\"selu\", kernel_initializer=\"lecun_normal\"),\n",
        "      keras.layers.Dense(10, activation=\"softmax\")\n",
        "])\n",
        "model.compile(loss=\"sparse_categorical_crossentropy\",optimizer=\"nadam\", metrics=[\"accuracy\"])\n",
        "n_epochs = 25"
      ],
      "execution_count": null,
      "outputs": []
    },
    {
      "cell_type": "code",
      "metadata": {
        "id": "DsU7RrtLHC4q",
        "colab": {
          "base_uri": "https://localhost:8080/"
        },
        "outputId": "30436bde-5866-4116-924b-f4b897918ec5"
      },
      "source": [
        "lr_scheduler = keras.callbacks.LearningRateScheduler(exponential_decay_fn)\n",
        "histroy = model.fit(X_train_scaled,y_train,epochs=n_epochs,\n",
        "                    validation_data=(X_valid_scaled,y_valid)\n",
        "                    ,callbacks=[lr_scheduler])"
      ],
      "execution_count": null,
      "outputs": [
        {
          "output_type": "stream",
          "text": [
            "Epoch 1/25\n",
            "1719/1719 [==============================] - 5s 3ms/step - loss: 0.8798 - accuracy: 0.7464 - val_loss: 0.8723 - val_accuracy: 0.7094\n",
            "Epoch 2/25\n",
            "1719/1719 [==============================] - 5s 3ms/step - loss: 0.7136 - accuracy: 0.7854 - val_loss: 0.5870 - val_accuracy: 0.8088\n",
            "Epoch 3/25\n",
            "1719/1719 [==============================] - 5s 3ms/step - loss: 0.5959 - accuracy: 0.8168 - val_loss: 0.6639 - val_accuracy: 0.7944\n",
            "Epoch 4/25\n",
            "1719/1719 [==============================] - 5s 3ms/step - loss: 0.5398 - accuracy: 0.8341 - val_loss: 0.6134 - val_accuracy: 0.8168\n",
            "Epoch 5/25\n",
            "1719/1719 [==============================] - 5s 3ms/step - loss: 0.5141 - accuracy: 0.8396 - val_loss: 0.5638 - val_accuracy: 0.8260\n",
            "Epoch 6/25\n",
            "1719/1719 [==============================] - 5s 3ms/step - loss: 0.4610 - accuracy: 0.8564 - val_loss: 0.5341 - val_accuracy: 0.8460\n",
            "Epoch 7/25\n",
            "1719/1719 [==============================] - 5s 3ms/step - loss: 0.4147 - accuracy: 0.8687 - val_loss: 0.5029 - val_accuracy: 0.8482\n",
            "Epoch 8/25\n",
            "1719/1719 [==============================] - 5s 3ms/step - loss: 0.3914 - accuracy: 0.8731 - val_loss: 0.4850 - val_accuracy: 0.8560\n",
            "Epoch 9/25\n",
            "1719/1719 [==============================] - 5s 3ms/step - loss: 0.3553 - accuracy: 0.8853 - val_loss: 0.4770 - val_accuracy: 0.8634\n",
            "Epoch 10/25\n",
            "1719/1719 [==============================] - 5s 3ms/step - loss: 0.3319 - accuracy: 0.8893 - val_loss: 0.4913 - val_accuracy: 0.8624\n",
            "Epoch 11/25\n",
            "1719/1719 [==============================] - 5s 3ms/step - loss: 0.3068 - accuracy: 0.8976 - val_loss: 0.5005 - val_accuracy: 0.8706\n",
            "Epoch 12/25\n",
            "1719/1719 [==============================] - 5s 3ms/step - loss: 0.2813 - accuracy: 0.9059 - val_loss: 0.4358 - val_accuracy: 0.8796\n",
            "Epoch 13/25\n",
            "1719/1719 [==============================] - 5s 3ms/step - loss: 0.2660 - accuracy: 0.9108 - val_loss: 0.4618 - val_accuracy: 0.8782\n",
            "Epoch 14/25\n",
            "1719/1719 [==============================] - 5s 3ms/step - loss: 0.2478 - accuracy: 0.9172 - val_loss: 0.4233 - val_accuracy: 0.8824\n",
            "Epoch 15/25\n",
            "1719/1719 [==============================] - 5s 3ms/step - loss: 0.2349 - accuracy: 0.9222 - val_loss: 0.4481 - val_accuracy: 0.8850\n",
            "Epoch 16/25\n",
            "1719/1719 [==============================] - 5s 3ms/step - loss: 0.2146 - accuracy: 0.9273 - val_loss: 0.5265 - val_accuracy: 0.8856\n",
            "Epoch 17/25\n",
            "1719/1719 [==============================] - 5s 3ms/step - loss: 0.1989 - accuracy: 0.9320 - val_loss: 0.4537 - val_accuracy: 0.8888\n",
            "Epoch 18/25\n",
            "1719/1719 [==============================] - 6s 3ms/step - loss: 0.1844 - accuracy: 0.9377 - val_loss: 0.4750 - val_accuracy: 0.8884\n",
            "Epoch 19/25\n",
            "1719/1719 [==============================] - 5s 3ms/step - loss: 0.1717 - accuracy: 0.9421 - val_loss: 0.5130 - val_accuracy: 0.8888\n",
            "Epoch 20/25\n",
            "1719/1719 [==============================] - 5s 3ms/step - loss: 0.1618 - accuracy: 0.9472 - val_loss: 0.5279 - val_accuracy: 0.8894\n",
            "Epoch 21/25\n",
            "1719/1719 [==============================] - 5s 3ms/step - loss: 0.1498 - accuracy: 0.9511 - val_loss: 0.4917 - val_accuracy: 0.8900\n",
            "Epoch 22/25\n",
            "1719/1719 [==============================] - 5s 3ms/step - loss: 0.1387 - accuracy: 0.9546 - val_loss: 0.5445 - val_accuracy: 0.8904\n",
            "Epoch 23/25\n",
            "1719/1719 [==============================] - 5s 3ms/step - loss: 0.1311 - accuracy: 0.9580 - val_loss: 0.5548 - val_accuracy: 0.8870\n",
            "Epoch 24/25\n",
            "1719/1719 [==============================] - 5s 3ms/step - loss: 0.1233 - accuracy: 0.9603 - val_loss: 0.5675 - val_accuracy: 0.8880\n",
            "Epoch 25/25\n",
            "1719/1719 [==============================] - 5s 3ms/step - loss: 0.1170 - accuracy: 0.9625 - val_loss: 0.5686 - val_accuracy: 0.8880\n"
          ],
          "name": "stdout"
        }
      ]
    },
    {
      "cell_type": "code",
      "metadata": {
        "id": "H-Gl1KO_--sU",
        "colab": {
          "base_uri": "https://localhost:8080/",
          "height": 234
        },
        "outputId": "bb490b72-cc2b-45c5-bccf-333df19101d4"
      },
      "source": [
        "plt.plot(history.epoch, history.history[\"lr\"], \"o-\")\n",
        "plt.axis([0, n_epochs - 1, 0, 0.011])\n",
        "plt.xlabel(\"Epoch\")\n",
        "plt.ylabel(\"Learning Rate\")\n",
        "plt.title(\"Exponential Scheduling\", fontsize=14)\n",
        "plt.grid(True)\n",
        "plt.show()"
      ],
      "execution_count": null,
      "outputs": [
        {
          "output_type": "error",
          "ename": "KeyError",
          "evalue": "ignored",
          "traceback": [
            "\u001b[0;31m---------------------------------------------------------------------------\u001b[0m",
            "\u001b[0;31mKeyError\u001b[0m                                  Traceback (most recent call last)",
            "\u001b[0;32m<ipython-input-23-3aae5c07d246>\u001b[0m in \u001b[0;36m<module>\u001b[0;34m()\u001b[0m\n\u001b[0;32m----> 1\u001b[0;31m \u001b[0mplt\u001b[0m\u001b[0;34m.\u001b[0m\u001b[0mplot\u001b[0m\u001b[0;34m(\u001b[0m\u001b[0mhistory\u001b[0m\u001b[0;34m.\u001b[0m\u001b[0mepoch\u001b[0m\u001b[0;34m,\u001b[0m \u001b[0mhistory\u001b[0m\u001b[0;34m.\u001b[0m\u001b[0mhistory\u001b[0m\u001b[0;34m[\u001b[0m\u001b[0;34m\"lr\"\u001b[0m\u001b[0;34m]\u001b[0m\u001b[0;34m,\u001b[0m \u001b[0;34m\"o-\"\u001b[0m\u001b[0;34m)\u001b[0m\u001b[0;34m\u001b[0m\u001b[0;34m\u001b[0m\u001b[0m\n\u001b[0m\u001b[1;32m      2\u001b[0m \u001b[0mplt\u001b[0m\u001b[0;34m.\u001b[0m\u001b[0maxis\u001b[0m\u001b[0;34m(\u001b[0m\u001b[0;34m[\u001b[0m\u001b[0;36m0\u001b[0m\u001b[0;34m,\u001b[0m \u001b[0mn_epochs\u001b[0m \u001b[0;34m-\u001b[0m \u001b[0;36m1\u001b[0m\u001b[0;34m,\u001b[0m \u001b[0;36m0\u001b[0m\u001b[0;34m,\u001b[0m \u001b[0;36m0.011\u001b[0m\u001b[0;34m]\u001b[0m\u001b[0;34m)\u001b[0m\u001b[0;34m\u001b[0m\u001b[0;34m\u001b[0m\u001b[0m\n\u001b[1;32m      3\u001b[0m \u001b[0mplt\u001b[0m\u001b[0;34m.\u001b[0m\u001b[0mxlabel\u001b[0m\u001b[0;34m(\u001b[0m\u001b[0;34m\"Epoch\"\u001b[0m\u001b[0;34m)\u001b[0m\u001b[0;34m\u001b[0m\u001b[0;34m\u001b[0m\u001b[0m\n\u001b[1;32m      4\u001b[0m \u001b[0mplt\u001b[0m\u001b[0;34m.\u001b[0m\u001b[0mylabel\u001b[0m\u001b[0;34m(\u001b[0m\u001b[0;34m\"Learning Rate\"\u001b[0m\u001b[0;34m)\u001b[0m\u001b[0;34m\u001b[0m\u001b[0;34m\u001b[0m\u001b[0m\n\u001b[1;32m      5\u001b[0m \u001b[0mplt\u001b[0m\u001b[0;34m.\u001b[0m\u001b[0mtitle\u001b[0m\u001b[0;34m(\u001b[0m\u001b[0;34m\"Exponential Scheduling\"\u001b[0m\u001b[0;34m,\u001b[0m \u001b[0mfontsize\u001b[0m\u001b[0;34m=\u001b[0m\u001b[0;36m14\u001b[0m\u001b[0;34m)\u001b[0m\u001b[0;34m\u001b[0m\u001b[0;34m\u001b[0m\u001b[0m\n",
            "\u001b[0;31mKeyError\u001b[0m: 'lr'"
          ]
        }
      ]
    },
    {
      "cell_type": "markdown",
      "metadata": {
        "id": "T4zY0yvA--sX"
      },
      "source": [
        "## Piecewise Constant Scheduling"
      ]
    },
    {
      "cell_type": "code",
      "metadata": {
        "id": "edCVwRUI--sY"
      },
      "source": [
        "def piecewise_constant_fn(epoch):\n",
        "  if epoch<5:\n",
        "    return 0.01\n",
        "  elif epoch<15:\n",
        "    return 0.005\n",
        "  else:\n",
        "    return 0.001\n"
      ],
      "execution_count": null,
      "outputs": []
    },
    {
      "cell_type": "code",
      "metadata": {
        "id": "S6TcJ02P--sb"
      },
      "source": [
        "model = keras.models.Sequential([\n",
        "      keras.layers.Flatten(input_shape=[28, 28]),\n",
        "      keras.layers.Dense(300, activation=\"selu\", kernel_initializer=\"lecun_normal\"),\n",
        "      keras.layers.Dense(100, activation=\"selu\", kernel_initializer=\"lecun_normal\"),\n",
        "      keras.layers.Dense(10, activation=\"softmax\")\n",
        "])\n",
        "model.compile(loss=\"sparse_categorical_crossentropy\",optimizer=\"nadam\", metrics=[\"accuracy\"])\n",
        "n_epochs = 25"
      ],
      "execution_count": null,
      "outputs": []
    },
    {
      "cell_type": "code",
      "metadata": {
        "id": "aqJnxunjIait",
        "colab": {
          "base_uri": "https://localhost:8080/"
        },
        "outputId": "18b6a6a2-bbbb-4ece-abdb-71bac8744dc5"
      },
      "source": [
        "lr_scheduler = keras.callbacks.LearningRateScheduler(piecewise_constant_fn)\n",
        "histroy = model.fit(X_train_scaled,y_train,epochs=n_epochs,validation_data=(X_valid_scaled,y_valid)\n",
        "                    ,callbacks=[lr_scheduler])"
      ],
      "execution_count": null,
      "outputs": [
        {
          "output_type": "stream",
          "text": [
            "Epoch 1/25\n",
            "1719/1719 [==============================] - 5s 3ms/step - loss: 0.8594 - accuracy: 0.7544 - val_loss: 0.7204 - val_accuracy: 0.7656\n",
            "Epoch 2/25\n",
            "1719/1719 [==============================] - 5s 3ms/step - loss: 0.8687 - accuracy: 0.7489 - val_loss: 1.0164 - val_accuracy: 0.6970\n",
            "Epoch 3/25\n",
            "1719/1719 [==============================] - 5s 3ms/step - loss: 0.8713 - accuracy: 0.7556 - val_loss: 1.0303 - val_accuracy: 0.7222\n",
            "Epoch 4/25\n",
            "1719/1719 [==============================] - 5s 3ms/step - loss: 0.8127 - accuracy: 0.7632 - val_loss: 0.9689 - val_accuracy: 0.6836\n",
            "Epoch 5/25\n",
            "1719/1719 [==============================] - 5s 3ms/step - loss: 0.8541 - accuracy: 0.7419 - val_loss: 0.8714 - val_accuracy: 0.7186\n",
            "Epoch 6/25\n",
            "1719/1719 [==============================] - 5s 3ms/step - loss: 0.5280 - accuracy: 0.8386 - val_loss: 0.5427 - val_accuracy: 0.8466\n",
            "Epoch 7/25\n",
            "1719/1719 [==============================] - 5s 3ms/step - loss: 0.4638 - accuracy: 0.8508 - val_loss: 0.5939 - val_accuracy: 0.8264\n",
            "Epoch 8/25\n",
            "1719/1719 [==============================] - 5s 3ms/step - loss: 0.4739 - accuracy: 0.8527 - val_loss: 0.5802 - val_accuracy: 0.8436\n",
            "Epoch 9/25\n",
            "1719/1719 [==============================] - 5s 3ms/step - loss: 0.4429 - accuracy: 0.8611 - val_loss: 0.5509 - val_accuracy: 0.8564\n",
            "Epoch 10/25\n",
            "1719/1719 [==============================] - 5s 3ms/step - loss: 0.4190 - accuracy: 0.8658 - val_loss: 0.5379 - val_accuracy: 0.8502\n",
            "Epoch 11/25\n",
            "1719/1719 [==============================] - 5s 3ms/step - loss: 0.4272 - accuracy: 0.8696 - val_loss: 0.5701 - val_accuracy: 0.8598\n",
            "Epoch 12/25\n",
            "1719/1719 [==============================] - 5s 3ms/step - loss: 0.3946 - accuracy: 0.8713 - val_loss: 0.6436 - val_accuracy: 0.8422\n",
            "Epoch 13/25\n",
            "1719/1719 [==============================] - 5s 3ms/step - loss: 0.4342 - accuracy: 0.8655 - val_loss: 0.5502 - val_accuracy: 0.8444\n",
            "Epoch 14/25\n",
            "1719/1719 [==============================] - 5s 3ms/step - loss: 0.4070 - accuracy: 0.8733 - val_loss: 0.6863 - val_accuracy: 0.8432\n",
            "Epoch 15/25\n",
            "1719/1719 [==============================] - 6s 3ms/step - loss: 0.3917 - accuracy: 0.8767 - val_loss: 0.5119 - val_accuracy: 0.8484\n",
            "Epoch 16/25\n",
            "1719/1719 [==============================] - 5s 3ms/step - loss: 0.2635 - accuracy: 0.9027 - val_loss: 0.4140 - val_accuracy: 0.8842\n",
            "Epoch 17/25\n",
            "1719/1719 [==============================] - 6s 3ms/step - loss: 0.2390 - accuracy: 0.9147 - val_loss: 0.4510 - val_accuracy: 0.8790\n",
            "Epoch 18/25\n",
            "1719/1719 [==============================] - 6s 3ms/step - loss: 0.2255 - accuracy: 0.9177 - val_loss: 0.4547 - val_accuracy: 0.8814\n",
            "Epoch 19/25\n",
            "1719/1719 [==============================] - 6s 3ms/step - loss: 0.2144 - accuracy: 0.9229 - val_loss: 0.4659 - val_accuracy: 0.8800\n",
            "Epoch 20/25\n",
            "1719/1719 [==============================] - 5s 3ms/step - loss: 0.2073 - accuracy: 0.9250 - val_loss: 0.4758 - val_accuracy: 0.8830\n",
            "Epoch 21/25\n",
            "1719/1719 [==============================] - 5s 3ms/step - loss: 0.2008 - accuracy: 0.9277 - val_loss: 0.4652 - val_accuracy: 0.8792\n",
            "Epoch 22/25\n",
            "1719/1719 [==============================] - 5s 3ms/step - loss: 0.1933 - accuracy: 0.9312 - val_loss: 0.4860 - val_accuracy: 0.8830\n",
            "Epoch 23/25\n",
            "1719/1719 [==============================] - 5s 3ms/step - loss: 0.1853 - accuracy: 0.9341 - val_loss: 0.5017 - val_accuracy: 0.8804\n",
            "Epoch 24/25\n",
            "1719/1719 [==============================] - 5s 3ms/step - loss: 0.1808 - accuracy: 0.9348 - val_loss: 0.5445 - val_accuracy: 0.8756\n",
            "Epoch 25/25\n",
            "1719/1719 [==============================] - 5s 3ms/step - loss: 0.1745 - accuracy: 0.9377 - val_loss: 0.5424 - val_accuracy: 0.8844\n"
          ],
          "name": "stdout"
        }
      ]
    },
    {
      "cell_type": "code",
      "metadata": {
        "id": "qMJh3ZDj--sd",
        "colab": {
          "base_uri": "https://localhost:8080/",
          "height": 303
        },
        "outputId": "a1561794-c143-4903-fc9b-da0f47199738"
      },
      "source": [
        "plt.plot(history.epoch, [piecewise_constant_fn(epoch) for epoch in history.epoch], \"o-\")\n",
        "plt.axis([0, n_epochs - 1, 0, 0.011])\n",
        "plt.xlabel(\"Epoch\")\n",
        "plt.ylabel(\"Learning Rate\")\n",
        "plt.title(\"Piecewise Constant Scheduling\", fontsize=14)\n",
        "plt.grid(True)\n",
        "plt.show()"
      ],
      "execution_count": null,
      "outputs": [
        {
          "output_type": "display_data",
          "data": {
            "image/png": "[encoded data removed]",
            "text/plain": [
              "<Figure size 432x288 with 1 Axes>"
            ]
          },
          "metadata": {
            "tags": [],
            "needs_background": "light"
          }
        }
      ]
    },
    {
      "cell_type": "markdown",
      "metadata": {
        "id": "zT9OQG4wO0Uv"
      },
      "source": [
        "# Lab 3: Regulariziton\n",
        "\n",
        "\n"
      ]
    },
    {
      "cell_type": "code",
      "metadata": {
        "id": "EeMQQpjn--sg",
        "colab": {
          "base_uri": "https://localhost:8080/"
        },
        "outputId": "1482da9f-d5bc-48e9-ee7b-b3af9e9b07ec"
      },
      "source": [
        "layer = keras.layers.Dense(100,activation=\"elu\",\n",
        "                           kernel_initializer=\"he_normal\",\n",
        "                           kernal_regularizer=keras.regularizers.l2(0.01))"
      ],
      "execution_count": null,
      "outputs": [
        {
          "output_type": "error",
          "ename": "TypeError",
          "evalue": "ignored",
          "traceback": [
            "\u001b[0;31m---------------------------------------------------------------------------\u001b[0m",
            "\u001b[0;31mTypeError\u001b[0m                                 Traceback (most recent call last)",
            "\u001b[0;32m<ipython-input-28-3ed6753e5ca3>\u001b[0m in \u001b[0;36m<module>\u001b[0;34m()\u001b[0m\n\u001b[1;32m      1\u001b[0m layer = keras.layers.Dense(100,activation=\"elu\",\n\u001b[1;32m      2\u001b[0m                            \u001b[0mkernel_initializer\u001b[0m\u001b[0;34m=\u001b[0m\u001b[0;34m\"he_normal\"\u001b[0m\u001b[0;34m,\u001b[0m\u001b[0;34m\u001b[0m\u001b[0;34m\u001b[0m\u001b[0m\n\u001b[0;32m----> 3\u001b[0;31m                            kernal_regularizer=keras.regularizers.l2(0.01))\n\u001b[0m",
            "\u001b[0;32m/usr/local/lib/python3.6/dist-packages/tensorflow/python/keras/layers/core.py\u001b[0m in \u001b[0;36m__init__\u001b[0;34m(self, units, activation, use_bias, kernel_initializer, bias_initializer, kernel_regularizer, bias_regularizer, activity_regularizer, kernel_constraint, bias_constraint, **kwargs)\u001b[0m\n\u001b[1;32m   1142\u001b[0m                **kwargs):\n\u001b[1;32m   1143\u001b[0m     super(Dense, self).__init__(\n\u001b[0;32m-> 1144\u001b[0;31m         activity_regularizer=activity_regularizer, **kwargs)\n\u001b[0m\u001b[1;32m   1145\u001b[0m \u001b[0;34m\u001b[0m\u001b[0m\n\u001b[1;32m   1146\u001b[0m     \u001b[0mself\u001b[0m\u001b[0;34m.\u001b[0m\u001b[0munits\u001b[0m \u001b[0;34m=\u001b[0m \u001b[0mint\u001b[0m\u001b[0;34m(\u001b[0m\u001b[0munits\u001b[0m\u001b[0;34m)\u001b[0m \u001b[0;32mif\u001b[0m \u001b[0;32mnot\u001b[0m \u001b[0misinstance\u001b[0m\u001b[0;34m(\u001b[0m\u001b[0munits\u001b[0m\u001b[0;34m,\u001b[0m \u001b[0mint\u001b[0m\u001b[0;34m)\u001b[0m \u001b[0;32melse\u001b[0m \u001b[0munits\u001b[0m\u001b[0;34m\u001b[0m\u001b[0;34m\u001b[0m\u001b[0m\n",
            "\u001b[0;32m/usr/local/lib/python3.6/dist-packages/tensorflow/python/training/tracking/base.py\u001b[0m in \u001b[0;36m_method_wrapper\u001b[0;34m(self, *args, **kwargs)\u001b[0m\n\u001b[1;32m    455\u001b[0m     \u001b[0mself\u001b[0m\u001b[0;34m.\u001b[0m\u001b[0m_self_setattr_tracking\u001b[0m \u001b[0;34m=\u001b[0m \u001b[0;32mFalse\u001b[0m  \u001b[0;31m# pylint: disable=protected-access\u001b[0m\u001b[0;34m\u001b[0m\u001b[0;34m\u001b[0m\u001b[0m\n\u001b[1;32m    456\u001b[0m     \u001b[0;32mtry\u001b[0m\u001b[0;34m:\u001b[0m\u001b[0;34m\u001b[0m\u001b[0;34m\u001b[0m\u001b[0m\n\u001b[0;32m--> 457\u001b[0;31m       \u001b[0mresult\u001b[0m \u001b[0;34m=\u001b[0m \u001b[0mmethod\u001b[0m\u001b[0;34m(\u001b[0m\u001b[0mself\u001b[0m\u001b[0;34m,\u001b[0m \u001b[0;34m*\u001b[0m\u001b[0margs\u001b[0m\u001b[0;34m,\u001b[0m \u001b[0;34m**\u001b[0m\u001b[0mkwargs\u001b[0m\u001b[0;34m)\u001b[0m\u001b[0;34m\u001b[0m\u001b[0;34m\u001b[0m\u001b[0m\n\u001b[0m\u001b[1;32m    458\u001b[0m     \u001b[0;32mfinally\u001b[0m\u001b[0;34m:\u001b[0m\u001b[0;34m\u001b[0m\u001b[0;34m\u001b[0m\u001b[0m\n\u001b[1;32m    459\u001b[0m       \u001b[0mself\u001b[0m\u001b[0;34m.\u001b[0m\u001b[0m_self_setattr_tracking\u001b[0m \u001b[0;34m=\u001b[0m \u001b[0mprevious_value\u001b[0m  \u001b[0;31m# pylint: disable=protected-access\u001b[0m\u001b[0;34m\u001b[0m\u001b[0;34m\u001b[0m\u001b[0m\n",
            "\u001b[0;32m/usr/local/lib/python3.6/dist-packages/tensorflow/python/keras/engine/base_layer.py\u001b[0m in \u001b[0;36m__init__\u001b[0;34m(self, trainable, name, dtype, dynamic, **kwargs)\u001b[0m\n\u001b[1;32m    316\u001b[0m     }\n\u001b[1;32m    317\u001b[0m     \u001b[0;31m# Validate optional keyword arguments.\u001b[0m\u001b[0;34m\u001b[0m\u001b[0;34m\u001b[0m\u001b[0;34m\u001b[0m\u001b[0m\n\u001b[0;32m--> 318\u001b[0;31m     \u001b[0mgeneric_utils\u001b[0m\u001b[0;34m.\u001b[0m\u001b[0mvalidate_kwargs\u001b[0m\u001b[0;34m(\u001b[0m\u001b[0mkwargs\u001b[0m\u001b[0;34m,\u001b[0m \u001b[0mallowed_kwargs\u001b[0m\u001b[0;34m)\u001b[0m\u001b[0;34m\u001b[0m\u001b[0;34m\u001b[0m\u001b[0m\n\u001b[0m\u001b[1;32m    319\u001b[0m \u001b[0;34m\u001b[0m\u001b[0m\n\u001b[1;32m    320\u001b[0m     \u001b[0;31m# Mutable properties\u001b[0m\u001b[0;34m\u001b[0m\u001b[0;34m\u001b[0m\u001b[0;34m\u001b[0m\u001b[0m\n",
            "\u001b[0;32m/usr/local/lib/python3.6/dist-packages/tensorflow/python/keras/utils/generic_utils.py\u001b[0m in \u001b[0;36mvalidate_kwargs\u001b[0;34m(kwargs, allowed_kwargs, error_message)\u001b[0m\n\u001b[1;32m    776\u001b[0m   \u001b[0;32mfor\u001b[0m \u001b[0mkwarg\u001b[0m \u001b[0;32min\u001b[0m \u001b[0mkwargs\u001b[0m\u001b[0;34m:\u001b[0m\u001b[0;34m\u001b[0m\u001b[0;34m\u001b[0m\u001b[0m\n\u001b[1;32m    777\u001b[0m     \u001b[0;32mif\u001b[0m \u001b[0mkwarg\u001b[0m \u001b[0;32mnot\u001b[0m \u001b[0;32min\u001b[0m \u001b[0mallowed_kwargs\u001b[0m\u001b[0;34m:\u001b[0m\u001b[0;34m\u001b[0m\u001b[0;34m\u001b[0m\u001b[0m\n\u001b[0;32m--> 778\u001b[0;31m       \u001b[0;32mraise\u001b[0m \u001b[0mTypeError\u001b[0m\u001b[0;34m(\u001b[0m\u001b[0merror_message\u001b[0m\u001b[0;34m,\u001b[0m \u001b[0mkwarg\u001b[0m\u001b[0;34m)\u001b[0m\u001b[0;34m\u001b[0m\u001b[0;34m\u001b[0m\u001b[0m\n\u001b[0m\u001b[1;32m    779\u001b[0m \u001b[0;34m\u001b[0m\u001b[0m\n\u001b[1;32m    780\u001b[0m \u001b[0;34m\u001b[0m\u001b[0m\n",
            "\u001b[0;31mTypeError\u001b[0m: ('Keyword argument not understood:', 'kernal_regularizer')"
          ]
        }
      ]
    },
    {
      "cell_type": "code",
      "metadata": {
        "id": "Sg5c2N3y--si"
      },
      "source": [
        "model = keras.models.Sequentizl([\n",
        "                                 keras.layers.Flatten(input_shape=[28,28])\n",
        "])"
      ],
      "execution_count": null,
      "outputs": []
    }
  ]
}
