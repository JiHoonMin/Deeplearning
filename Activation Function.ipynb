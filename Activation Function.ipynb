{
  "nbformat": 4,
  "nbformat_minor": 0,
  "metadata": {
    "kernelspec": {
      "display_name": "Python 3",
      "language": "python",
      "name": "python3"
    },
    "language_info": {
      "codemirror_mode": {
        "name": "ipython",
        "version": 3
      },
      "file_extension": ".py",
      "mimetype": "text/x-python",
      "name": "python",
      "nbconvert_exporter": "python",
      "pygments_lexer": "ipython3",
      "version": "3.8.3"
    },
    "colab": {
      "name": "Week 9 - ipynb file for students.ipynb",
      "provenance": [],
      "collapsed_sections": [],
      "include_colab_link": true
    },
    "accelerator": "GPU"
  },
  "cells": [
    {
      "cell_type": "markdown",
      "metadata": {
        "id": "view-in-github",
        "colab_type": "text"
      },
      "source": [
        "<a href=\"https://colab.research.google.com/github/JiHoonMin/deeplearning/blob/main/Activation%20Function.ipynb\" target=\"_parent\"><img src=\"https://colab.research.google.com/assets/colab-badge.svg\" alt=\"Open In Colab\"/></a>"
      ]
    },
    {
      "cell_type": "markdown",
      "metadata": {
        "id": "6AFJBv5M8Lwm"
      },
      "source": [
        "# Imports"
      ]
    },
    {
      "cell_type": "code",
      "metadata": {
        "id": "tusfo9bN8Lwo",
        "colab": {
          "base_uri": "https://localhost:8080/",
          "height": 53
        },
        "outputId": "92338944-416a-4aeb-83d4-3a050c04c5f8"
      },
      "source": [
        "import tensorflow as tf\n",
        "from tensorflow import keras\n",
        "import numpy as np\n",
        "import os\n",
        "# to make this notebook's output stable across runs\n",
        "np.random.seed(42)\n",
        "%load_ext tensorboard\n",
        "# To plot pretty figures\n",
        "%matplotlib inline\n",
        "import matplotlib as mpl\n",
        "import matplotlib.pyplot as plt\n",
        "mpl.rc('axes', labelsize=14)\n",
        "mpl.rc('xtick', labelsize=12)\n",
        "mpl.rc('ytick', labelsize=12)"
      ],
      "execution_count": null,
      "outputs": [
        {
          "output_type": "stream",
          "text": [
            "The tensorboard extension is already loaded. To reload it, use:\n",
            "  %reload_ext tensorboard\n"
          ],
          "name": "stdout"
        }
      ]
    },
    {
      "cell_type": "code",
      "metadata": {
        "id": "nXarZoT6-HBm"
      },
      "source": [
        ""
      ],
      "execution_count": null,
      "outputs": []
    },
    {
      "cell_type": "markdown",
      "metadata": {
        "id": "UHrxb0E38Lwu"
      },
      "source": [
        "# Lab 1: Nonsaturating Activation Functions"
      ]
    },
    {
      "cell_type": "code",
      "metadata": {
        "id": "wEjY1UfA8Lwv"
      },
      "source": [
        "(X_train_full, y_train_full), (X_test, y_test) = keras.datasets.fashion_mnist.load_data()\n",
        "X_train_full = X_train_full / 255.0\n",
        "X_test = X_test / 255.0\n",
        "X_valid, X_train = X_train_full[:5000], X_train_full[5000:]\n",
        "y_valid, y_train = y_train_full[:5000], y_train_full[5000:]"
      ],
      "execution_count": null,
      "outputs": []
    },
    {
      "cell_type": "markdown",
      "metadata": {
        "id": "IRi-1uRyCPq2"
      },
      "source": [
        "## **Leaky** **Relu**"
      ]
    },
    {
      "cell_type": "code",
      "metadata": {
        "id": "AmeSuCcSAsXi"
      },
      "source": [
        "tf.random.set_seed(42)\n",
        "np.random.seed(42)\n",
        "\n",
        "model = keras.models.Sequential([\n",
        "    keras.layers.Flatten(input_shape=[28,28]),\n",
        "    keras.layers.Dense(300, kernel_initializer=\"he_normal\"),\n",
        "    keras.layers.LeakyReLU(),\n",
        "    keras.layers.Dense(100, kernel_initializer=\"he_normal\"),\n",
        "    keras.layers.LeakyReLU(),\n",
        "    keras.layers.Dense(10, activation=\"softmax\" ),\n",
        "  ])"
      ],
      "execution_count": null,
      "outputs": []
    },
    {
      "cell_type": "code",
      "metadata": {
        "id": "1Ez5fcaiAwqG",
        "colab": {
          "base_uri": "https://localhost:8080/",
          "height": 377
        },
        "outputId": "eac61a90-fc0d-4b7e-f815-5335eaf4c3ae"
      },
      "source": [
        "model.compile(loss=\"sparse_categorical_crossentropy\",\n",
        "              optimizer=keras.optimizers.SGD(lr=1e-3),\n",
        "              metrics=[\"accuracy\"])\n",
        "\n",
        "history = model.fit(X_train, y_train, epochs=10,\n",
        "                    validation_data=(X_valid,y_valid))"
      ],
      "execution_count": null,
      "outputs": [
        {
          "output_type": "stream",
          "text": [
            "Epoch 1/10\n",
            "1719/1719 [==============================] - 4s 2ms/step - loss: 1.2819 - accuracy: 0.6229 - val_loss: 0.8886 - val_accuracy: 0.7160\n",
            "Epoch 2/10\n",
            "1719/1719 [==============================] - 4s 2ms/step - loss: 0.7955 - accuracy: 0.7362 - val_loss: 0.7130 - val_accuracy: 0.7656\n",
            "Epoch 3/10\n",
            "1719/1719 [==============================] - 4s 2ms/step - loss: 0.6816 - accuracy: 0.7721 - val_loss: 0.6427 - val_accuracy: 0.7898\n",
            "Epoch 4/10\n",
            "1719/1719 [==============================] - 4s 2ms/step - loss: 0.6217 - accuracy: 0.7944 - val_loss: 0.5900 - val_accuracy: 0.8066\n",
            "Epoch 5/10\n",
            "1719/1719 [==============================] - 4s 2ms/step - loss: 0.5832 - accuracy: 0.8075 - val_loss: 0.5582 - val_accuracy: 0.8198\n",
            "Epoch 6/10\n",
            "1719/1719 [==============================] - 4s 2ms/step - loss: 0.5553 - accuracy: 0.8156 - val_loss: 0.5350 - val_accuracy: 0.8238\n",
            "Epoch 7/10\n",
            "1719/1719 [==============================] - 4s 2ms/step - loss: 0.5338 - accuracy: 0.8224 - val_loss: 0.5156 - val_accuracy: 0.8304\n",
            "Epoch 8/10\n",
            "1719/1719 [==============================] - 4s 2ms/step - loss: 0.5173 - accuracy: 0.8272 - val_loss: 0.5079 - val_accuracy: 0.8286\n",
            "Epoch 9/10\n",
            "1719/1719 [==============================] - 4s 2ms/step - loss: 0.5040 - accuracy: 0.8290 - val_loss: 0.4895 - val_accuracy: 0.8386\n",
            "Epoch 10/10\n",
            "1719/1719 [==============================] - 4s 2ms/step - loss: 0.4924 - accuracy: 0.8320 - val_loss: 0.4816 - val_accuracy: 0.8396\n"
          ],
          "name": "stdout"
        }
      ]
    },
    {
      "cell_type": "markdown",
      "metadata": {
        "id": "1V8orG3iCVcl"
      },
      "source": [
        "## **ELU**"
      ]
    },
    {
      "cell_type": "code",
      "metadata": {
        "id": "f4zJ7siVA_By"
      },
      "source": [
        "tf.random.set_seed(42)\n",
        "np.random.seed(42)\n",
        "\n",
        "model = keras.models.Sequential([\n",
        "      keras.layers.Flatten(input_shape=[28,28]),\n",
        "      keras.layers.Dense(300, kernel_initializer=\"he_normal\",activation=\"elu\"),\n",
        "      keras.layers.Dense(100, kernel_initializer=\"he_normal\",activation=\"elu\"),\n",
        "      keras.layers.Dense(10, activation=\"softmax\"),\n",
        "])"
      ],
      "execution_count": null,
      "outputs": []
    },
    {
      "cell_type": "code",
      "metadata": {
        "id": "EGy6qnbDBcSi",
        "colab": {
          "base_uri": "https://localhost:8080/",
          "height": 377
        },
        "outputId": "cceecd6b-0071-4390-e58b-d6693d766dea"
      },
      "source": [
        "model.compile(loss=\"sparse_categorical_crossentropy\",\n",
        "              optimizer=keras.optimizers.SGD(lr=1e-3),\n",
        "              metrics=[\"accuracy\"])\n",
        "\n",
        "history = model.fit(X_train, y_train, epochs=10,\n",
        "                    validation_data=(X_valid,y_valid))"
      ],
      "execution_count": null,
      "outputs": [
        {
          "output_type": "stream",
          "text": [
            "Epoch 1/10\n",
            "1719/1719 [==============================] - 4s 2ms/step - loss: 1.1201 - accuracy: 0.6462 - val_loss: 0.7927 - val_accuracy: 0.7376\n",
            "Epoch 2/10\n",
            "1719/1719 [==============================] - 4s 2ms/step - loss: 0.7228 - accuracy: 0.7570 - val_loss: 0.6571 - val_accuracy: 0.7822\n",
            "Epoch 3/10\n",
            "1719/1719 [==============================] - 4s 2ms/step - loss: 0.6316 - accuracy: 0.7878 - val_loss: 0.5999 - val_accuracy: 0.8022\n",
            "Epoch 4/10\n",
            "1719/1719 [==============================] - 4s 2ms/step - loss: 0.5824 - accuracy: 0.8044 - val_loss: 0.5562 - val_accuracy: 0.8216\n",
            "Epoch 5/10\n",
            "1719/1719 [==============================] - 4s 2ms/step - loss: 0.5508 - accuracy: 0.8149 - val_loss: 0.5306 - val_accuracy: 0.8268\n",
            "Epoch 6/10\n",
            "1719/1719 [==============================] - 4s 2ms/step - loss: 0.5281 - accuracy: 0.8201 - val_loss: 0.5113 - val_accuracy: 0.8294\n",
            "Epoch 7/10\n",
            "1719/1719 [==============================] - 4s 2ms/step - loss: 0.5108 - accuracy: 0.8253 - val_loss: 0.4957 - val_accuracy: 0.8344\n",
            "Epoch 8/10\n",
            "1719/1719 [==============================] - 4s 2ms/step - loss: 0.4975 - accuracy: 0.8300 - val_loss: 0.4888 - val_accuracy: 0.8340\n",
            "Epoch 9/10\n",
            "1719/1719 [==============================] - 4s 2ms/step - loss: 0.4867 - accuracy: 0.8315 - val_loss: 0.4744 - val_accuracy: 0.8406\n",
            "Epoch 10/10\n",
            "1719/1719 [==============================] - 4s 2ms/step - loss: 0.4771 - accuracy: 0.8351 - val_loss: 0.4679 - val_accuracy: 0.8428\n"
          ],
          "name": "stdout"
        }
      ]
    },
    {
      "cell_type": "markdown",
      "metadata": {
        "id": "RXTCM4_NCaE5"
      },
      "source": [
        "## **SELU**"
      ]
    },
    {
      "cell_type": "code",
      "metadata": {
        "id": "HpsuNAjJBjgK"
      },
      "source": [
        "tf.random.set_seed(42)\n",
        "np.random.seed(42)\n",
        "\n",
        "model = keras.models.Sequential([\n",
        "      keras.layers.Flatten(input_shape=[28,28]),\n",
        "      keras.layers.Dense(300, kernel_initializer=\"lecun_normal\",activation=\"selu\"),\n",
        "      keras.layers.Dense(100, kernel_initializer=\"lecun_normal\",activation=\"selu\"),\n",
        "      keras.layers.Dense(10, activation=\"softmax\"),\n",
        "])"
      ],
      "execution_count": null,
      "outputs": []
    },
    {
      "cell_type": "code",
      "metadata": {
        "id": "GV2_-Gt7B4Ue",
        "colab": {
          "base_uri": "https://localhost:8080/",
          "height": 377
        },
        "outputId": "94a93f99-d968-4274-faa5-bfeab4a70ba3"
      },
      "source": [
        "model.compile(loss=\"sparse_categorical_crossentropy\",\n",
        "              optimizer=keras.optimizers.SGD(lr=1e-3),\n",
        "              metrics=[\"accuracy\"])\n",
        "\n",
        "history = model.fit(X_train, y_train, epochs=10,\n",
        "                    validation_data=(X_valid,y_valid))"
      ],
      "execution_count": null,
      "outputs": [
        {
          "output_type": "stream",
          "text": [
            "Epoch 1/10\n",
            "1719/1719 [==============================] - 4s 2ms/step - loss: 0.9918 - accuracy: 0.6869 - val_loss: 0.7056 - val_accuracy: 0.7710\n",
            "Epoch 2/10\n",
            "1719/1719 [==============================] - 5s 3ms/step - loss: 0.6504 - accuracy: 0.7835 - val_loss: 0.5943 - val_accuracy: 0.8060\n",
            "Epoch 3/10\n",
            "1719/1719 [==============================] - 5s 3ms/step - loss: 0.5745 - accuracy: 0.8077 - val_loss: 0.5493 - val_accuracy: 0.8162\n",
            "Epoch 4/10\n",
            "1719/1719 [==============================] - 4s 2ms/step - loss: 0.5341 - accuracy: 0.8192 - val_loss: 0.5115 - val_accuracy: 0.8320\n",
            "Epoch 5/10\n",
            "1719/1719 [==============================] - 4s 2ms/step - loss: 0.5086 - accuracy: 0.8267 - val_loss: 0.4909 - val_accuracy: 0.8386\n",
            "Epoch 6/10\n",
            "1719/1719 [==============================] - 4s 2ms/step - loss: 0.4902 - accuracy: 0.8309 - val_loss: 0.4753 - val_accuracy: 0.8404\n",
            "Epoch 7/10\n",
            "1719/1719 [==============================] - 4s 2ms/step - loss: 0.4761 - accuracy: 0.8346 - val_loss: 0.4631 - val_accuracy: 0.8458\n",
            "Epoch 8/10\n",
            "1719/1719 [==============================] - 4s 2ms/step - loss: 0.4651 - accuracy: 0.8376 - val_loss: 0.4585 - val_accuracy: 0.8444\n",
            "Epoch 9/10\n",
            "1719/1719 [==============================] - 4s 2ms/step - loss: 0.4560 - accuracy: 0.8410 - val_loss: 0.4457 - val_accuracy: 0.8504\n",
            "Epoch 10/10\n",
            "1719/1719 [==============================] - 4s 2ms/step - loss: 0.4479 - accuracy: 0.8431 - val_loss: 0.4410 - val_accuracy: 0.8512\n"
          ],
          "name": "stdout"
        }
      ]
    },
    {
      "cell_type": "markdown",
      "metadata": {
        "id": "-m_VLW-LClR9"
      },
      "source": [
        "# Lab 2: Batch Normaliztion"
      ]
    },
    {
      "cell_type": "code",
      "metadata": {
        "id": "F5x9-FKkCkmR"
      },
      "source": [
        "model = keras.models.Sequential([\n",
        "      keras.layers.Flatten(input_shape=[28,28]),\n",
        "      keras.layers.BatchNormalization(),\n",
        "      keras.layers.Dense(300,activation=\"relu\"),\n",
        "      keras.layers.BatchNormalization(),\n",
        "      keras.layers.Dense(100,activation=\"relu\"),\n",
        "      keras.layers.BatchNormalization(),\n",
        "      keras.layers.Dense(10, activation=\"softmax\"),\n",
        "])"
      ],
      "execution_count": null,
      "outputs": []
    },
    {
      "cell_type": "code",
      "metadata": {
        "id": "k8s1mRPmCj_j",
        "colab": {
          "base_uri": "https://localhost:8080/",
          "height": 413
        },
        "outputId": "ec4d852a-5df6-4b48-b590-dc9cb57e64e9"
      },
      "source": [
        "model.summary()"
      ],
      "execution_count": null,
      "outputs": [
        {
          "output_type": "stream",
          "text": [
            "Model: \"sequential_5\"\n",
            "_________________________________________________________________\n",
            "Layer (type)                 Output Shape              Param #   \n",
            "=================================================================\n",
            "flatten_5 (Flatten)          (None, 784)               0         \n",
            "_________________________________________________________________\n",
            "batch_normalization (BatchNo (None, 784)               3136      \n",
            "_________________________________________________________________\n",
            "dense_15 (Dense)             (None, 300)               235500    \n",
            "_________________________________________________________________\n",
            "batch_normalization_1 (Batch (None, 300)               1200      \n",
            "_________________________________________________________________\n",
            "dense_16 (Dense)             (None, 100)               30100     \n",
            "_________________________________________________________________\n",
            "batch_normalization_2 (Batch (None, 100)               400       \n",
            "_________________________________________________________________\n",
            "dense_17 (Dense)             (None, 10)                1010      \n",
            "=================================================================\n",
            "Total params: 271,346\n",
            "Trainable params: 268,978\n",
            "Non-trainable params: 2,368\n",
            "_________________________________________________________________\n"
          ],
          "name": "stdout"
        }
      ]
    },
    {
      "cell_type": "code",
      "metadata": {
        "id": "oUc3jn1GDDON",
        "colab": {
          "base_uri": "https://localhost:8080/",
          "height": 377
        },
        "outputId": "53223625-4bfe-427b-f3ca-977640ff4eb8"
      },
      "source": [
        "model.compile(loss=\"sparse_categorical_crossentropy\",\n",
        "              optimizer=keras.optimizers.SGD(lr=1e-3),\n",
        "              metrics=[\"accuracy\"])\n",
        "\n",
        "history = model.fit(X_train, y_train, epochs=10,\n",
        "                    validation_data=(X_valid,y_valid))"
      ],
      "execution_count": null,
      "outputs": [
        {
          "output_type": "stream",
          "text": [
            "Epoch 1/10\n",
            "1719/1719 [==============================] - 7s 4ms/step - loss: 0.8293 - accuracy: 0.7220 - val_loss: 0.5539 - val_accuracy: 0.8160\n",
            "Epoch 2/10\n",
            "1719/1719 [==============================] - 6s 4ms/step - loss: 0.5704 - accuracy: 0.8034 - val_loss: 0.4793 - val_accuracy: 0.8376\n",
            "Epoch 3/10\n",
            "1719/1719 [==============================] - 6s 3ms/step - loss: 0.5161 - accuracy: 0.8213 - val_loss: 0.4424 - val_accuracy: 0.8492\n",
            "Epoch 4/10\n",
            "1719/1719 [==============================] - 6s 3ms/step - loss: 0.4789 - accuracy: 0.8314 - val_loss: 0.4212 - val_accuracy: 0.8566\n",
            "Epoch 5/10\n",
            "1719/1719 [==============================] - 6s 3ms/step - loss: 0.4548 - accuracy: 0.8406 - val_loss: 0.4050 - val_accuracy: 0.8618\n",
            "Epoch 6/10\n",
            "1719/1719 [==============================] - 6s 4ms/step - loss: 0.4386 - accuracy: 0.8443 - val_loss: 0.3931 - val_accuracy: 0.8636\n",
            "Epoch 7/10\n",
            "1719/1719 [==============================] - 6s 4ms/step - loss: 0.4254 - accuracy: 0.8503 - val_loss: 0.3829 - val_accuracy: 0.8640\n",
            "Epoch 8/10\n",
            "1719/1719 [==============================] - 6s 3ms/step - loss: 0.4123 - accuracy: 0.8538 - val_loss: 0.3758 - val_accuracy: 0.8668\n",
            "Epoch 9/10\n",
            "1719/1719 [==============================] - 6s 4ms/step - loss: 0.4027 - accuracy: 0.8579 - val_loss: 0.3690 - val_accuracy: 0.8678\n",
            "Epoch 10/10\n",
            "1719/1719 [==============================] - 6s 3ms/step - loss: 0.3925 - accuracy: 0.8614 - val_loss: 0.3629 - val_accuracy: 0.8668\n"
          ],
          "name": "stdout"
        }
      ]
    },
    {
      "cell_type": "code",
      "metadata": {
        "id": "n2v3AML6DJCO"
      },
      "source": [
        "model = keras.models.Sequential([\n",
        "      keras.layers.Flatten(input_shape=[28,28]),\n",
        "      keras.layers.BatchNormalization(),\n",
        "      keras.layers.Dense(300,use_bias=False),\n",
        "      keras.layers.BatchNormalization(),\n",
        "      keras.layers.Activation(\"relu\"),\n",
        "      keras.layers.Dense(100,use_bias=False),\n",
        "      keras.layers.BatchNormalization(),\n",
        "      keras.layers.Activation(\"relu\"),\n",
        "      keras.layers.Dense(10, activation=\"softmax\"),\n",
        "])"
      ],
      "execution_count": null,
      "outputs": []
    },
    {
      "cell_type": "code",
      "metadata": {
        "id": "VTdqFSp_DmWg",
        "colab": {
          "base_uri": "https://localhost:8080/",
          "height": 485
        },
        "outputId": "f0f4adc7-fed9-4656-ee06-9c5f9688618e"
      },
      "source": [
        "model.summary()"
      ],
      "execution_count": null,
      "outputs": [
        {
          "output_type": "stream",
          "text": [
            "Model: \"sequential_7\"\n",
            "_________________________________________________________________\n",
            "Layer (type)                 Output Shape              Param #   \n",
            "=================================================================\n",
            "flatten_7 (Flatten)          (None, 784)               0         \n",
            "_________________________________________________________________\n",
            "batch_normalization_6 (Batch (None, 784)               3136      \n",
            "_________________________________________________________________\n",
            "dense_21 (Dense)             (None, 300)               235200    \n",
            "_________________________________________________________________\n",
            "batch_normalization_7 (Batch (None, 300)               1200      \n",
            "_________________________________________________________________\n",
            "activation_1 (Activation)    (None, 300)               0         \n",
            "_________________________________________________________________\n",
            "dense_22 (Dense)             (None, 100)               30000     \n",
            "_________________________________________________________________\n",
            "batch_normalization_8 (Batch (None, 100)               400       \n",
            "_________________________________________________________________\n",
            "activation_2 (Activation)    (None, 100)               0         \n",
            "_________________________________________________________________\n",
            "dense_23 (Dense)             (None, 10)                1010      \n",
            "=================================================================\n",
            "Total params: 270,946\n",
            "Trainable params: 268,578\n",
            "Non-trainable params: 2,368\n",
            "_________________________________________________________________\n"
          ],
          "name": "stdout"
        }
      ]
    },
    {
      "cell_type": "code",
      "metadata": {
        "id": "Fh1mDzEHDwtA",
        "colab": {
          "base_uri": "https://localhost:8080/",
          "height": 1000
        },
        "outputId": "e782280c-3124-4a16-c447-7e6ece725169"
      },
      "source": [
        "model.compile(loss=\"sparse_categorical_crossentropy\",\n",
        "              optimizer=keras.optimizers.SGD(lr=1e-3),\n",
        "              metrics=[\"accuracy\"])\n",
        "\n",
        "history = model.fit(X_train, y_train, epochs=30,\n",
        "                    validation_data=(X_valid,y_valid))"
      ],
      "execution_count": null,
      "outputs": [
        {
          "output_type": "stream",
          "text": [
            "Epoch 1/30\n",
            "1719/1719 [==============================] - 7s 4ms/step - loss: 0.4198 - accuracy: 0.8548 - val_loss: 0.3809 - val_accuracy: 0.8658\n",
            "Epoch 2/30\n",
            "1719/1719 [==============================] - 6s 4ms/step - loss: 0.4111 - accuracy: 0.8555 - val_loss: 0.3746 - val_accuracy: 0.8696\n",
            "Epoch 3/30\n",
            "1719/1719 [==============================] - 6s 3ms/step - loss: 0.4076 - accuracy: 0.8580 - val_loss: 0.3692 - val_accuracy: 0.8716\n",
            "Epoch 4/30\n",
            "1719/1719 [==============================] - 6s 4ms/step - loss: 0.3964 - accuracy: 0.8618 - val_loss: 0.3649 - val_accuracy: 0.8750\n",
            "Epoch 5/30\n",
            "1719/1719 [==============================] - 6s 3ms/step - loss: 0.3884 - accuracy: 0.8639 - val_loss: 0.3610 - val_accuracy: 0.8752\n",
            "Epoch 6/30\n",
            "1719/1719 [==============================] - 6s 3ms/step - loss: 0.3834 - accuracy: 0.8659 - val_loss: 0.3569 - val_accuracy: 0.8756\n",
            "Epoch 7/30\n",
            "1719/1719 [==============================] - 6s 4ms/step - loss: 0.3790 - accuracy: 0.8675 - val_loss: 0.3530 - val_accuracy: 0.8786\n",
            "Epoch 8/30\n",
            "1719/1719 [==============================] - 6s 4ms/step - loss: 0.3724 - accuracy: 0.8693 - val_loss: 0.3503 - val_accuracy: 0.8802\n",
            "Epoch 9/30\n",
            "1719/1719 [==============================] - 6s 3ms/step - loss: 0.3671 - accuracy: 0.8711 - val_loss: 0.3482 - val_accuracy: 0.8804\n",
            "Epoch 10/30\n",
            "1719/1719 [==============================] - 6s 4ms/step - loss: 0.3625 - accuracy: 0.8735 - val_loss: 0.3447 - val_accuracy: 0.8814\n",
            "Epoch 11/30\n",
            "1719/1719 [==============================] - 6s 4ms/step - loss: 0.3581 - accuracy: 0.8737 - val_loss: 0.3421 - val_accuracy: 0.8832\n",
            "Epoch 12/30\n",
            "1719/1719 [==============================] - 7s 4ms/step - loss: 0.3559 - accuracy: 0.8747 - val_loss: 0.3409 - val_accuracy: 0.8826\n",
            "Epoch 13/30\n",
            "1719/1719 [==============================] - 6s 4ms/step - loss: 0.3511 - accuracy: 0.8760 - val_loss: 0.3376 - val_accuracy: 0.8820\n",
            "Epoch 14/30\n",
            "1719/1719 [==============================] - 6s 4ms/step - loss: 0.3457 - accuracy: 0.8778 - val_loss: 0.3367 - val_accuracy: 0.8816\n",
            "Epoch 15/30\n",
            "1719/1719 [==============================] - 6s 4ms/step - loss: 0.3420 - accuracy: 0.8792 - val_loss: 0.3347 - val_accuracy: 0.8812\n",
            "Epoch 16/30\n",
            "1719/1719 [==============================] - 6s 3ms/step - loss: 0.3377 - accuracy: 0.8817 - val_loss: 0.3337 - val_accuracy: 0.8836\n",
            "Epoch 17/30\n",
            "1719/1719 [==============================] - 6s 4ms/step - loss: 0.3355 - accuracy: 0.8824 - val_loss: 0.3318 - val_accuracy: 0.8826\n",
            "Epoch 18/30\n",
            "1719/1719 [==============================] - 6s 3ms/step - loss: 0.3317 - accuracy: 0.8836 - val_loss: 0.3306 - val_accuracy: 0.8822\n",
            "Epoch 19/30\n",
            "1719/1719 [==============================] - 6s 3ms/step - loss: 0.3278 - accuracy: 0.8845 - val_loss: 0.3293 - val_accuracy: 0.8836\n",
            "Epoch 20/30\n",
            "1719/1719 [==============================] - 6s 4ms/step - loss: 0.3232 - accuracy: 0.8858 - val_loss: 0.3280 - val_accuracy: 0.8836\n",
            "Epoch 21/30\n",
            "1719/1719 [==============================] - 6s 3ms/step - loss: 0.3193 - accuracy: 0.8875 - val_loss: 0.3262 - val_accuracy: 0.8842\n",
            "Epoch 22/30\n",
            "1719/1719 [==============================] - 6s 3ms/step - loss: 0.3175 - accuracy: 0.8888 - val_loss: 0.3251 - val_accuracy: 0.8850\n",
            "Epoch 23/30\n",
            "1719/1719 [==============================] - 6s 3ms/step - loss: 0.3151 - accuracy: 0.8892 - val_loss: 0.3248 - val_accuracy: 0.8844\n",
            "Epoch 24/30\n",
            "1719/1719 [==============================] - 6s 4ms/step - loss: 0.3138 - accuracy: 0.8892 - val_loss: 0.3228 - val_accuracy: 0.8860\n",
            "Epoch 25/30\n",
            "1719/1719 [==============================] - 6s 4ms/step - loss: 0.3111 - accuracy: 0.8896 - val_loss: 0.3223 - val_accuracy: 0.8858\n",
            "Epoch 26/30\n",
            "1719/1719 [==============================] - 6s 4ms/step - loss: 0.3047 - accuracy: 0.8924 - val_loss: 0.3202 - val_accuracy: 0.8848\n",
            "Epoch 27/30\n",
            "1719/1719 [==============================] - 6s 4ms/step - loss: 0.3052 - accuracy: 0.8929 - val_loss: 0.3198 - val_accuracy: 0.8856\n",
            "Epoch 28/30\n",
            "1719/1719 [==============================] - 6s 3ms/step - loss: 0.3015 - accuracy: 0.8934 - val_loss: 0.3183 - val_accuracy: 0.8860\n",
            "Epoch 29/30\n",
            "1719/1719 [==============================] - 6s 3ms/step - loss: 0.2973 - accuracy: 0.8939 - val_loss: 0.3180 - val_accuracy: 0.8858\n",
            "Epoch 30/30\n",
            "1719/1719 [==============================] - 6s 4ms/step - loss: 0.2951 - accuracy: 0.8960 - val_loss: 0.3184 - val_accuracy: 0.8868\n"
          ],
          "name": "stdout"
        }
      ]
    },
    {
      "cell_type": "markdown",
      "metadata": {
        "id": "mRDp1fqO8Lwy"
      },
      "source": [
        "# Lab 3: Reusing Pretrained Layers"
      ]
    },
    {
      "cell_type": "code",
      "metadata": {
        "id": "eVrWCadW8Lwz"
      },
      "source": [
        "(X_train_full, y_train_full), (X_test, y_test) = keras.datasets.fashion_mnist.load_data()\n",
        "X_train_full = X_train_full / 255.0\n",
        "X_test = X_test / 255.0\n",
        "X_valid, X_train = X_train_full[:5000], X_train_full[5000:]\n",
        "y_valid, y_train = y_train_full[:5000], y_train_full[5000:]\n",
        "\n",
        "def split_dataset(X, y):\n",
        "    y_5_or_6 = (y == 5) | (y == 6) # sandals or shirts\n",
        "    y_A = y[~y_5_or_6]\n",
        "    y_A[y_A > 6] -= 2 # class indices 7, 8, 9 should be moved to 5, 6, 7\n",
        "    y_B = (y[y_5_or_6] == 6).astype(np.float32) # binary classification task: is it a shirt (class 6)?\n",
        "    return ((X[~y_5_or_6], y_A),\n",
        "            (X[y_5_or_6], y_B))\n",
        "\n",
        "(X_train_A, y_train_A), (X_train_B, y_train_B) = split_dataset(X_train, y_train)\n",
        "(X_valid_A, y_valid_A), (X_valid_B, y_valid_B) = split_dataset(X_valid, y_valid)\n",
        "(X_test_A, y_test_A), (X_test_B, y_test_B) = split_dataset(X_test, y_test)\n",
        "X_train_B = X_train_B[:200]\n",
        "y_train_B = y_train_B[:200]"
      ],
      "execution_count": null,
      "outputs": []
    },
    {
      "cell_type": "code",
      "metadata": {
        "id": "VyF9c9o4JWFW",
        "colab": {
          "base_uri": "https://localhost:8080/",
          "height": 35
        },
        "outputId": "0acaaf9a-0b6d-4f6e-e62d-1fe9ef7564fa"
      },
      "source": [
        "X_train_A.shape"
      ],
      "execution_count": null,
      "outputs": [
        {
          "output_type": "execute_result",
          "data": {
            "text/plain": [
              "(43986, 28, 28)"
            ]
          },
          "metadata": {
            "tags": []
          },
          "execution_count": 56
        }
      ]
    },
    {
      "cell_type": "code",
      "metadata": {
        "id": "TNMA_5YfJYvW",
        "colab": {
          "base_uri": "https://localhost:8080/",
          "height": 35
        },
        "outputId": "08bf77fc-e7e2-4efa-d217-62166595becf"
      },
      "source": [
        "X_train_B.shape"
      ],
      "execution_count": null,
      "outputs": [
        {
          "output_type": "execute_result",
          "data": {
            "text/plain": [
              "(200, 28, 28)"
            ]
          },
          "metadata": {
            "tags": []
          },
          "execution_count": 57
        }
      ]
    },
    {
      "cell_type": "code",
      "metadata": {
        "id": "76Qly-bSJbMV",
        "colab": {
          "base_uri": "https://localhost:8080/",
          "height": 53
        },
        "outputId": "6fd79726-201c-432c-bfc9-e6ff60c158ac"
      },
      "source": [
        "y_train_A[:30]"
      ],
      "execution_count": null,
      "outputs": [
        {
          "output_type": "execute_result",
          "data": {
            "text/plain": [
              "array([4, 0, 5, 7, 7, 7, 4, 4, 3, 4, 0, 1, 6, 3, 4, 3, 2, 6, 5, 3, 4, 5,\n",
              "       1, 3, 4, 2, 0, 6, 7, 1], dtype=uint8)"
            ]
          },
          "metadata": {
            "tags": []
          },
          "execution_count": 58
        }
      ]
    },
    {
      "cell_type": "code",
      "metadata": {
        "id": "UmmCzWrzJd54",
        "colab": {
          "base_uri": "https://localhost:8080/",
          "height": 53
        },
        "outputId": "97076306-6e06-4082-ba52-bc7502a04a56"
      },
      "source": [
        "y_train_B[:30]"
      ],
      "execution_count": null,
      "outputs": [
        {
          "output_type": "execute_result",
          "data": {
            "text/plain": [
              "array([1., 1., 0., 0., 0., 0., 1., 1., 1., 0., 0., 1., 1., 0., 0., 0., 0.,\n",
              "       0., 0., 1., 1., 0., 0., 1., 1., 0., 1., 1., 1., 1.], dtype=float32)"
            ]
          },
          "metadata": {
            "tags": []
          },
          "execution_count": 59
        }
      ]
    },
    {
      "cell_type": "code",
      "metadata": {
        "id": "Ssze-DsYJgd9"
      },
      "source": [
        "tf.random.set_seed(42)\n",
        "np.random.seed(42)\n",
        "\n",
        "model_A = keras.models.Sequential()\n",
        "model_A.add(keras.layers.Flatten(input_shape = [28,28]))\n",
        "for n_hidden in (300, 100, 50, 50, 50):\n",
        "    model_A.add(keras.layers.Dense(n_hidden, activation=\"selu\"))\n",
        "model_A.add(keras.layers.Dense(8, activation=\"softmax\"))"
      ],
      "execution_count": null,
      "outputs": []
    },
    {
      "cell_type": "code",
      "metadata": {
        "id": "4x_z8V7LKNIL",
        "colab": {
          "base_uri": "https://localhost:8080/",
          "height": 413
        },
        "outputId": "517bb72f-d44a-46aa-cc89-a63653e135c1"
      },
      "source": [
        "model_A.summary()"
      ],
      "execution_count": null,
      "outputs": [
        {
          "output_type": "stream",
          "text": [
            "Model: \"sequential_13\"\n",
            "_________________________________________________________________\n",
            "Layer (type)                 Output Shape              Param #   \n",
            "=================================================================\n",
            "flatten_12 (Flatten)         (None, 784)               0         \n",
            "_________________________________________________________________\n",
            "dense_48 (Dense)             (None, 300)               235500    \n",
            "_________________________________________________________________\n",
            "dense_49 (Dense)             (None, 100)               30100     \n",
            "_________________________________________________________________\n",
            "dense_50 (Dense)             (None, 50)                5050      \n",
            "_________________________________________________________________\n",
            "dense_51 (Dense)             (None, 50)                2550      \n",
            "_________________________________________________________________\n",
            "dense_52 (Dense)             (None, 50)                2550      \n",
            "_________________________________________________________________\n",
            "dense_53 (Dense)             (None, 8)                 408       \n",
            "=================================================================\n",
            "Total params: 276,158\n",
            "Trainable params: 276,158\n",
            "Non-trainable params: 0\n",
            "_________________________________________________________________\n"
          ],
          "name": "stdout"
        }
      ]
    },
    {
      "cell_type": "code",
      "metadata": {
        "id": "oETc9sOGKRl-",
        "colab": {
          "base_uri": "https://localhost:8080/",
          "height": 737
        },
        "outputId": "28361d55-c4fa-45c6-a55b-e9c4dba80915"
      },
      "source": [
        "model_A.compile(loss=\"sparse_categorical_crossentropy\",\n",
        "              optimizer=keras.optimizers.SGD(lr=1e-3),\n",
        "              metrics=[\"accuracy\"])\n",
        "\n",
        "history = model_A.fit(X_train_A, y_train_A, epochs=20,\n",
        "                    validation_data=(X_valid_A,y_valid_A))\n",
        "\n",
        "model_A.save(\"my_model_A.h5\")"
      ],
      "execution_count": null,
      "outputs": [
        {
          "output_type": "stream",
          "text": [
            "Epoch 1/20\n",
            "1375/1375 [==============================] - 3s 3ms/step - loss: 0.5926 - accuracy: 0.8103 - val_loss: 0.3890 - val_accuracy: 0.8677\n",
            "Epoch 2/20\n",
            "1375/1375 [==============================] - 3s 2ms/step - loss: 0.3523 - accuracy: 0.8786 - val_loss: 0.3288 - val_accuracy: 0.8822\n",
            "Epoch 3/20\n",
            "1375/1375 [==============================] - 3s 2ms/step - loss: 0.3170 - accuracy: 0.8896 - val_loss: 0.3013 - val_accuracy: 0.8986\n",
            "Epoch 4/20\n",
            "1375/1375 [==============================] - 3s 2ms/step - loss: 0.2973 - accuracy: 0.8974 - val_loss: 0.2894 - val_accuracy: 0.9028\n",
            "Epoch 5/20\n",
            "1375/1375 [==============================] - 3s 2ms/step - loss: 0.2835 - accuracy: 0.9022 - val_loss: 0.2775 - val_accuracy: 0.9066\n",
            "Epoch 6/20\n",
            "1375/1375 [==============================] - 3s 2ms/step - loss: 0.2729 - accuracy: 0.9061 - val_loss: 0.2735 - val_accuracy: 0.9066\n",
            "Epoch 7/20\n",
            "1375/1375 [==============================] - 3s 2ms/step - loss: 0.2641 - accuracy: 0.9092 - val_loss: 0.2722 - val_accuracy: 0.9083\n",
            "Epoch 8/20\n",
            "1375/1375 [==============================] - 3s 2ms/step - loss: 0.2573 - accuracy: 0.9124 - val_loss: 0.2588 - val_accuracy: 0.9141\n",
            "Epoch 9/20\n",
            "1375/1375 [==============================] - 3s 2ms/step - loss: 0.2518 - accuracy: 0.9135 - val_loss: 0.2563 - val_accuracy: 0.9143\n",
            "Epoch 10/20\n",
            "1375/1375 [==============================] - 3s 2ms/step - loss: 0.2469 - accuracy: 0.9153 - val_loss: 0.2540 - val_accuracy: 0.9163\n",
            "Epoch 11/20\n",
            "1375/1375 [==============================] - 3s 2ms/step - loss: 0.2422 - accuracy: 0.9175 - val_loss: 0.2494 - val_accuracy: 0.9158\n",
            "Epoch 12/20\n",
            "1375/1375 [==============================] - 3s 2ms/step - loss: 0.2382 - accuracy: 0.9187 - val_loss: 0.2511 - val_accuracy: 0.9128\n",
            "Epoch 13/20\n",
            "1375/1375 [==============================] - 3s 2ms/step - loss: 0.2350 - accuracy: 0.9200 - val_loss: 0.2445 - val_accuracy: 0.9153\n",
            "Epoch 14/20\n",
            "1375/1375 [==============================] - 3s 2ms/step - loss: 0.2315 - accuracy: 0.9212 - val_loss: 0.2414 - val_accuracy: 0.9175\n",
            "Epoch 15/20\n",
            "1375/1375 [==============================] - 3s 2ms/step - loss: 0.2287 - accuracy: 0.9215 - val_loss: 0.2447 - val_accuracy: 0.9180\n",
            "Epoch 16/20\n",
            "1375/1375 [==============================] - 3s 2ms/step - loss: 0.2254 - accuracy: 0.9224 - val_loss: 0.2384 - val_accuracy: 0.9195\n",
            "Epoch 17/20\n",
            "1375/1375 [==============================] - 3s 2ms/step - loss: 0.2230 - accuracy: 0.9236 - val_loss: 0.2407 - val_accuracy: 0.9175\n",
            "Epoch 18/20\n",
            "1375/1375 [==============================] - 3s 2ms/step - loss: 0.2201 - accuracy: 0.9246 - val_loss: 0.2424 - val_accuracy: 0.9148\n",
            "Epoch 19/20\n",
            "1375/1375 [==============================] - 3s 2ms/step - loss: 0.2178 - accuracy: 0.9253 - val_loss: 0.2330 - val_accuracy: 0.9203\n",
            "Epoch 20/20\n",
            "1375/1375 [==============================] - 3s 2ms/step - loss: 0.2156 - accuracy: 0.9260 - val_loss: 0.2332 - val_accuracy: 0.9208\n"
          ],
          "name": "stdout"
        }
      ]
    },
    {
      "cell_type": "code",
      "metadata": {
        "id": "_AuuTJkrLQMC"
      },
      "source": [
        "model_B = keras.models.Sequential()\n",
        "model_B.add(keras.layers.Flatten(input_shape = [28,28]))\n",
        "for n_hidden in (300, 100, 50, 50, 50):\n",
        "    model_B.add(keras.layers.Dense(n_hidden, activation=\"selu\"))\n",
        "model_B.add(keras.layers.Dense(1, activation=\"sigmoid\"))"
      ],
      "execution_count": null,
      "outputs": []
    },
    {
      "cell_type": "code",
      "metadata": {
        "id": "M5mCxereLh_M",
        "colab": {
          "base_uri": "https://localhost:8080/",
          "height": 413
        },
        "outputId": "4cc0ecdf-c4a8-478c-b303-451bf94fec2e"
      },
      "source": [
        "model_B.summary()"
      ],
      "execution_count": null,
      "outputs": [
        {
          "output_type": "stream",
          "text": [
            "Model: \"sequential_16\"\n",
            "_________________________________________________________________\n",
            "Layer (type)                 Output Shape              Param #   \n",
            "=================================================================\n",
            "flatten_14 (Flatten)         (None, 784)               0         \n",
            "_________________________________________________________________\n",
            "dense_61 (Dense)             (None, 300)               235500    \n",
            "_________________________________________________________________\n",
            "dense_62 (Dense)             (None, 100)               30100     \n",
            "_________________________________________________________________\n",
            "dense_63 (Dense)             (None, 50)                5050      \n",
            "_________________________________________________________________\n",
            "dense_64 (Dense)             (None, 50)                2550      \n",
            "_________________________________________________________________\n",
            "dense_65 (Dense)             (None, 50)                2550      \n",
            "_________________________________________________________________\n",
            "dense_66 (Dense)             (None, 1)                 51        \n",
            "=================================================================\n",
            "Total params: 275,801\n",
            "Trainable params: 275,801\n",
            "Non-trainable params: 0\n",
            "_________________________________________________________________\n"
          ],
          "name": "stdout"
        }
      ]
    },
    {
      "cell_type": "code",
      "metadata": {
        "id": "WaGZBygVNNUl",
        "colab": {
          "base_uri": "https://localhost:8080/",
          "height": 737
        },
        "outputId": "06d64414-a921-42cf-ca4d-64bbf1642777"
      },
      "source": [
        "model_B.compile(loss=\"binary_crossentropy\",\n",
        "              optimizer=keras.optimizers.SGD(lr=1e-3),\n",
        "              metrics=[\"accuracy\"])\n",
        "\n",
        "history = model_B.fit(X_train_B, y_train_B, epochs=20,\n",
        "                    validation_data=(X_valid_B,y_valid_B))"
      ],
      "execution_count": null,
      "outputs": [
        {
          "output_type": "stream",
          "text": [
            "Epoch 1/20\n",
            "7/7 [==============================] - 0s 29ms/step - loss: 0.9004 - accuracy: 0.4400 - val_loss: 0.6755 - val_accuracy: 0.6207\n",
            "Epoch 2/20\n",
            "7/7 [==============================] - 0s 13ms/step - loss: 0.5768 - accuracy: 0.6950 - val_loss: 0.4992 - val_accuracy: 0.7809\n",
            "Epoch 3/20\n",
            "7/7 [==============================] - 0s 11ms/step - loss: 0.4214 - accuracy: 0.8400 - val_loss: 0.3924 - val_accuracy: 0.8651\n",
            "Epoch 4/20\n",
            "7/7 [==============================] - 0s 11ms/step - loss: 0.3309 - accuracy: 0.9050 - val_loss: 0.3224 - val_accuracy: 0.9037\n",
            "Epoch 5/20\n",
            "7/7 [==============================] - 0s 10ms/step - loss: 0.2699 - accuracy: 0.9350 - val_loss: 0.2737 - val_accuracy: 0.9402\n",
            "Epoch 6/20\n",
            "7/7 [==============================] - 0s 11ms/step - loss: 0.2258 - accuracy: 0.9700 - val_loss: 0.2382 - val_accuracy: 0.9574\n",
            "Epoch 7/20\n",
            "7/7 [==============================] - 0s 15ms/step - loss: 0.1957 - accuracy: 0.9800 - val_loss: 0.2110 - val_accuracy: 0.9675\n",
            "Epoch 8/20\n",
            "7/7 [==============================] - 0s 11ms/step - loss: 0.1702 - accuracy: 0.9950 - val_loss: 0.1900 - val_accuracy: 0.9706\n",
            "Epoch 9/20\n",
            "7/7 [==============================] - 0s 11ms/step - loss: 0.1513 - accuracy: 0.9950 - val_loss: 0.1727 - val_accuracy: 0.9716\n",
            "Epoch 10/20\n",
            "7/7 [==============================] - 0s 12ms/step - loss: 0.1355 - accuracy: 0.9900 - val_loss: 0.1587 - val_accuracy: 0.9746\n",
            "Epoch 11/20\n",
            "7/7 [==============================] - 0s 13ms/step - loss: 0.1227 - accuracy: 0.9950 - val_loss: 0.1475 - val_accuracy: 0.9777\n",
            "Epoch 12/20\n",
            "7/7 [==============================] - 0s 12ms/step - loss: 0.1124 - accuracy: 0.9950 - val_loss: 0.1378 - val_accuracy: 0.9797\n",
            "Epoch 13/20\n",
            "7/7 [==============================] - 0s 12ms/step - loss: 0.1032 - accuracy: 0.9950 - val_loss: 0.1297 - val_accuracy: 0.9797\n",
            "Epoch 14/20\n",
            "7/7 [==============================] - 0s 14ms/step - loss: 0.0956 - accuracy: 0.9950 - val_loss: 0.1223 - val_accuracy: 0.9807\n",
            "Epoch 15/20\n",
            "7/7 [==============================] - 0s 13ms/step - loss: 0.0883 - accuracy: 0.9950 - val_loss: 0.1158 - val_accuracy: 0.9817\n",
            "Epoch 16/20\n",
            "7/7 [==============================] - 0s 13ms/step - loss: 0.0826 - accuracy: 0.9950 - val_loss: 0.1105 - val_accuracy: 0.9828\n",
            "Epoch 17/20\n",
            "7/7 [==============================] - 0s 14ms/step - loss: 0.0769 - accuracy: 0.9950 - val_loss: 0.1056 - val_accuracy: 0.9838\n",
            "Epoch 18/20\n",
            "7/7 [==============================] - 0s 13ms/step - loss: 0.0724 - accuracy: 0.9950 - val_loss: 0.1013 - val_accuracy: 0.9848\n",
            "Epoch 19/20\n",
            "7/7 [==============================] - 0s 12ms/step - loss: 0.0680 - accuracy: 0.9950 - val_loss: 0.0974 - val_accuracy: 0.9848\n",
            "Epoch 20/20\n",
            "7/7 [==============================] - 0s 11ms/step - loss: 0.0641 - accuracy: 0.9950 - val_loss: 0.0940 - val_accuracy: 0.9848\n"
          ],
          "name": "stdout"
        }
      ]
    },
    {
      "cell_type": "code",
      "metadata": {
        "id": "821ZyLs_MRin"
      },
      "source": [
        "#Load model A\n",
        "model_A = keras.models.load_model(\"my_model_A.h5\")\n",
        "# Reuse all the layers of model A except for the output layer\n",
        "model_B_on_A = keras.models.Sequential(model_A.layers[:-1])\n",
        "#output Layer\n",
        "model_B_on_A.add(keras.layers.Dense(1, activation=\"sigmoid\"))"
      ],
      "execution_count": null,
      "outputs": []
    },
    {
      "cell_type": "code",
      "metadata": {
        "id": "iZ4pZ-pJOAak"
      },
      "source": [
        "model_A_clone = keras.models.clone_model(model_A)\n",
        "model_A_clone.set_weights(model_A.get_weights())"
      ],
      "execution_count": null,
      "outputs": []
    },
    {
      "cell_type": "code",
      "metadata": {
        "id": "FybZ5Fb9OMWD",
        "colab": {
          "base_uri": "https://localhost:8080/",
          "height": 161
        },
        "outputId": "e0c49036-9ff3-4072-b0ac-394da3b13335"
      },
      "source": [
        "for layer in model_B_on_A.layers[:-1]:\n",
        "    layer.trainable = False\n",
        "\n",
        "model_B_on_A.compile(loss=\"binary_crossentropy\",\n",
        "                     optimizer=keras.optimizers.SGD(lr=1e-3),\n",
        "                     metrics=[\"accuracy\"])\n",
        "\n",
        "history = model_B_on_A.fit(X_train_B, y_train_B, epochs=4,\n",
        "                           validation_data = (X_valid_B,y_valid_B))"
      ],
      "execution_count": null,
      "outputs": [
        {
          "output_type": "stream",
          "text": [
            "Epoch 1/4\n",
            "7/7 [==============================] - 0s 25ms/step - loss: 0.8861 - accuracy: 0.4250 - val_loss: 0.8430 - val_accuracy: 0.4838\n",
            "Epoch 2/4\n",
            "7/7 [==============================] - 0s 12ms/step - loss: 0.8033 - accuracy: 0.5100 - val_loss: 0.7688 - val_accuracy: 0.5487\n",
            "Epoch 3/4\n",
            "7/7 [==============================] - 0s 10ms/step - loss: 0.7298 - accuracy: 0.6250 - val_loss: 0.7056 - val_accuracy: 0.5974\n",
            "Epoch 4/4\n",
            "7/7 [==============================] - 0s 11ms/step - loss: 0.6675 - accuracy: 0.6650 - val_loss: 0.6502 - val_accuracy: 0.6491\n"
          ],
          "name": "stdout"
        }
      ]
    },
    {
      "cell_type": "code",
      "metadata": {
        "id": "IZnocG_gOzoI",
        "colab": {
          "base_uri": "https://localhost:8080/",
          "height": 593
        },
        "outputId": "af4949fd-ab98-42fd-e216-cd48a2077e3f"
      },
      "source": [
        "for layer in model_B_on_A.layers[:-1]:\n",
        "  layer.trainable = True\n",
        "\n",
        "model_B_on_A.compile(loss=\"binary_crossentropy\",\n",
        "                     optimizer=keras.optimizers.SGD(lr=1e-3),\n",
        "                     metrics=[\"accuracy\"])\n",
        "history = model_B_on_A.fit(X_train_B, y_train_B, epochs=16,\n",
        "                           validation_data=(X_valid_B, y_valid_B))"
      ],
      "execution_count": null,
      "outputs": [
        {
          "output_type": "stream",
          "text": [
            "Epoch 1/16\n",
            "7/7 [==============================] - 0s 26ms/step - loss: 0.5174 - accuracy: 0.7550 - val_loss: 0.4065 - val_accuracy: 0.8519\n",
            "Epoch 2/16\n",
            "7/7 [==============================] - 0s 11ms/step - loss: 0.3403 - accuracy: 0.9100 - val_loss: 0.3008 - val_accuracy: 0.9290\n",
            "Epoch 3/16\n",
            "7/7 [==============================] - 0s 11ms/step - loss: 0.2523 - accuracy: 0.9600 - val_loss: 0.2420 - val_accuracy: 0.9635\n",
            "Epoch 4/16\n",
            "7/7 [==============================] - 0s 11ms/step - loss: 0.2022 - accuracy: 0.9800 - val_loss: 0.2026 - val_accuracy: 0.9726\n",
            "Epoch 5/16\n",
            "7/7 [==============================] - 0s 11ms/step - loss: 0.1682 - accuracy: 0.9900 - val_loss: 0.1753 - val_accuracy: 0.9777\n",
            "Epoch 6/16\n",
            "7/7 [==============================] - 0s 11ms/step - loss: 0.1439 - accuracy: 0.9950 - val_loss: 0.1549 - val_accuracy: 0.9807\n",
            "Epoch 7/16\n",
            "7/7 [==============================] - 0s 10ms/step - loss: 0.1258 - accuracy: 0.9950 - val_loss: 0.1386 - val_accuracy: 0.9828\n",
            "Epoch 8/16\n",
            "7/7 [==============================] - 0s 11ms/step - loss: 0.1111 - accuracy: 0.9950 - val_loss: 0.1268 - val_accuracy: 0.9828\n",
            "Epoch 9/16\n",
            "7/7 [==============================] - 0s 11ms/step - loss: 0.1003 - accuracy: 0.9950 - val_loss: 0.1162 - val_accuracy: 0.9838\n",
            "Epoch 10/16\n",
            "7/7 [==============================] - 0s 11ms/step - loss: 0.0909 - accuracy: 0.9950 - val_loss: 0.1083 - val_accuracy: 0.9858\n",
            "Epoch 11/16\n",
            "7/7 [==============================] - 0s 12ms/step - loss: 0.0836 - accuracy: 0.9950 - val_loss: 0.1010 - val_accuracy: 0.9878\n",
            "Epoch 12/16\n",
            "7/7 [==============================] - 0s 13ms/step - loss: 0.0767 - accuracy: 0.9950 - val_loss: 0.0949 - val_accuracy: 0.9878\n",
            "Epoch 13/16\n",
            "7/7 [==============================] - 0s 14ms/step - loss: 0.0711 - accuracy: 1.0000 - val_loss: 0.0894 - val_accuracy: 0.9868\n",
            "Epoch 14/16\n",
            "7/7 [==============================] - 0s 12ms/step - loss: 0.0661 - accuracy: 1.0000 - val_loss: 0.0850 - val_accuracy: 0.9878\n",
            "Epoch 15/16\n",
            "7/7 [==============================] - 0s 11ms/step - loss: 0.0620 - accuracy: 1.0000 - val_loss: 0.0811 - val_accuracy: 0.9878\n",
            "Epoch 16/16\n",
            "7/7 [==============================] - 0s 11ms/step - loss: 0.0585 - accuracy: 1.0000 - val_loss: 0.0776 - val_accuracy: 0.9878\n"
          ],
          "name": "stdout"
        }
      ]
    },
    {
      "cell_type": "code",
      "metadata": {
        "id": "nmRTrlXlP3WX",
        "colab": {
          "base_uri": "https://localhost:8080/",
          "height": 53
        },
        "outputId": "3a679472-f628-4d83-edbb-202c664aab5f"
      },
      "source": [
        "model_B.evaluate(X_test_B,y_test_B)"
      ],
      "execution_count": null,
      "outputs": [
        {
          "output_type": "stream",
          "text": [
            "63/63 [==============================] - 0s 2ms/step - loss: 0.0862 - accuracy: 0.9890\n"
          ],
          "name": "stdout"
        },
        {
          "output_type": "execute_result",
          "data": {
            "text/plain": [
              "[0.08622046560049057, 0.9890000224113464]"
            ]
          },
          "metadata": {
            "tags": []
          },
          "execution_count": 82
        }
      ]
    },
    {
      "cell_type": "code",
      "metadata": {
        "id": "MlRwT9hcQLd9",
        "colab": {
          "base_uri": "https://localhost:8080/",
          "height": 53
        },
        "outputId": "3e14e666-bbb3-40c1-eb85-e8244469988e"
      },
      "source": [
        "model_B_on_A.evaluate(X_test_B,y_test_B)"
      ],
      "execution_count": null,
      "outputs": [
        {
          "output_type": "stream",
          "text": [
            "63/63 [==============================] - 0s 2ms/step - loss: 0.0764 - accuracy: 0.9955\n"
          ],
          "name": "stdout"
        },
        {
          "output_type": "execute_result",
          "data": {
            "text/plain": [
              "[0.07639189064502716, 0.9955000281333923]"
            ]
          },
          "metadata": {
            "tags": []
          },
          "execution_count": 83
        }
      ]
    }
  ]
}