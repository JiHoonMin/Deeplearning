{
  "nbformat": 4,
  "nbformat_minor": 0,
  "metadata": {
    "kernelspec": {
      "display_name": "Python 3",
      "language": "python",
      "name": "python3"
    },
    "language_info": {
      "codemirror_mode": {
        "name": "ipython",
        "version": 3
      },
      "file_extension": ".py",
      "mimetype": "text/x-python",
      "name": "python",
      "nbconvert_exporter": "python",
      "pygments_lexer": "ipython3",
      "version": "3.8.3"
    },
    "colab": {
      "name": "Week 4 - ipynb file for students.ipynb",
      "provenance": [],
      "collapsed_sections": [],
      "include_colab_link": true
    }
  },
  "cells": [
    {
      "cell_type": "markdown",
      "metadata": {
        "id": "view-in-github",
        "colab_type": "text"
      },
      "source": [
        "<a href=\"https://colab.research.google.com/github/JiHoonMin/python/blob/main/linear_model_gradient.ipynb\" target=\"_parent\"><img src=\"https://colab.research.google.com/assets/colab-badge.svg\" alt=\"Open In Colab\"/></a>"
      ]
    },
    {
      "cell_type": "code",
      "metadata": {
        "id": "ayZECWcGyw1C"
      },
      "source": [
        "import sklearn\n",
        "import numpy as np\n",
        "import numpy.random as rnd\n",
        "\n",
        "from sklearn.linear_model import LinearRegression\n",
        "from sklearn.linear_model import SGDRegressor\n",
        "from sklearn.preprocessing import PolynomialFeatures\n",
        "\n",
        "# to make this notebook's output stable across runs\n",
        "np.random.seed(42)\n",
        "\n",
        "# To plot pretty figures\n",
        "%matplotlib inline\n",
        "import matplotlib as mpl\n",
        "import matplotlib.pyplot as plt\n",
        "mpl.rc('axes', labelsize=14)\n",
        "mpl.rc('xtick', labelsize=12)\n",
        "mpl.rc('ytick', labelsize=12)\n",
        "\n",
        "# Ignore useless warnings (see SciPy issue #5998)\n",
        "import warnings\n",
        "warnings.filterwarnings(action=\"ignore\", message=\"^internal gelsd\")\n",
        "\n",
        "def plot_generated_data(X, y):\n",
        "    plt.plot(X, y, \"b.\")\n",
        "    plt.xlabel(\"$x_1$\", fontsize=18)\n",
        "    plt.ylabel(\"$y$\", rotation=0, fontsize=18)\n",
        "    plt.show()\n",
        "    \n",
        "\n",
        "    \n",
        "\n",
        "def plot_polynomial_regression(poly_features, lin_reg):\n",
        "    X_new=np.linspace(-3, 3, 100).reshape(100, 1)\n",
        "    X_new_poly = poly_features.transform(X_new)\n",
        "    y_new = lin_reg.predict(X_new_poly)\n",
        "    plt.plot(X, y, \"b.\")\n",
        "    plt.plot(X_new, y_new, \"r-\", linewidth=2, label=\"Predictions\")\n",
        "    plt.xlabel(\"$x_1$\", fontsize=18)\n",
        "    plt.ylabel(\"$y$\", rotation=0, fontsize=18)\n",
        "    plt.legend(loc=\"upper left\", fontsize=14)\n",
        "    plt.axis([-3, 3, 0, 10])\n",
        "    plt.show()"
      ],
      "execution_count": null,
      "outputs": []
    },
    {
      "cell_type": "code",
      "metadata": {
        "id": "c3aevcnty3vc",
        "colab": {
          "base_uri": "https://localhost:8080/",
          "height": 290
        },
        "outputId": "1b6141b5-ad67-4287-810c-e5c3ad221785"
      },
      "source": [
        "X = 2 * np.random.rand(100,1)\n",
        "y = 4 + 3 * X + np.random.randn(100,1)\n",
        "X_b = np.c_[np.ones((100,1)),X]\n",
        "plot_generated_data(X,y)"
      ],
      "execution_count": null,
      "outputs": [
        {
          "output_type": "display_data",
          "data": {
            "image/png": "[encoded data removed]",
            "text/plain": [
              "<Figure size 432x288 with 1 Axes>"
            ]
          },
          "metadata": {
            "tags": [],
            "needs_background": "light"
          }
        }
      ]
    },
    {
      "cell_type": "code",
      "metadata": {
        "id": "DoEh9RcBzYYi",
        "colab": {
          "base_uri": "https://localhost:8080/",
          "height": 53
        },
        "outputId": "eaed01e0-e577-4dae-cec0-56b0a361418e"
      },
      "source": [
        "eta = 0.1\n",
        "n_iterations = 1000\n",
        "m = 100\n",
        "\n",
        "theta = np.random.randn(2,1) # random initialization\n",
        "\n",
        "for iteration in range(n_iterations):\n",
        "  gradients = 2/m * X_b.T.dot(X_b.dot(theta) - y)\n",
        "  theta = theta - eta * gradients\n",
        "\n",
        "print(theta)"
      ],
      "execution_count": null,
      "outputs": [
        {
          "output_type": "stream",
          "text": [
            "[[4.21509616]\n",
            " [2.77011339]]\n"
          ],
          "name": "stdout"
        }
      ]
    },
    {
      "cell_type": "code",
      "metadata": {
        "id": "lZeDVRA0zy6k"
      },
      "source": [
        "def plot_gradient_descent(theta, eta, theta_path=None):\n",
        "    X_new = np.array([[0], [2]])\n",
        "    X_new_b = np.c_[np.ones((2, 1)), X_new]  # add x0 = 1 to each instance\n",
        "    m = len(X_b)\n",
        "    plt.plot(X, y, \"b.\")\n",
        "    n_iterations = 1000\n",
        "    for iteration in range(n_iterations):\n",
        "        if iteration < 10:\n",
        "            y_predict = X_new_b.dot(theta)\n",
        "            style = \"b-\" if iteration > 0 else \"r--\"\n",
        "            plt.plot(X_new, y_predict, style)\n",
        "        gradients = 2/m * X_b.T.dot(X_b.dot(theta) - y)\n",
        "        theta = theta - eta * gradients\n",
        "        if theta_path is not None:\n",
        "            theta_path.append(theta)\n",
        "    plt.xlabel(\"$x_1$\", fontsize=18)\n",
        "    plt.axis([0, 2, 0, 15])\n",
        "    plt.title(r\"$\\eta = {}$\".format(eta), fontsize=16)"
      ],
      "execution_count": null,
      "outputs": []
    },
    {
      "cell_type": "code",
      "metadata": {
        "id": "Q2GXG-WNz90f",
        "colab": {
          "base_uri": "https://localhost:8080/",
          "height": 310
        },
        "outputId": "8da7377e-e51b-4e47-a785-20ea4fe0e8f7"
      },
      "source": [
        "theta = np.random.randn(2,1) #random intializtion\n",
        "\n",
        "plt.figure(figsize = (10,4))\n",
        "plt.subplot(131); plot_gradient_descent(theta, eta=0.02)\n",
        "plt.ylabel(\"$y$\", rotation = 0, fontsize=18)\n",
        "plt.subplot(132); plot_gradient_descent(theta, eta=0.1)\n",
        "plt.subplot(133); plot_gradient_descent(theta, eta=0.5)\n",
        "\n",
        "plt.show()"
      ],
      "execution_count": null,
      "outputs": [
        {
          "output_type": "display_data",
          "data": {
            "image/png": "[encoded data removed]",
            "text/plain": [
              "<Figure size 720x288 with 3 Axes>"
            ]
          },
          "metadata": {
            "tags": [],
            "needs_background": "light"
          }
        }
      ]
    },
    {
      "cell_type": "code",
      "metadata": {
        "id": "xp7fTw802BuD",
        "colab": {
          "base_uri": "https://localhost:8080/",
          "height": 53
        },
        "outputId": "8bf695f7-b80f-47fa-cb94-6069fb124c35"
      },
      "source": [
        "m = len(X_b) # number of traing samples\n",
        "\n",
        "n_epochs = 50\n",
        "\n",
        "t0, t1 = 5, 50  # Learning schedule hyperparameters\n",
        "\n",
        "def learning_schedule(t):\n",
        "  return t0 / (t + t1)\n",
        "\n",
        "  theta = np.random.randn(2,1) # random initializtion\n",
        "\n",
        "  for epoch in range(n_epochs):\n",
        "    for i in range(m):\n",
        "      random_index = np.random.randint(m)\n",
        "      xi = X_b[random_index:random_index+1]\n",
        "      yi = y[random_index:random_index+1]\n",
        "      gradients = 2 * xi.T.dot(xi.dot(theta) - yi)\n",
        "      eta = learning_schedule(epoch * m + i)\n",
        "      theta = theta - eta * gradients\n",
        "print(theta)"
      ],
      "execution_count": null,
      "outputs": [
        {
          "output_type": "stream",
          "text": [
            "[[4.15920149]\n",
            " [2.70822291]]\n"
          ],
          "name": "stdout"
        }
      ]
    },
    {
      "cell_type": "code",
      "metadata": {
        "id": "WkY3iI1h226c"
      },
      "source": [
        "def plot_stochastic_gradient_descent(X, y):\n",
        "    X_b = np.c_[np.ones((100, 1)), X]  # add x0 = 1 to each instance\n",
        "    X_new = np.array([[0], [2]])\n",
        "    X_new_b = np.c_[np.ones((2, 1)), X_new]  # add x0 = 1 to each instance\n",
        "\n",
        "    m = len(X_b)\n",
        "    n_epochs = 50\n",
        "    \n",
        "    theta = np.random.randn(2,1)  # random initialization\n",
        "\n",
        "    for epoch in range(n_epochs):\n",
        "        for i in range(m):\n",
        "            if epoch == 0 and i < 20:                    # not shown in the book\n",
        "                y_predict = X_new_b.dot(theta)           # not shown\n",
        "                style = \"b-\" if i > 0 else \"r--\"         # not shown\n",
        "                plt.plot(X_new, y_predict, style)        # not shown\n",
        "            random_index = np.random.randint(m)\n",
        "            xi = X_b[random_index:random_index+1]\n",
        "            yi = y[random_index:random_index+1]\n",
        "            gradients = 2 * xi.T.dot(xi.dot(theta) - yi)\n",
        "            eta = learning_schedule(epoch * m + i)\n",
        "            theta = theta - eta * gradients\n",
        "\n",
        "    plt.plot(X, y, \"b.\")                                 # not shown\n",
        "    plt.xlabel(\"$x_1$\", fontsize=18)                     # not shown\n",
        "    plt.ylabel(\"$y$\", rotation=0, fontsize=18)           # not shown\n",
        "    plt.axis([0, 2, 0, 15])                              # not shown\n",
        "    plt.show()                                           # not shown\n",
        "    "
      ],
      "execution_count": null,
      "outputs": []
    },
    {
      "cell_type": "code",
      "metadata": {
        "id": "xHC7NimD29TU",
        "colab": {
          "base_uri": "https://localhost:8080/",
          "height": 290
        },
        "outputId": "1bcf6fc8-b2d0-4258-aa23-642dd8f42585"
      },
      "source": [
        "plot_stochastic_gradient_descent(X,y)"
      ],
      "execution_count": null,
      "outputs": [
        {
          "output_type": "display_data",
          "data": {
            "image/png": "[encoded data removed]",
            "text/plain": [
              "<Figure size 432x288 with 1 Axes>"
            ]
          },
          "metadata": {
            "tags": [],
            "needs_background": "light"
          }
        }
      ]
    },
    {
      "cell_type": "code",
      "metadata": {
        "id": "8UpQK0TY3BPE",
        "colab": {
          "base_uri": "https://localhost:8080/",
          "height": 35
        },
        "outputId": "28e6c0cf-f8fc-446e-b23c-8269c7e4ae45"
      },
      "source": [
        "from sklearn.linear_model import SGDRegressor\n",
        "\n",
        "sgd_reg = SGDRegressor(max_iter=1000, tol=1e-3, penalty = None,eta0=0.1,random_state=42)\n",
        "sgd_reg.fit(X, y.ravel())\n",
        "sgd_reg.intercept_, sgd_reg.coef_"
      ],
      "execution_count": null,
      "outputs": [
        {
          "output_type": "execute_result",
          "data": {
            "text/plain": [
              "(array([4.24365286]), array([2.8250878]))"
            ]
          },
          "metadata": {
            "tags": []
          },
          "execution_count": 9
        }
      ]
    },
    {
      "cell_type": "code",
      "metadata": {
        "id": "QTnoVoro3fiv",
        "colab": {
          "base_uri": "https://localhost:8080/",
          "height": 53
        },
        "outputId": "d6b253db-3e95-4320-ffae-17d65cfb7411"
      },
      "source": [
        "n_iterations = 50\n",
        "minibatch_size = 20\n",
        "\n",
        "theta = np.random.randn(2,1) # random initialization\n",
        "\n",
        "t0, t1 = 200, 1000\n",
        "def learning_schedule(t):\n",
        "  return t0 / (t +t1)\n",
        "\n",
        "t=0\n",
        "for epoch in range(n_iterations):\n",
        "  shuffled_indices = np.random.permutation(m)\n",
        "  X_b_shuffled = X_b[shuffled_indices]\n",
        "  y_shuffled = y[shuffled_indices]\n",
        "  for i in range(0,m,minibatch_size):\n",
        "    t += 1\n",
        "    xi = X_b_shuffled[i:i+minibatch_size]\n",
        "    yi = y_shuffled[i:i+minibatch_size]\n",
        "    gradients = 2/minibatch_size * xi.T.dot(xi.dot(theta) - yi)\n",
        "    eta = learning_schedule(t)\n",
        "    theta = theta - eta * gradients\n",
        "print(theta)"
      ],
      "execution_count": null,
      "outputs": [
        {
          "output_type": "stream",
          "text": [
            "[[4.15920149]\n",
            " [2.70822291]]\n"
          ],
          "name": "stdout"
        }
      ]
    },
    {
      "cell_type": "markdown",
      "metadata": {
        "id": "GnrUv4VyBNHn"
      },
      "source": [
        "# QUESTION 1"
      ]
    },
    {
      "cell_type": "code",
      "metadata": {
        "id": "vStbRkqE82vR"
      },
      "source": [
        "np.random.seed(42)\n",
        "X = 5 * np.random.rand(100,1)\n",
        "y= 20+ 9 *X + np.random.rand(100,1)*3\n",
        "X_b = np.c_[np.ones((100,1)),X]"
      ],
      "execution_count": null,
      "outputs": []
    },
    {
      "cell_type": "code",
      "metadata": {
        "id": "TdMVQWTEASKh",
        "colab": {
          "base_uri": "https://localhost:8080/",
          "height": 53
        },
        "outputId": "ce78e3a5-d07d-4264-f69c-23b93b535537"
      },
      "source": [
        "np.random.seed(42)\n",
        "eta = 0.1\n",
        "n_iterations = 100\n",
        "m = 100\n",
        "\n",
        "theta = np.random.randn(2,1) # random initialization\n",
        "\n",
        "for iteration in range(n_iterations):\n",
        "  gradients = 2/m * X_b.T.dot(X_b.dot(theta) - y)\n",
        "  theta = theta - eta * gradients\n",
        "\n",
        "print(theta)"
      ],
      "execution_count": null,
      "outputs": [
        {
          "output_type": "stream",
          "text": [
            "[[21.45968787]\n",
            " [ 9.00544635]]\n"
          ],
          "name": "stdout"
        }
      ]
    },
    {
      "cell_type": "code",
      "metadata": {
        "id": "9Xligi4K--OG",
        "colab": {
          "base_uri": "https://localhost:8080/",
          "height": 53
        },
        "outputId": "286983ef-aff0-4377-dd45-bd1489bdbbc4"
      },
      "source": [
        "np.random.seed(42)\n",
        "eta= 0.2\n",
        "n_iterations= 100\n",
        "m=100\n",
        "\n",
        "theta = np.random.randn(2,1) # random initialization\n",
        "\n",
        "for iteration in range(n_iterations):\n",
        "  gradients = 2/m * X_b.T.dot(X_b.dot(theta) - y)\n",
        "  theta = theta - eta * gradients\n",
        "\n",
        "print(theta)"
      ],
      "execution_count": null,
      "outputs": [
        {
          "output_type": "stream",
          "text": [
            "[[-2.35490402e+38]\n",
            " [-7.47084698e+38]]\n"
          ],
          "name": "stdout"
        }
      ]
    },
    {
      "cell_type": "markdown",
      "metadata": {
        "id": "rpYbf917BTWi"
      },
      "source": [
        "## QUESTION 2"
      ]
    },
    {
      "cell_type": "code",
      "metadata": {
        "id": "mIDNz1FFAuWf",
        "colab": {
          "base_uri": "https://localhost:8080/",
          "height": 53
        },
        "outputId": "fc344c1c-3769-49cc-f3a4-889ff8aab0f5"
      },
      "source": [
        "n_iterations = 50\n",
        "minibatch_size = 20\n",
        "\n",
        "theta = np.random.randn(2,1) # random initialization\n",
        "\n",
        "t0, t1 = 200, 1000\n",
        "\n",
        "def learning_schedule(t):\n",
        "  n = epoch//10\n",
        "  return 0.1 *2**(-n)\n",
        "\n",
        "t=0\n",
        "for epoch in range(n_iterations):\n",
        "  shuffled_indices = np.random.permutation(m)\n",
        "  X_b_shuffled = X_b[shuffled_indices]\n",
        "  y_shuffled = y[shuffled_indices]\n",
        "  for i in range(0,m,minibatch_size):\n",
        "    t += 1\n",
        "    xi = X_b_shuffled[i:i+minibatch_size]\n",
        "    yi = y_shuffled[i:i+minibatch_size]\n",
        "    gradients = 2/minibatch_size * xi.T.dot(xi.dot(theta) - yi)\n",
        "    eta = learning_schedule(t)\n",
        "    theta = theta - eta * gradients\n",
        "print(theta)"
      ],
      "execution_count": null,
      "outputs": [
        {
          "output_type": "stream",
          "text": [
            "[[21.4498059 ]\n",
            " [ 9.01364193]]\n"
          ],
          "name": "stdout"
        }
      ]
    },
    {
      "cell_type": "code",
      "metadata": {
        "id": "jOrq7kzBCSt1"
      },
      "source": [
        ""
      ],
      "execution_count": null,
      "outputs": []
    },
    {
      "cell_type": "code",
      "metadata": {
        "id": "qIb1wZwzB8J6"
      },
      "source": [
        ""
      ],
      "execution_count": null,
      "outputs": []
    },
    {
      "cell_type": "code",
      "metadata": {
        "id": "X0rJDd3m81XM"
      },
      "source": [
        ""
      ],
      "execution_count": null,
      "outputs": []
    },
    {
      "cell_type": "code",
      "metadata": {
        "id": "mriESHCp8zic"
      },
      "source": [
        ""
      ],
      "execution_count": null,
      "outputs": []
    },
    {
      "cell_type": "code",
      "metadata": {
        "id": "TaH7O59S3dzj"
      },
      "source": [
        ""
      ],
      "execution_count": null,
      "outputs": []
    },
    {
      "cell_type": "code",
      "metadata": {
        "id": "nR0xuLzc3a49"
      },
      "source": [
        ""
      ],
      "execution_count": null,
      "outputs": []
    },
    {
      "cell_type": "code",
      "metadata": {
        "id": "xTemkiRc1_9n"
      },
      "source": [
        ""
      ],
      "execution_count": null,
      "outputs": []
    },
    {
      "cell_type": "code",
      "metadata": {
        "id": "yW4Kilu816nX"
      },
      "source": [
        ""
      ],
      "execution_count": null,
      "outputs": []
    },
    {
      "cell_type": "code",
      "metadata": {
        "id": "i7oV5WoBzHtE"
      },
      "source": [
        ""
      ],
      "execution_count": null,
      "outputs": []
    }
  ]
}